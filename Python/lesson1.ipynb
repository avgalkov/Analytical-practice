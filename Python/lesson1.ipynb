{
 "cells": [
  {
   "cell_type": "code",
   "execution_count": 2,
   "id": "6f2d8c9f",
   "metadata": {},
   "outputs": [],
   "source": [
    "age = 31\n",
    "name = 'Alex'"
   ]
  },
  {
   "cell_type": "code",
   "execution_count": 3,
   "id": "ee65b8b8",
   "metadata": {},
   "outputs": [],
   "source": [
    "user_info = ['Alex', 'Galkov', 60.0, 1]"
   ]
  },
  {
   "cell_type": "code",
   "execution_count": 5,
   "id": "6971f7e5",
   "metadata": {},
   "outputs": [],
   "source": [
    "salaries = [ 42, 80, 100, 86]"
   ]
  },
  {
   "cell_type": "code",
   "execution_count": 6,
   "id": "a414059e",
   "metadata": {},
   "outputs": [],
   "source": [
    "first = salaries[0]"
   ]
  },
  {
   "cell_type": "code",
   "execution_count": 7,
   "id": "db63ea5b",
   "metadata": {},
   "outputs": [
    {
     "name": "stdout",
     "output_type": "stream",
     "text": [
      "80\n",
      "100\n",
      "86\n"
     ]
    }
   ],
   "source": [
    "for i in salaries:\n",
    "    if i > 70:\n",
    "        print(i)"
   ]
  },
  {
   "cell_type": "code",
   "execution_count": 8,
   "id": "2cac16a1",
   "metadata": {},
   "outputs": [],
   "source": [
    "user_ages = [10, 18, 21, 35, 42, 27, 12, 16]"
   ]
  },
  {
   "cell_type": "code",
   "execution_count": 9,
   "id": "3df358a7",
   "metadata": {
    "scrolled": true
   },
   "outputs": [
    {
     "name": "stdout",
     "output_type": "stream",
     "text": [
      "21\n",
      "35\n",
      "42\n",
      "27\n"
     ]
    }
   ],
   "source": [
    "for i in user_ages:\n",
    "    if i > 18:\n",
    "        print(i)"
   ]
  },
  {
   "cell_type": "code",
   "execution_count": 13,
   "id": "345d3c23",
   "metadata": {},
   "outputs": [],
   "source": [
    "worker = ['Olya', 'Silyutina', 350000, 3]"
   ]
  },
  {
   "cell_type": "code",
   "execution_count": 25,
   "id": "3c17b69c",
   "metadata": {},
   "outputs": [],
   "source": [
    "if worker[3] < 2:\n",
    "    position = 'junior'\n",
    "elif 2 <= worker[3] <= 5:\n",
    "    position = 'middle'\n",
    "else:\n",
    "    position = 'senior'\n",
    "status = worker[0] + ' ' + worker[1] + ' ' +  'is' + ' ' + position"
   ]
  },
  {
   "cell_type": "code",
   "execution_count": 26,
   "id": "fcfffa17",
   "metadata": {},
   "outputs": [
    {
     "name": "stdout",
     "output_type": "stream",
     "text": [
      "Olya Silyutina is middle\n"
     ]
    }
   ],
   "source": [
    "print(status)"
   ]
  },
  {
   "cell_type": "code",
   "execution_count": 27,
   "id": "580f48b6",
   "metadata": {},
   "outputs": [],
   "source": [
    "values = [12, 134, 10, 47, 100, 20, 50, 160, 210]"
   ]
  },
  {
   "cell_type": "code",
   "execution_count": 30,
   "id": "8d25b6f5",
   "metadata": {},
   "outputs": [
    {
     "name": "stdout",
     "output_type": "stream",
     "text": [
      "[10, 100, 20, 50, 160, 210]\n"
     ]
    }
   ],
   "source": [
    "tens = []\n",
    "for i in range(len(values)):\n",
    "    if values[i] % 10 == 0:\n",
    "        tens.append(values[i])\n",
    "print(tens)"
   ]
  },
  {
   "cell_type": "code",
   "execution_count": 38,
   "id": "3ac761e4",
   "metadata": {},
   "outputs": [],
   "source": [
    "workers = [['Olya', 'Silyutina', 35000, 1],\n",
    "           ['Anna', 'Blagova', 50000, 1],\n",
    "           ['Efrem', 'Kapusta', 150000, 6],\n",
    "           ['Ignat', 'Mirzalizade', 80000, 2]]\n",
    "           "
   ]
  },
  {
   "cell_type": "code",
   "execution_count": 39,
   "id": "e1633ef4",
   "metadata": {},
   "outputs": [
    {
     "name": "stdout",
     "output_type": "stream",
     "text": [
      "Olya Silyutina is junior\n",
      "Anna Blagova is junior\n",
      "Efrem Kapusta is senior\n",
      "Ignat Mirzalizade is middle\n"
     ]
    }
   ],
   "source": [
    "for i in range(len(workers)):\n",
    "    for j in range(len(workers[i])):\n",
    "        if workers[i][3] < 2:\n",
    "            position = 'junior'\n",
    "        elif 2 <= workers[i][3] <= 5:\n",
    "            position = 'middle'\n",
    "        else:\n",
    "            position = 'senior'\n",
    "    print(workers[i][0] + ' ' + workers[i][1] + ' ' +  'is' + ' ' + position)"
   ]
  },
  {
   "cell_type": "code",
   "execution_count": 41,
   "id": "517605f3",
   "metadata": {},
   "outputs": [
    {
     "name": "stdout",
     "output_type": "stream",
     "text": [
      "[0, 2, 4, 6, 8, 10]\n"
     ]
    }
   ],
   "source": [
    "lst = []\n",
    "for i in range(0,11,2):\n",
    "    lst.append(i)\n",
    "print(lst)"
   ]
  },
  {
   "cell_type": "code",
   "execution_count": 46,
   "id": "3ffcee49",
   "metadata": {},
   "outputs": [],
   "source": [
    "salaries_dict = {'name' : 'Masha', \n",
    "                 'surname' : 'Volkova', \n",
    "                 'age' : 25, \n",
    "                 'salary' : 60000, \n",
    "                 'position' : 'junior'}"
   ]
  },
  {
   "cell_type": "code",
   "execution_count": 47,
   "id": "3244b63d",
   "metadata": {},
   "outputs": [],
   "source": [
    "users_dict = {'mvolkova': {'name' : 'Masha', \n",
    "                         'surname' : 'Volkova', \n",
    "                         'age' : 25, \n",
    "                         'salary' : 60000, \n",
    "                         'position' : 'junior'},\n",
    "             'pvoronov':{'name' : 'Pavel', \n",
    "                         'surname' : 'Voronov', \n",
    "                         'age' : 29, \n",
    "                         'salary' : 100000, \n",
    "                         'position' : 'junior'},\n",
    "              'pparker':{'name' : 'Pater', \n",
    "                         'surname' : 'Parker', \n",
    "                         'age' : 33, \n",
    "                         'salary' : 150000, \n",
    "                         'position' : 'middle'},\n",
    "              'akarpov':{'name' : 'Anatoly', \n",
    "                         'surname' : 'Karpov', \n",
    "                         'age' : 30, \n",
    "                         'salary' : 250000, \n",
    "                         'position' : 'senior'},\n",
    "            }"
   ]
  },
  {
   "cell_type": "code",
   "execution_count": 52,
   "id": "f6cc3316",
   "metadata": {
    "scrolled": true
   },
   "outputs": [
    {
     "name": "stdout",
     "output_type": "stream",
     "text": [
      "{'name': 'Masha', 'surname': 'Volkova', 'age': 25, 'salary': 60000, 'position': 'junior'}\n"
     ]
    }
   ],
   "source": [
    "print(users_dict['mvolkova'])"
   ]
  },
  {
   "cell_type": "code",
   "execution_count": null,
   "id": "c5e7951e",
   "metadata": {},
   "outputs": [],
   "source": []
  }
 ],
 "metadata": {
  "kernelspec": {
   "display_name": "Python 3 (ipykernel)",
   "language": "python",
   "name": "python3"
  },
  "language_info": {
   "codemirror_mode": {
    "name": "ipython",
    "version": 3
   },
   "file_extension": ".py",
   "mimetype": "text/x-python",
   "name": "python",
   "nbconvert_exporter": "python",
   "pygments_lexer": "ipython3",
   "version": "3.9.13"
  }
 },
 "nbformat": 4,
 "nbformat_minor": 5
}
