{
 "cells": [
  {
   "cell_type": "markdown",
   "id": "3cbfbf63",
   "metadata": {},
   "source": [
    "### Анализ лояльности покупателей:"
   ]
  },
  {
   "cell_type": "code",
   "execution_count": 85,
   "id": "d8122aa9",
   "metadata": {},
   "outputs": [],
   "source": [
    "import pandas as pd\n",
    "import seaborn as sns\n",
    "import matplotlib.pyplot as plt\n",
    "%matplotlib inline"
   ]
  },
  {
   "cell_type": "code",
   "execution_count": 94,
   "id": "8ae0fa0e",
   "metadata": {},
   "outputs": [],
   "source": [
    "df = pd.read_csv('/Users/79295/Desktop/GITHUB/Analytical-practice/datasets/lesson_3_data.csv',\n",
    "                encoding = 'windows-1251')"
   ]
  },
  {
   "cell_type": "code",
   "execution_count": 8,
   "id": "2bed50eb",
   "metadata": {},
   "outputs": [
    {
     "data": {
      "text/html": [
       "<div>\n",
       "<style scoped>\n",
       "    .dataframe tbody tr th:only-of-type {\n",
       "        vertical-align: middle;\n",
       "    }\n",
       "\n",
       "    .dataframe tbody tr th {\n",
       "        vertical-align: top;\n",
       "    }\n",
       "\n",
       "    .dataframe thead th {\n",
       "        text-align: right;\n",
       "    }\n",
       "</style>\n",
       "<table border=\"1\" class=\"dataframe\">\n",
       "  <thead>\n",
       "    <tr style=\"text-align: right;\">\n",
       "      <th></th>\n",
       "      <th>Unnamed: 0</th>\n",
       "      <th>tk</th>\n",
       "      <th>pl</th>\n",
       "      <th>dia</th>\n",
       "      <th>hs</th>\n",
       "      <th>tc</th>\n",
       "      <th>cta</th>\n",
       "      <th>id_art</th>\n",
       "      <th>id_subsubfam</th>\n",
       "      <th>id_subfam</th>\n",
       "      <th>...</th>\n",
       "      <th>id_famn</th>\n",
       "      <th>id_seccion</th>\n",
       "      <th>id_subagr</th>\n",
       "      <th>id_agr</th>\n",
       "      <th>vta</th>\n",
       "      <th>uni</th>\n",
       "      <th>id_artn</th>\n",
       "      <th>art_sp</th>\n",
       "      <th>fam_sp</th>\n",
       "      <th>fam_en</th>\n",
       "    </tr>\n",
       "  </thead>\n",
       "  <tbody>\n",
       "    <tr>\n",
       "      <th>0</th>\n",
       "      <td>1242</td>\n",
       "      <td>120071109002055793</td>\n",
       "      <td>1</td>\n",
       "      <td>2007/11/09</td>\n",
       "      <td>0.505729</td>\n",
       "      <td>110000761</td>\n",
       "      <td>11000076</td>\n",
       "      <td>21895</td>\n",
       "      <td>101070640100</td>\n",
       "      <td>1010706401</td>\n",
       "      <td>...</td>\n",
       "      <td>10107064</td>\n",
       "      <td>10107</td>\n",
       "      <td>101</td>\n",
       "      <td>1</td>\n",
       "      <td>0.68</td>\n",
       "      <td>1.0</td>\n",
       "      <td>21895</td>\n",
       "      <td>MARAVILLA        500 G Store_Brand</td>\n",
       "      <td>PASTA ALIMENTICIA SE</td>\n",
       "      <td>pasta</td>\n",
       "    </tr>\n",
       "    <tr>\n",
       "      <th>1</th>\n",
       "      <td>1243</td>\n",
       "      <td>120070601004053633</td>\n",
       "      <td>1</td>\n",
       "      <td>2007/06/01</td>\n",
       "      <td>0.588519</td>\n",
       "      <td>110000761</td>\n",
       "      <td>11000076</td>\n",
       "      <td>21816</td>\n",
       "      <td>101070640100</td>\n",
       "      <td>1010706401</td>\n",
       "      <td>...</td>\n",
       "      <td>10107064</td>\n",
       "      <td>10107</td>\n",
       "      <td>101</td>\n",
       "      <td>1</td>\n",
       "      <td>0.38</td>\n",
       "      <td>1.0</td>\n",
       "      <td>21816</td>\n",
       "      <td>FIDEO CABELLIN   500 G Store_Brand</td>\n",
       "      <td>PASTA ALIMENTICIA SE</td>\n",
       "      <td>pasta</td>\n",
       "    </tr>\n",
       "    <tr>\n",
       "      <th>2</th>\n",
       "      <td>1244</td>\n",
       "      <td>120070928004076410</td>\n",
       "      <td>1</td>\n",
       "      <td>2007/09/28</td>\n",
       "      <td>0.785498</td>\n",
       "      <td>28491841</td>\n",
       "      <td>2849184</td>\n",
       "      <td>562840</td>\n",
       "      <td>101070640100</td>\n",
       "      <td>1010706401</td>\n",
       "      <td>...</td>\n",
       "      <td>10107064</td>\n",
       "      <td>10107</td>\n",
       "      <td>101</td>\n",
       "      <td>1</td>\n",
       "      <td>1.55</td>\n",
       "      <td>2.0</td>\n",
       "      <td>562840</td>\n",
       "      <td>SPAGUETTI Nє 5 500 G Brand_1</td>\n",
       "      <td>PASTA ALIMENTICIA SE</td>\n",
       "      <td>pasta</td>\n",
       "    </tr>\n",
       "    <tr>\n",
       "      <th>3</th>\n",
       "      <td>1245</td>\n",
       "      <td>120070616003074261</td>\n",
       "      <td>1</td>\n",
       "      <td>2007/06/16</td>\n",
       "      <td>0.550961</td>\n",
       "      <td>95931501</td>\n",
       "      <td>9593150</td>\n",
       "      <td>28914</td>\n",
       "      <td>101070640100</td>\n",
       "      <td>1010706401</td>\n",
       "      <td>...</td>\n",
       "      <td>10107064</td>\n",
       "      <td>10107</td>\n",
       "      <td>101</td>\n",
       "      <td>1</td>\n",
       "      <td>1.03</td>\n",
       "      <td>2.0</td>\n",
       "      <td>28914</td>\n",
       "      <td>FIDEO FIDEUБ      500 Brand_7</td>\n",
       "      <td>PASTA ALIMENTICIA SE</td>\n",
       "      <td>pasta</td>\n",
       "    </tr>\n",
       "    <tr>\n",
       "      <th>4</th>\n",
       "      <td>1246</td>\n",
       "      <td>120070519001018477</td>\n",
       "      <td>1</td>\n",
       "      <td>2007/05/19</td>\n",
       "      <td>0.804954</td>\n",
       "      <td>93265591</td>\n",
       "      <td>9326559</td>\n",
       "      <td>159867</td>\n",
       "      <td>101070640100</td>\n",
       "      <td>1010706401</td>\n",
       "      <td>...</td>\n",
       "      <td>10107064</td>\n",
       "      <td>10107</td>\n",
       "      <td>101</td>\n",
       "      <td>1</td>\n",
       "      <td>1.09</td>\n",
       "      <td>1.0</td>\n",
       "      <td>159867</td>\n",
       "      <td>MACARRONES  GRATINAR 5 Brand_2</td>\n",
       "      <td>PASTA ALIMENTICIA SE</td>\n",
       "      <td>pasta</td>\n",
       "    </tr>\n",
       "  </tbody>\n",
       "</table>\n",
       "<p>5 rows × 21 columns</p>\n",
       "</div>"
      ],
      "text/plain": [
       "   Unnamed: 0                  tk  pl         dia        hs         tc  \\\n",
       "0        1242  120071109002055793   1  2007/11/09  0.505729  110000761   \n",
       "1        1243  120070601004053633   1  2007/06/01  0.588519  110000761   \n",
       "2        1244  120070928004076410   1  2007/09/28  0.785498   28491841   \n",
       "3        1245  120070616003074261   1  2007/06/16  0.550961   95931501   \n",
       "4        1246  120070519001018477   1  2007/05/19  0.804954   93265591   \n",
       "\n",
       "        cta  id_art  id_subsubfam   id_subfam  ...   id_famn  id_seccion  \\\n",
       "0  11000076   21895  101070640100  1010706401  ...  10107064       10107   \n",
       "1  11000076   21816  101070640100  1010706401  ...  10107064       10107   \n",
       "2   2849184  562840  101070640100  1010706401  ...  10107064       10107   \n",
       "3   9593150   28914  101070640100  1010706401  ...  10107064       10107   \n",
       "4   9326559  159867  101070640100  1010706401  ...  10107064       10107   \n",
       "\n",
       "   id_subagr  id_agr   vta  uni  id_artn                              art_sp  \\\n",
       "0        101       1  0.68  1.0    21895  MARAVILLA        500 G Store_Brand   \n",
       "1        101       1  0.38  1.0    21816  FIDEO CABELLIN   500 G Store_Brand   \n",
       "2        101       1  1.55  2.0   562840        SPAGUETTI Nє 5 500 G Brand_1   \n",
       "3        101       1  1.03  2.0    28914       FIDEO FIDEUБ      500 Brand_7   \n",
       "4        101       1  1.09  1.0   159867      MACARRONES  GRATINAR 5 Brand_2   \n",
       "\n",
       "                 fam_sp fam_en  \n",
       "0  PASTA ALIMENTICIA SE  pasta  \n",
       "1  PASTA ALIMENTICIA SE  pasta  \n",
       "2  PASTA ALIMENTICIA SE  pasta  \n",
       "3  PASTA ALIMENTICIA SE  pasta  \n",
       "4  PASTA ALIMENTICIA SE  pasta  \n",
       "\n",
       "[5 rows x 21 columns]"
      ]
     },
     "execution_count": 8,
     "metadata": {},
     "output_type": "execute_result"
    }
   ],
   "source": [
    "df.head()"
   ]
  },
  {
   "cell_type": "code",
   "execution_count": 9,
   "id": "d0c5e51a",
   "metadata": {},
   "outputs": [
    {
     "data": {
      "text/plain": [
       "(48129, 21)"
      ]
     },
     "execution_count": 9,
     "metadata": {},
     "output_type": "execute_result"
    }
   ],
   "source": [
    "df.shape"
   ]
  },
  {
   "cell_type": "code",
   "execution_count": 10,
   "id": "8bf16a0c",
   "metadata": {},
   "outputs": [],
   "source": [
    "user_df = df[['tc', 'art_sp']]"
   ]
  },
  {
   "cell_type": "code",
   "execution_count": 12,
   "id": "cdd954c5",
   "metadata": {},
   "outputs": [
    {
     "data": {
      "text/html": [
       "<div>\n",
       "<style scoped>\n",
       "    .dataframe tbody tr th:only-of-type {\n",
       "        vertical-align: middle;\n",
       "    }\n",
       "\n",
       "    .dataframe tbody tr th {\n",
       "        vertical-align: top;\n",
       "    }\n",
       "\n",
       "    .dataframe thead th {\n",
       "        text-align: right;\n",
       "    }\n",
       "</style>\n",
       "<table border=\"1\" class=\"dataframe\">\n",
       "  <thead>\n",
       "    <tr style=\"text-align: right;\">\n",
       "      <th></th>\n",
       "      <th>tc</th>\n",
       "      <th>art_sp</th>\n",
       "    </tr>\n",
       "  </thead>\n",
       "  <tbody>\n",
       "    <tr>\n",
       "      <th>0</th>\n",
       "      <td>110000761</td>\n",
       "      <td>MARAVILLA        500 G Store_Brand</td>\n",
       "    </tr>\n",
       "    <tr>\n",
       "      <th>1</th>\n",
       "      <td>110000761</td>\n",
       "      <td>FIDEO CABELLIN   500 G Store_Brand</td>\n",
       "    </tr>\n",
       "    <tr>\n",
       "      <th>2</th>\n",
       "      <td>28491841</td>\n",
       "      <td>SPAGUETTI Nє 5 500 G Brand_1</td>\n",
       "    </tr>\n",
       "    <tr>\n",
       "      <th>3</th>\n",
       "      <td>95931501</td>\n",
       "      <td>FIDEO FIDEUБ      500 Brand_7</td>\n",
       "    </tr>\n",
       "    <tr>\n",
       "      <th>4</th>\n",
       "      <td>93265591</td>\n",
       "      <td>MACARRONES  GRATINAR 5 Brand_2</td>\n",
       "    </tr>\n",
       "    <tr>\n",
       "      <th>...</th>\n",
       "      <td>...</td>\n",
       "      <td>...</td>\n",
       "    </tr>\n",
       "    <tr>\n",
       "      <th>48124</th>\n",
       "      <td>45518841</td>\n",
       "      <td>FIDEOS 0         500 G Brand_4</td>\n",
       "    </tr>\n",
       "    <tr>\n",
       "      <th>48125</th>\n",
       "      <td>110824211</td>\n",
       "      <td>PLUMAS 3         500 G Brand_4</td>\n",
       "    </tr>\n",
       "    <tr>\n",
       "      <th>48126</th>\n",
       "      <td>1408670389</td>\n",
       "      <td>MACARRONES       500 G Store_Brand</td>\n",
       "    </tr>\n",
       "    <tr>\n",
       "      <th>48127</th>\n",
       "      <td>1408670389</td>\n",
       "      <td>SPAGHETTI        500 G Store_Brand</td>\n",
       "    </tr>\n",
       "    <tr>\n",
       "      <th>48128</th>\n",
       "      <td>48582221</td>\n",
       "      <td>SPAGHETTINI      500 G Store_Brand</td>\n",
       "    </tr>\n",
       "  </tbody>\n",
       "</table>\n",
       "<p>48129 rows × 2 columns</p>\n",
       "</div>"
      ],
      "text/plain": [
       "               tc                              art_sp\n",
       "0       110000761  MARAVILLA        500 G Store_Brand\n",
       "1       110000761  FIDEO CABELLIN   500 G Store_Brand\n",
       "2        28491841        SPAGUETTI Nє 5 500 G Brand_1\n",
       "3        95931501       FIDEO FIDEUБ      500 Brand_7\n",
       "4        93265591      MACARRONES  GRATINAR 5 Brand_2\n",
       "...           ...                                 ...\n",
       "48124    45518841      FIDEOS 0         500 G Brand_4\n",
       "48125   110824211      PLUMAS 3         500 G Brand_4\n",
       "48126  1408670389  MACARRONES       500 G Store_Brand\n",
       "48127  1408670389  SPAGHETTI        500 G Store_Brand\n",
       "48128    48582221  SPAGHETTINI      500 G Store_Brand\n",
       "\n",
       "[48129 rows x 2 columns]"
      ]
     },
     "execution_count": 12,
     "metadata": {},
     "output_type": "execute_result"
    }
   ],
   "source": [
    "user_df"
   ]
  },
  {
   "cell_type": "code",
   "execution_count": 13,
   "id": "448cb585",
   "metadata": {},
   "outputs": [],
   "source": [
    "user_df = user_df.rename(columns={\"tc\":\"user_id\", \"art_sp\":\"brand_info\"})"
   ]
  },
  {
   "cell_type": "code",
   "execution_count": 15,
   "id": "0c146983",
   "metadata": {},
   "outputs": [
    {
     "data": {
      "text/html": [
       "<div>\n",
       "<style scoped>\n",
       "    .dataframe tbody tr th:only-of-type {\n",
       "        vertical-align: middle;\n",
       "    }\n",
       "\n",
       "    .dataframe tbody tr th {\n",
       "        vertical-align: top;\n",
       "    }\n",
       "\n",
       "    .dataframe thead th {\n",
       "        text-align: right;\n",
       "    }\n",
       "</style>\n",
       "<table border=\"1\" class=\"dataframe\">\n",
       "  <thead>\n",
       "    <tr style=\"text-align: right;\">\n",
       "      <th></th>\n",
       "      <th>user_id</th>\n",
       "      <th>brand_info</th>\n",
       "    </tr>\n",
       "  </thead>\n",
       "  <tbody>\n",
       "    <tr>\n",
       "      <th>0</th>\n",
       "      <td>110000761</td>\n",
       "      <td>MARAVILLA        500 G Store_Brand</td>\n",
       "    </tr>\n",
       "    <tr>\n",
       "      <th>1</th>\n",
       "      <td>110000761</td>\n",
       "      <td>FIDEO CABELLIN   500 G Store_Brand</td>\n",
       "    </tr>\n",
       "    <tr>\n",
       "      <th>2</th>\n",
       "      <td>28491841</td>\n",
       "      <td>SPAGUETTI Nє 5 500 G Brand_1</td>\n",
       "    </tr>\n",
       "    <tr>\n",
       "      <th>3</th>\n",
       "      <td>95931501</td>\n",
       "      <td>FIDEO FIDEUБ      500 Brand_7</td>\n",
       "    </tr>\n",
       "    <tr>\n",
       "      <th>4</th>\n",
       "      <td>93265591</td>\n",
       "      <td>MACARRONES  GRATINAR 5 Brand_2</td>\n",
       "    </tr>\n",
       "    <tr>\n",
       "      <th>...</th>\n",
       "      <td>...</td>\n",
       "      <td>...</td>\n",
       "    </tr>\n",
       "    <tr>\n",
       "      <th>48124</th>\n",
       "      <td>45518841</td>\n",
       "      <td>FIDEOS 0         500 G Brand_4</td>\n",
       "    </tr>\n",
       "    <tr>\n",
       "      <th>48125</th>\n",
       "      <td>110824211</td>\n",
       "      <td>PLUMAS 3         500 G Brand_4</td>\n",
       "    </tr>\n",
       "    <tr>\n",
       "      <th>48126</th>\n",
       "      <td>1408670389</td>\n",
       "      <td>MACARRONES       500 G Store_Brand</td>\n",
       "    </tr>\n",
       "    <tr>\n",
       "      <th>48127</th>\n",
       "      <td>1408670389</td>\n",
       "      <td>SPAGHETTI        500 G Store_Brand</td>\n",
       "    </tr>\n",
       "    <tr>\n",
       "      <th>48128</th>\n",
       "      <td>48582221</td>\n",
       "      <td>SPAGHETTINI      500 G Store_Brand</td>\n",
       "    </tr>\n",
       "  </tbody>\n",
       "</table>\n",
       "<p>48129 rows × 2 columns</p>\n",
       "</div>"
      ],
      "text/plain": [
       "          user_id                          brand_info\n",
       "0       110000761  MARAVILLA        500 G Store_Brand\n",
       "1       110000761  FIDEO CABELLIN   500 G Store_Brand\n",
       "2        28491841        SPAGUETTI Nє 5 500 G Brand_1\n",
       "3        95931501       FIDEO FIDEUБ      500 Brand_7\n",
       "4        93265591      MACARRONES  GRATINAR 5 Brand_2\n",
       "...           ...                                 ...\n",
       "48124    45518841      FIDEOS 0         500 G Brand_4\n",
       "48125   110824211      PLUMAS 3         500 G Brand_4\n",
       "48126  1408670389  MACARRONES       500 G Store_Brand\n",
       "48127  1408670389  SPAGHETTI        500 G Store_Brand\n",
       "48128    48582221  SPAGHETTINI      500 G Store_Brand\n",
       "\n",
       "[48129 rows x 2 columns]"
      ]
     },
     "execution_count": 15,
     "metadata": {},
     "output_type": "execute_result"
    }
   ],
   "source": [
    "user_df"
   ]
  },
  {
   "cell_type": "code",
   "execution_count": 16,
   "id": "06615fc8",
   "metadata": {},
   "outputs": [],
   "source": [
    "brand_name = 'MARAVILLA 500 G Store_Brand'"
   ]
  },
  {
   "cell_type": "code",
   "execution_count": 19,
   "id": "9833e88c",
   "metadata": {},
   "outputs": [
    {
     "data": {
      "text/plain": [
       "'Store_Brand'"
      ]
     },
     "execution_count": 19,
     "metadata": {},
     "output_type": "execute_result"
    }
   ],
   "source": [
    "brand_name.split()[-1]"
   ]
  },
  {
   "cell_type": "code",
   "execution_count": 25,
   "id": "390e20d7",
   "metadata": {},
   "outputs": [],
   "source": [
    "def split_brand(brand_name_data):\n",
    "    brand = brand_name_data.split()[-1]\n",
    "    return brand"
   ]
  },
  {
   "cell_type": "code",
   "execution_count": 26,
   "id": "b5265208",
   "metadata": {},
   "outputs": [
    {
     "data": {
      "text/plain": [
       "'Store_Brand'"
      ]
     },
     "execution_count": 26,
     "metadata": {},
     "output_type": "execute_result"
    }
   ],
   "source": [
    "split_brand('MARAVILLA 500 G Store_Brand')"
   ]
  },
  {
   "cell_type": "code",
   "execution_count": 29,
   "id": "258d20ff",
   "metadata": {},
   "outputs": [],
   "source": [
    "user_df['brand_name'] = user_df.brand_info.apply(split_brand)"
   ]
  },
  {
   "cell_type": "code",
   "execution_count": 30,
   "id": "5d4b0996",
   "metadata": {
    "scrolled": true
   },
   "outputs": [
    {
     "data": {
      "text/html": [
       "<div>\n",
       "<style scoped>\n",
       "    .dataframe tbody tr th:only-of-type {\n",
       "        vertical-align: middle;\n",
       "    }\n",
       "\n",
       "    .dataframe tbody tr th {\n",
       "        vertical-align: top;\n",
       "    }\n",
       "\n",
       "    .dataframe thead th {\n",
       "        text-align: right;\n",
       "    }\n",
       "</style>\n",
       "<table border=\"1\" class=\"dataframe\">\n",
       "  <thead>\n",
       "    <tr style=\"text-align: right;\">\n",
       "      <th></th>\n",
       "      <th>user_id</th>\n",
       "      <th>brand_info</th>\n",
       "      <th>brand</th>\n",
       "      <th>brand_name</th>\n",
       "    </tr>\n",
       "  </thead>\n",
       "  <tbody>\n",
       "    <tr>\n",
       "      <th>0</th>\n",
       "      <td>110000761</td>\n",
       "      <td>MARAVILLA        500 G Store_Brand</td>\n",
       "      <td>Store_Brand</td>\n",
       "      <td>Store_Brand</td>\n",
       "    </tr>\n",
       "    <tr>\n",
       "      <th>1</th>\n",
       "      <td>110000761</td>\n",
       "      <td>FIDEO CABELLIN   500 G Store_Brand</td>\n",
       "      <td>Store_Brand</td>\n",
       "      <td>Store_Brand</td>\n",
       "    </tr>\n",
       "    <tr>\n",
       "      <th>2</th>\n",
       "      <td>28491841</td>\n",
       "      <td>SPAGUETTI Nє 5 500 G Brand_1</td>\n",
       "      <td>Brand_1</td>\n",
       "      <td>Brand_1</td>\n",
       "    </tr>\n",
       "    <tr>\n",
       "      <th>3</th>\n",
       "      <td>95931501</td>\n",
       "      <td>FIDEO FIDEUБ      500 Brand_7</td>\n",
       "      <td>Brand_7</td>\n",
       "      <td>Brand_7</td>\n",
       "    </tr>\n",
       "    <tr>\n",
       "      <th>4</th>\n",
       "      <td>93265591</td>\n",
       "      <td>MACARRONES  GRATINAR 5 Brand_2</td>\n",
       "      <td>Brand_2</td>\n",
       "      <td>Brand_2</td>\n",
       "    </tr>\n",
       "    <tr>\n",
       "      <th>...</th>\n",
       "      <td>...</td>\n",
       "      <td>...</td>\n",
       "      <td>...</td>\n",
       "      <td>...</td>\n",
       "    </tr>\n",
       "    <tr>\n",
       "      <th>48124</th>\n",
       "      <td>45518841</td>\n",
       "      <td>FIDEOS 0         500 G Brand_4</td>\n",
       "      <td>Brand_4</td>\n",
       "      <td>Brand_4</td>\n",
       "    </tr>\n",
       "    <tr>\n",
       "      <th>48125</th>\n",
       "      <td>110824211</td>\n",
       "      <td>PLUMAS 3         500 G Brand_4</td>\n",
       "      <td>Brand_4</td>\n",
       "      <td>Brand_4</td>\n",
       "    </tr>\n",
       "    <tr>\n",
       "      <th>48126</th>\n",
       "      <td>1408670389</td>\n",
       "      <td>MACARRONES       500 G Store_Brand</td>\n",
       "      <td>Store_Brand</td>\n",
       "      <td>Store_Brand</td>\n",
       "    </tr>\n",
       "    <tr>\n",
       "      <th>48127</th>\n",
       "      <td>1408670389</td>\n",
       "      <td>SPAGHETTI        500 G Store_Brand</td>\n",
       "      <td>Store_Brand</td>\n",
       "      <td>Store_Brand</td>\n",
       "    </tr>\n",
       "    <tr>\n",
       "      <th>48128</th>\n",
       "      <td>48582221</td>\n",
       "      <td>SPAGHETTINI      500 G Store_Brand</td>\n",
       "      <td>Store_Brand</td>\n",
       "      <td>Store_Brand</td>\n",
       "    </tr>\n",
       "  </tbody>\n",
       "</table>\n",
       "<p>48129 rows × 4 columns</p>\n",
       "</div>"
      ],
      "text/plain": [
       "          user_id                          brand_info        brand  \\\n",
       "0       110000761  MARAVILLA        500 G Store_Brand  Store_Brand   \n",
       "1       110000761  FIDEO CABELLIN   500 G Store_Brand  Store_Brand   \n",
       "2        28491841        SPAGUETTI Nє 5 500 G Brand_1      Brand_1   \n",
       "3        95931501       FIDEO FIDEUБ      500 Brand_7      Brand_7   \n",
       "4        93265591      MACARRONES  GRATINAR 5 Brand_2      Brand_2   \n",
       "...           ...                                 ...          ...   \n",
       "48124    45518841      FIDEOS 0         500 G Brand_4      Brand_4   \n",
       "48125   110824211      PLUMAS 3         500 G Brand_4      Brand_4   \n",
       "48126  1408670389  MACARRONES       500 G Store_Brand  Store_Brand   \n",
       "48127  1408670389  SPAGHETTI        500 G Store_Brand  Store_Brand   \n",
       "48128    48582221  SPAGHETTINI      500 G Store_Brand  Store_Brand   \n",
       "\n",
       "        brand_name  \n",
       "0      Store_Brand  \n",
       "1      Store_Brand  \n",
       "2          Brand_1  \n",
       "3          Brand_7  \n",
       "4          Brand_2  \n",
       "...            ...  \n",
       "48124      Brand_4  \n",
       "48125      Brand_4  \n",
       "48126  Store_Brand  \n",
       "48127  Store_Brand  \n",
       "48128  Store_Brand  \n",
       "\n",
       "[48129 rows x 4 columns]"
      ]
     },
     "execution_count": 30,
     "metadata": {},
     "output_type": "execute_result"
    }
   ],
   "source": [
    "user_df"
   ]
  },
  {
   "cell_type": "code",
   "execution_count": 33,
   "id": "8d0d2ae5",
   "metadata": {},
   "outputs": [],
   "source": [
    "# Более компактный способ получить имя бренда:\n",
    "# Используем лямбда-функцию, чтобы разрезать строку по пробелу\n",
    "# и взять последний элемент"
   ]
  },
  {
   "cell_type": "code",
   "execution_count": 31,
   "id": "f71d9e71",
   "metadata": {
    "scrolled": true
   },
   "outputs": [
    {
     "data": {
      "text/plain": [
       "0        Store_Brand\n",
       "1        Store_Brand\n",
       "2            Brand_1\n",
       "3            Brand_7\n",
       "4            Brand_2\n",
       "            ...     \n",
       "48124        Brand_4\n",
       "48125        Brand_4\n",
       "48126    Store_Brand\n",
       "48127    Store_Brand\n",
       "48128    Store_Brand\n",
       "Name: brand_info, Length: 48129, dtype: object"
      ]
     },
     "execution_count": 31,
     "metadata": {},
     "output_type": "execute_result"
    }
   ],
   "source": [
    "user_df.brand_info.apply(lambda x: x.split()[-1])"
   ]
  },
  {
   "cell_type": "code",
   "execution_count": 44,
   "id": "8da8194f",
   "metadata": {},
   "outputs": [],
   "source": [
    "# Посчитаем кол-во покупок пользователей:"
   ]
  },
  {
   "cell_type": "code",
   "execution_count": 34,
   "id": "e4a8a827",
   "metadata": {},
   "outputs": [],
   "source": [
    "users_purchases = user_df.groupby('user_id', as_index = False) \\\n",
    "                         .agg({\"brand_name\" : \"count\"})"
   ]
  },
  {
   "cell_type": "code",
   "execution_count": 35,
   "id": "2301dc9f",
   "metadata": {},
   "outputs": [
    {
     "data": {
      "text/html": [
       "<div>\n",
       "<style scoped>\n",
       "    .dataframe tbody tr th:only-of-type {\n",
       "        vertical-align: middle;\n",
       "    }\n",
       "\n",
       "    .dataframe tbody tr th {\n",
       "        vertical-align: top;\n",
       "    }\n",
       "\n",
       "    .dataframe thead th {\n",
       "        text-align: right;\n",
       "    }\n",
       "</style>\n",
       "<table border=\"1\" class=\"dataframe\">\n",
       "  <thead>\n",
       "    <tr style=\"text-align: right;\">\n",
       "      <th></th>\n",
       "      <th>user_id</th>\n",
       "      <th>brand_name</th>\n",
       "    </tr>\n",
       "  </thead>\n",
       "  <tbody>\n",
       "    <tr>\n",
       "      <th>0</th>\n",
       "      <td>-1236394515</td>\n",
       "      <td>1</td>\n",
       "    </tr>\n",
       "    <tr>\n",
       "      <th>1</th>\n",
       "      <td>1031</td>\n",
       "      <td>6</td>\n",
       "    </tr>\n",
       "    <tr>\n",
       "      <th>2</th>\n",
       "      <td>4241</td>\n",
       "      <td>5</td>\n",
       "    </tr>\n",
       "    <tr>\n",
       "      <th>3</th>\n",
       "      <td>17311</td>\n",
       "      <td>2</td>\n",
       "    </tr>\n",
       "    <tr>\n",
       "      <th>4</th>\n",
       "      <td>17312</td>\n",
       "      <td>2</td>\n",
       "    </tr>\n",
       "  </tbody>\n",
       "</table>\n",
       "</div>"
      ],
      "text/plain": [
       "      user_id  brand_name\n",
       "0 -1236394515           1\n",
       "1        1031           6\n",
       "2        4241           5\n",
       "3       17311           2\n",
       "4       17312           2"
      ]
     },
     "execution_count": 35,
     "metadata": {},
     "output_type": "execute_result"
    }
   ],
   "source": [
    "users_purchases.head()"
   ]
  },
  {
   "cell_type": "code",
   "execution_count": 36,
   "id": "f54a3cda",
   "metadata": {},
   "outputs": [],
   "source": [
    "users_purchases = users_purchases.rename(columns={\"brand_name\":\"purchases\"})"
   ]
  },
  {
   "cell_type": "code",
   "execution_count": 37,
   "id": "94eff3db",
   "metadata": {},
   "outputs": [
    {
     "data": {
      "text/html": [
       "<div>\n",
       "<style scoped>\n",
       "    .dataframe tbody tr th:only-of-type {\n",
       "        vertical-align: middle;\n",
       "    }\n",
       "\n",
       "    .dataframe tbody tr th {\n",
       "        vertical-align: top;\n",
       "    }\n",
       "\n",
       "    .dataframe thead th {\n",
       "        text-align: right;\n",
       "    }\n",
       "</style>\n",
       "<table border=\"1\" class=\"dataframe\">\n",
       "  <thead>\n",
       "    <tr style=\"text-align: right;\">\n",
       "      <th></th>\n",
       "      <th>user_id</th>\n",
       "      <th>purchases</th>\n",
       "    </tr>\n",
       "  </thead>\n",
       "  <tbody>\n",
       "    <tr>\n",
       "      <th>0</th>\n",
       "      <td>-1236394515</td>\n",
       "      <td>1</td>\n",
       "    </tr>\n",
       "    <tr>\n",
       "      <th>1</th>\n",
       "      <td>1031</td>\n",
       "      <td>6</td>\n",
       "    </tr>\n",
       "    <tr>\n",
       "      <th>2</th>\n",
       "      <td>4241</td>\n",
       "      <td>5</td>\n",
       "    </tr>\n",
       "    <tr>\n",
       "      <th>3</th>\n",
       "      <td>17311</td>\n",
       "      <td>2</td>\n",
       "    </tr>\n",
       "    <tr>\n",
       "      <th>4</th>\n",
       "      <td>17312</td>\n",
       "      <td>2</td>\n",
       "    </tr>\n",
       "  </tbody>\n",
       "</table>\n",
       "</div>"
      ],
      "text/plain": [
       "      user_id  purchases\n",
       "0 -1236394515          1\n",
       "1        1031          6\n",
       "2        4241          5\n",
       "3       17311          2\n",
       "4       17312          2"
      ]
     },
     "execution_count": 37,
     "metadata": {},
     "output_type": "execute_result"
    }
   ],
   "source": [
    "users_purchases.head()"
   ]
  },
  {
   "cell_type": "code",
   "execution_count": 38,
   "id": "057a5080",
   "metadata": {},
   "outputs": [
    {
     "data": {
      "text/plain": [
       "2.0"
      ]
     },
     "execution_count": 38,
     "metadata": {},
     "output_type": "execute_result"
    }
   ],
   "source": [
    "users_purchases.purchases.median()"
   ]
  },
  {
   "cell_type": "code",
   "execution_count": 39,
   "id": "e5aeaef1",
   "metadata": {},
   "outputs": [
    {
     "data": {
      "text/plain": [
       "(11764, 2)"
      ]
     },
     "execution_count": 39,
     "metadata": {},
     "output_type": "execute_result"
    }
   ],
   "source": [
    "users_purchases.shape"
   ]
  },
  {
   "cell_type": "code",
   "execution_count": 40,
   "id": "4e5311b2",
   "metadata": {
    "scrolled": true
   },
   "outputs": [
    {
     "data": {
      "text/html": [
       "<div>\n",
       "<style scoped>\n",
       "    .dataframe tbody tr th:only-of-type {\n",
       "        vertical-align: middle;\n",
       "    }\n",
       "\n",
       "    .dataframe tbody tr th {\n",
       "        vertical-align: top;\n",
       "    }\n",
       "\n",
       "    .dataframe thead th {\n",
       "        text-align: right;\n",
       "    }\n",
       "</style>\n",
       "<table border=\"1\" class=\"dataframe\">\n",
       "  <thead>\n",
       "    <tr style=\"text-align: right;\">\n",
       "      <th></th>\n",
       "      <th>user_id</th>\n",
       "      <th>purchases</th>\n",
       "    </tr>\n",
       "  </thead>\n",
       "  <tbody>\n",
       "    <tr>\n",
       "      <th>count</th>\n",
       "      <td>1.176400e+04</td>\n",
       "      <td>11764.000000</td>\n",
       "    </tr>\n",
       "    <tr>\n",
       "      <th>mean</th>\n",
       "      <td>7.690517e+07</td>\n",
       "      <td>4.091210</td>\n",
       "    </tr>\n",
       "    <tr>\n",
       "      <th>std</th>\n",
       "      <td>1.622210e+08</td>\n",
       "      <td>4.573143</td>\n",
       "    </tr>\n",
       "    <tr>\n",
       "      <th>min</th>\n",
       "      <td>-1.236395e+09</td>\n",
       "      <td>1.000000</td>\n",
       "    </tr>\n",
       "    <tr>\n",
       "      <th>25%</th>\n",
       "      <td>1.503761e+07</td>\n",
       "      <td>1.000000</td>\n",
       "    </tr>\n",
       "    <tr>\n",
       "      <th>50%</th>\n",
       "      <td>4.682179e+07</td>\n",
       "      <td>2.000000</td>\n",
       "    </tr>\n",
       "    <tr>\n",
       "      <th>75%</th>\n",
       "      <td>9.311601e+07</td>\n",
       "      <td>5.000000</td>\n",
       "    </tr>\n",
       "    <tr>\n",
       "      <th>max</th>\n",
       "      <td>1.408849e+09</td>\n",
       "      <td>60.000000</td>\n",
       "    </tr>\n",
       "  </tbody>\n",
       "</table>\n",
       "</div>"
      ],
      "text/plain": [
       "            user_id     purchases\n",
       "count  1.176400e+04  11764.000000\n",
       "mean   7.690517e+07      4.091210\n",
       "std    1.622210e+08      4.573143\n",
       "min   -1.236395e+09      1.000000\n",
       "25%    1.503761e+07      1.000000\n",
       "50%    4.682179e+07      2.000000\n",
       "75%    9.311601e+07      5.000000\n",
       "max    1.408849e+09     60.000000"
      ]
     },
     "execution_count": 40,
     "metadata": {},
     "output_type": "execute_result"
    }
   ],
   "source": [
    "users_purchases.describe()"
   ]
  },
  {
   "cell_type": "code",
   "execution_count": 45,
   "id": "1e30fee9",
   "metadata": {},
   "outputs": [],
   "source": [
    "# Отберем для анализа только тех пользователей,\n",
    "# которые совершили минимум 5 покупок:"
   ]
  },
  {
   "cell_type": "code",
   "execution_count": 42,
   "id": "3c9abfd6",
   "metadata": {},
   "outputs": [],
   "source": [
    "users_purchases = users_purchases.query('purchases >= 5')"
   ]
  },
  {
   "cell_type": "code",
   "execution_count": 56,
   "id": "b45e4bb2",
   "metadata": {
    "scrolled": true
   },
   "outputs": [
    {
     "data": {
      "text/html": [
       "<div>\n",
       "<style scoped>\n",
       "    .dataframe tbody tr th:only-of-type {\n",
       "        vertical-align: middle;\n",
       "    }\n",
       "\n",
       "    .dataframe tbody tr th {\n",
       "        vertical-align: top;\n",
       "    }\n",
       "\n",
       "    .dataframe thead th {\n",
       "        text-align: right;\n",
       "    }\n",
       "</style>\n",
       "<table border=\"1\" class=\"dataframe\">\n",
       "  <thead>\n",
       "    <tr style=\"text-align: right;\">\n",
       "      <th></th>\n",
       "      <th>user_id</th>\n",
       "      <th>purchases</th>\n",
       "    </tr>\n",
       "  </thead>\n",
       "  <tbody>\n",
       "    <tr>\n",
       "      <th>1</th>\n",
       "      <td>1031</td>\n",
       "      <td>6</td>\n",
       "    </tr>\n",
       "    <tr>\n",
       "      <th>2</th>\n",
       "      <td>4241</td>\n",
       "      <td>5</td>\n",
       "    </tr>\n",
       "    <tr>\n",
       "      <th>11</th>\n",
       "      <td>25971</td>\n",
       "      <td>7</td>\n",
       "    </tr>\n",
       "    <tr>\n",
       "      <th>14</th>\n",
       "      <td>40911</td>\n",
       "      <td>27</td>\n",
       "    </tr>\n",
       "    <tr>\n",
       "      <th>16</th>\n",
       "      <td>45181</td>\n",
       "      <td>5</td>\n",
       "    </tr>\n",
       "  </tbody>\n",
       "</table>\n",
       "</div>"
      ],
      "text/plain": [
       "    user_id  purchases\n",
       "1      1031          6\n",
       "2      4241          5\n",
       "11    25971          7\n",
       "14    40911         27\n",
       "16    45181          5"
      ]
     },
     "execution_count": 56,
     "metadata": {},
     "output_type": "execute_result"
    }
   ],
   "source": [
    "users_purchases.head(5)"
   ]
  },
  {
   "cell_type": "code",
   "execution_count": null,
   "id": "7f11e7cd",
   "metadata": {},
   "outputs": [],
   "source": [
    "# Посчитаем кол-во покупок пользователей по брендам:"
   ]
  },
  {
   "cell_type": "code",
   "execution_count": 48,
   "id": "5bc5cbc9",
   "metadata": {
    "scrolled": true
   },
   "outputs": [
    {
     "data": {
      "text/html": [
       "<div>\n",
       "<style scoped>\n",
       "    .dataframe tbody tr th:only-of-type {\n",
       "        vertical-align: middle;\n",
       "    }\n",
       "\n",
       "    .dataframe tbody tr th {\n",
       "        vertical-align: top;\n",
       "    }\n",
       "\n",
       "    .dataframe thead th {\n",
       "        text-align: right;\n",
       "    }\n",
       "</style>\n",
       "<table border=\"1\" class=\"dataframe\">\n",
       "  <thead>\n",
       "    <tr style=\"text-align: right;\">\n",
       "      <th></th>\n",
       "      <th>user_id</th>\n",
       "      <th>brand_name</th>\n",
       "      <th>brand_info</th>\n",
       "    </tr>\n",
       "  </thead>\n",
       "  <tbody>\n",
       "    <tr>\n",
       "      <th>0</th>\n",
       "      <td>-1236394515</td>\n",
       "      <td>Brand_4</td>\n",
       "      <td>1</td>\n",
       "    </tr>\n",
       "    <tr>\n",
       "      <th>1</th>\n",
       "      <td>1031</td>\n",
       "      <td>Brand_3</td>\n",
       "      <td>1</td>\n",
       "    </tr>\n",
       "    <tr>\n",
       "      <th>2</th>\n",
       "      <td>1031</td>\n",
       "      <td>Store_Brand</td>\n",
       "      <td>5</td>\n",
       "    </tr>\n",
       "    <tr>\n",
       "      <th>3</th>\n",
       "      <td>4241</td>\n",
       "      <td>Brand_4</td>\n",
       "      <td>3</td>\n",
       "    </tr>\n",
       "    <tr>\n",
       "      <th>4</th>\n",
       "      <td>4241</td>\n",
       "      <td>Store_Brand</td>\n",
       "      <td>2</td>\n",
       "    </tr>\n",
       "    <tr>\n",
       "      <th>...</th>\n",
       "      <td>...</td>\n",
       "      <td>...</td>\n",
       "      <td>...</td>\n",
       "    </tr>\n",
       "    <tr>\n",
       "      <th>18183</th>\n",
       "      <td>1408817589</td>\n",
       "      <td>Store_Brand</td>\n",
       "      <td>2</td>\n",
       "    </tr>\n",
       "    <tr>\n",
       "      <th>18184</th>\n",
       "      <td>1408825059</td>\n",
       "      <td>Brand_1</td>\n",
       "      <td>1</td>\n",
       "    </tr>\n",
       "    <tr>\n",
       "      <th>18185</th>\n",
       "      <td>1408832719</td>\n",
       "      <td>Brand_4</td>\n",
       "      <td>3</td>\n",
       "    </tr>\n",
       "    <tr>\n",
       "      <th>18186</th>\n",
       "      <td>1408840919</td>\n",
       "      <td>Store_Brand</td>\n",
       "      <td>1</td>\n",
       "    </tr>\n",
       "    <tr>\n",
       "      <th>18187</th>\n",
       "      <td>1408849249</td>\n",
       "      <td>Store_Brand</td>\n",
       "      <td>1</td>\n",
       "    </tr>\n",
       "  </tbody>\n",
       "</table>\n",
       "<p>18188 rows × 3 columns</p>\n",
       "</div>"
      ],
      "text/plain": [
       "          user_id   brand_name  brand_info\n",
       "0     -1236394515      Brand_4           1\n",
       "1            1031      Brand_3           1\n",
       "2            1031  Store_Brand           5\n",
       "3            4241      Brand_4           3\n",
       "4            4241  Store_Brand           2\n",
       "...           ...          ...         ...\n",
       "18183  1408817589  Store_Brand           2\n",
       "18184  1408825059      Brand_1           1\n",
       "18185  1408832719      Brand_4           3\n",
       "18186  1408840919  Store_Brand           1\n",
       "18187  1408849249  Store_Brand           1\n",
       "\n",
       "[18188 rows x 3 columns]"
      ]
     },
     "execution_count": 48,
     "metadata": {},
     "output_type": "execute_result"
    }
   ],
   "source": [
    "user_df.groupby(['user_id', 'brand_name'], as_index=False) \\\n",
    "       .agg({\"brand_info\":\"count\"})"
   ]
  },
  {
   "cell_type": "code",
   "execution_count": null,
   "id": "0eda4c4c",
   "metadata": {},
   "outputs": [],
   "source": [
    "# На примере одного пользователя посмотрим сколько покупок пришлось на те бренды,\n",
    "# которые он выбирал:"
   ]
  },
  {
   "cell_type": "code",
   "execution_count": 49,
   "id": "b2376f6f",
   "metadata": {},
   "outputs": [
    {
     "data": {
      "text/html": [
       "<div>\n",
       "<style scoped>\n",
       "    .dataframe tbody tr th:only-of-type {\n",
       "        vertical-align: middle;\n",
       "    }\n",
       "\n",
       "    .dataframe tbody tr th {\n",
       "        vertical-align: top;\n",
       "    }\n",
       "\n",
       "    .dataframe thead th {\n",
       "        text-align: right;\n",
       "    }\n",
       "</style>\n",
       "<table border=\"1\" class=\"dataframe\">\n",
       "  <thead>\n",
       "    <tr style=\"text-align: right;\">\n",
       "      <th></th>\n",
       "      <th>user_id</th>\n",
       "      <th>brand_name</th>\n",
       "      <th>brand_info</th>\n",
       "    </tr>\n",
       "  </thead>\n",
       "  <tbody>\n",
       "    <tr>\n",
       "      <th>1</th>\n",
       "      <td>1031</td>\n",
       "      <td>Brand_3</td>\n",
       "      <td>1</td>\n",
       "    </tr>\n",
       "    <tr>\n",
       "      <th>2</th>\n",
       "      <td>1031</td>\n",
       "      <td>Store_Brand</td>\n",
       "      <td>5</td>\n",
       "    </tr>\n",
       "  </tbody>\n",
       "</table>\n",
       "</div>"
      ],
      "text/plain": [
       "   user_id   brand_name  brand_info\n",
       "1     1031      Brand_3           1\n",
       "2     1031  Store_Brand           5"
      ]
     },
     "execution_count": 49,
     "metadata": {},
     "output_type": "execute_result"
    }
   ],
   "source": [
    "user_df.groupby(['user_id', 'brand_name'], as_index=False) \\\n",
    "       .agg({\"brand_info\":\"count\"}) \\\n",
    "       .query('user_id == 1031')"
   ]
  },
  {
   "cell_type": "code",
   "execution_count": 54,
   "id": "7cd51439",
   "metadata": {},
   "outputs": [],
   "source": [
    "# Для каждого пользователя найдем бренд,который он покупал чаще всего:"
   ]
  },
  {
   "cell_type": "code",
   "execution_count": 55,
   "id": "41eb4bc5",
   "metadata": {},
   "outputs": [],
   "source": [
    "lovely_brand_purchases = user_df.groupby(['user_id', 'brand_name'], as_index=False) \\\n",
    "       .agg({\"brand_info\":\"count\"}) \\\n",
    "       .sort_values(['user_id', 'brand_info'], ascending =[False, False]) \\\n",
    "       .groupby('user_id') \\\n",
    "       .head(1) \\\n",
    "       .rename(columns={\"brand_name\":\"lovely_brand\",\n",
    "                        \"brand_info\": \"lovely_brand_purchases\"})"
   ]
  },
  {
   "cell_type": "code",
   "execution_count": 57,
   "id": "62130d0c",
   "metadata": {},
   "outputs": [],
   "source": [
    "# Для каждого пользователя расчситаем сколько уникальных брендов он купил:"
   ]
  },
  {
   "cell_type": "code",
   "execution_count": 66,
   "id": "2c75545f",
   "metadata": {},
   "outputs": [],
   "source": [
    "users_unique_brands = user_df.groupby('user_id', as_index=False) \\\n",
    "    .agg({\"brand_name\":pd.Series.nunique}) \\\n",
    "    .rename(columns={\"brand_name\":\"unique_brands\"})\n",
    "    "
   ]
  },
  {
   "cell_type": "code",
   "execution_count": 67,
   "id": "54886079",
   "metadata": {
    "scrolled": true
   },
   "outputs": [
    {
     "data": {
      "text/html": [
       "<div>\n",
       "<style scoped>\n",
       "    .dataframe tbody tr th:only-of-type {\n",
       "        vertical-align: middle;\n",
       "    }\n",
       "\n",
       "    .dataframe tbody tr th {\n",
       "        vertical-align: top;\n",
       "    }\n",
       "\n",
       "    .dataframe thead th {\n",
       "        text-align: right;\n",
       "    }\n",
       "</style>\n",
       "<table border=\"1\" class=\"dataframe\">\n",
       "  <thead>\n",
       "    <tr style=\"text-align: right;\">\n",
       "      <th></th>\n",
       "      <th>user_id</th>\n",
       "      <th>unique_brands</th>\n",
       "    </tr>\n",
       "  </thead>\n",
       "  <tbody>\n",
       "    <tr>\n",
       "      <th>0</th>\n",
       "      <td>-1236394515</td>\n",
       "      <td>1</td>\n",
       "    </tr>\n",
       "    <tr>\n",
       "      <th>1</th>\n",
       "      <td>1031</td>\n",
       "      <td>2</td>\n",
       "    </tr>\n",
       "    <tr>\n",
       "      <th>2</th>\n",
       "      <td>4241</td>\n",
       "      <td>2</td>\n",
       "    </tr>\n",
       "    <tr>\n",
       "      <th>3</th>\n",
       "      <td>17311</td>\n",
       "      <td>1</td>\n",
       "    </tr>\n",
       "    <tr>\n",
       "      <th>4</th>\n",
       "      <td>17312</td>\n",
       "      <td>2</td>\n",
       "    </tr>\n",
       "  </tbody>\n",
       "</table>\n",
       "</div>"
      ],
      "text/plain": [
       "      user_id  unique_brands\n",
       "0 -1236394515              1\n",
       "1        1031              2\n",
       "2        4241              2\n",
       "3       17311              1\n",
       "4       17312              2"
      ]
     },
     "execution_count": 67,
     "metadata": {},
     "output_type": "execute_result"
    }
   ],
   "source": [
    "users_unique_brands.head()"
   ]
  },
  {
   "cell_type": "code",
   "execution_count": 73,
   "id": "88c9fb29",
   "metadata": {},
   "outputs": [],
   "source": [
    "# Объединим наши датафреймы в loyality_df:"
   ]
  },
  {
   "cell_type": "code",
   "execution_count": 74,
   "id": "d6092d52",
   "metadata": {},
   "outputs": [],
   "source": [
    "loyality_df = users_purchases.merge(lovely_brand_purchases, on = 'user_id') \\\n",
    "    .merge(users_unique_brands, on = 'user_id')"
   ]
  },
  {
   "cell_type": "code",
   "execution_count": 75,
   "id": "a6646750",
   "metadata": {
    "scrolled": true
   },
   "outputs": [
    {
     "data": {
      "text/html": [
       "<div>\n",
       "<style scoped>\n",
       "    .dataframe tbody tr th:only-of-type {\n",
       "        vertical-align: middle;\n",
       "    }\n",
       "\n",
       "    .dataframe tbody tr th {\n",
       "        vertical-align: top;\n",
       "    }\n",
       "\n",
       "    .dataframe thead th {\n",
       "        text-align: right;\n",
       "    }\n",
       "</style>\n",
       "<table border=\"1\" class=\"dataframe\">\n",
       "  <thead>\n",
       "    <tr style=\"text-align: right;\">\n",
       "      <th></th>\n",
       "      <th>user_id</th>\n",
       "      <th>purchases</th>\n",
       "      <th>lovely_brand</th>\n",
       "      <th>lovely_brand_purchases</th>\n",
       "      <th>unique_brands</th>\n",
       "    </tr>\n",
       "  </thead>\n",
       "  <tbody>\n",
       "    <tr>\n",
       "      <th>0</th>\n",
       "      <td>1031</td>\n",
       "      <td>6</td>\n",
       "      <td>Store_Brand</td>\n",
       "      <td>5</td>\n",
       "      <td>2</td>\n",
       "    </tr>\n",
       "    <tr>\n",
       "      <th>1</th>\n",
       "      <td>4241</td>\n",
       "      <td>5</td>\n",
       "      <td>Brand_4</td>\n",
       "      <td>3</td>\n",
       "      <td>2</td>\n",
       "    </tr>\n",
       "    <tr>\n",
       "      <th>2</th>\n",
       "      <td>25971</td>\n",
       "      <td>7</td>\n",
       "      <td>Store_Brand</td>\n",
       "      <td>5</td>\n",
       "      <td>2</td>\n",
       "    </tr>\n",
       "    <tr>\n",
       "      <th>3</th>\n",
       "      <td>40911</td>\n",
       "      <td>27</td>\n",
       "      <td>Brand_4</td>\n",
       "      <td>19</td>\n",
       "      <td>5</td>\n",
       "    </tr>\n",
       "    <tr>\n",
       "      <th>4</th>\n",
       "      <td>45181</td>\n",
       "      <td>5</td>\n",
       "      <td>Store_Brand</td>\n",
       "      <td>2</td>\n",
       "      <td>4</td>\n",
       "    </tr>\n",
       "  </tbody>\n",
       "</table>\n",
       "</div>"
      ],
      "text/plain": [
       "   user_id  purchases lovely_brand  lovely_brand_purchases  unique_brands\n",
       "0     1031          6  Store_Brand                       5              2\n",
       "1     4241          5      Brand_4                       3              2\n",
       "2    25971          7  Store_Brand                       5              2\n",
       "3    40911         27      Brand_4                      19              5\n",
       "4    45181          5  Store_Brand                       2              4"
      ]
     },
     "execution_count": 75,
     "metadata": {},
     "output_type": "execute_result"
    }
   ],
   "source": [
    "loyality_df.head()"
   ]
  },
  {
   "cell_type": "code",
   "execution_count": 77,
   "id": "f3d7e0eb",
   "metadata": {},
   "outputs": [],
   "source": [
    "# Найдем тех пользователеей, которые покупают 1 бренд:"
   ]
  },
  {
   "cell_type": "code",
   "execution_count": 76,
   "id": "ac84f984",
   "metadata": {
    "scrolled": true
   },
   "outputs": [
    {
     "data": {
      "text/html": [
       "<div>\n",
       "<style scoped>\n",
       "    .dataframe tbody tr th:only-of-type {\n",
       "        vertical-align: middle;\n",
       "    }\n",
       "\n",
       "    .dataframe tbody tr th {\n",
       "        vertical-align: top;\n",
       "    }\n",
       "\n",
       "    .dataframe thead th {\n",
       "        text-align: right;\n",
       "    }\n",
       "</style>\n",
       "<table border=\"1\" class=\"dataframe\">\n",
       "  <thead>\n",
       "    <tr style=\"text-align: right;\">\n",
       "      <th></th>\n",
       "      <th>user_id</th>\n",
       "      <th>purchases</th>\n",
       "      <th>lovely_brand</th>\n",
       "      <th>lovely_brand_purchases</th>\n",
       "      <th>unique_brands</th>\n",
       "    </tr>\n",
       "  </thead>\n",
       "  <tbody>\n",
       "    <tr>\n",
       "      <th>13</th>\n",
       "      <td>86281</td>\n",
       "      <td>14</td>\n",
       "      <td>Brand_4</td>\n",
       "      <td>14</td>\n",
       "      <td>1</td>\n",
       "    </tr>\n",
       "    <tr>\n",
       "      <th>18</th>\n",
       "      <td>94961</td>\n",
       "      <td>6</td>\n",
       "      <td>Brand_4</td>\n",
       "      <td>6</td>\n",
       "      <td>1</td>\n",
       "    </tr>\n",
       "    <tr>\n",
       "      <th>29</th>\n",
       "      <td>132061</td>\n",
       "      <td>9</td>\n",
       "      <td>Brand_4</td>\n",
       "      <td>9</td>\n",
       "      <td>1</td>\n",
       "    </tr>\n",
       "    <tr>\n",
       "      <th>30</th>\n",
       "      <td>134281</td>\n",
       "      <td>6</td>\n",
       "      <td>Brand_4</td>\n",
       "      <td>6</td>\n",
       "      <td>1</td>\n",
       "    </tr>\n",
       "    <tr>\n",
       "      <th>35</th>\n",
       "      <td>157311</td>\n",
       "      <td>12</td>\n",
       "      <td>Brand_4</td>\n",
       "      <td>12</td>\n",
       "      <td>1</td>\n",
       "    </tr>\n",
       "    <tr>\n",
       "      <th>...</th>\n",
       "      <td>...</td>\n",
       "      <td>...</td>\n",
       "      <td>...</td>\n",
       "      <td>...</td>\n",
       "      <td>...</td>\n",
       "    </tr>\n",
       "    <tr>\n",
       "      <th>3372</th>\n",
       "      <td>1010244089</td>\n",
       "      <td>9</td>\n",
       "      <td>Store_Brand</td>\n",
       "      <td>9</td>\n",
       "      <td>1</td>\n",
       "    </tr>\n",
       "    <tr>\n",
       "      <th>3374</th>\n",
       "      <td>1010247239</td>\n",
       "      <td>5</td>\n",
       "      <td>Brand_4</td>\n",
       "      <td>5</td>\n",
       "      <td>1</td>\n",
       "    </tr>\n",
       "    <tr>\n",
       "      <th>3376</th>\n",
       "      <td>1010274559</td>\n",
       "      <td>5</td>\n",
       "      <td>Brand_4</td>\n",
       "      <td>5</td>\n",
       "      <td>1</td>\n",
       "    </tr>\n",
       "    <tr>\n",
       "      <th>3377</th>\n",
       "      <td>1110091379</td>\n",
       "      <td>5</td>\n",
       "      <td>Brand_1</td>\n",
       "      <td>5</td>\n",
       "      <td>1</td>\n",
       "    </tr>\n",
       "    <tr>\n",
       "      <th>3378</th>\n",
       "      <td>1408767189</td>\n",
       "      <td>5</td>\n",
       "      <td>Brand_4</td>\n",
       "      <td>5</td>\n",
       "      <td>1</td>\n",
       "    </tr>\n",
       "  </tbody>\n",
       "</table>\n",
       "<p>911 rows × 5 columns</p>\n",
       "</div>"
      ],
      "text/plain": [
       "         user_id  purchases lovely_brand  lovely_brand_purchases  \\\n",
       "13         86281         14      Brand_4                      14   \n",
       "18         94961          6      Brand_4                       6   \n",
       "29        132061          9      Brand_4                       9   \n",
       "30        134281          6      Brand_4                       6   \n",
       "35        157311         12      Brand_4                      12   \n",
       "...          ...        ...          ...                     ...   \n",
       "3372  1010244089          9  Store_Brand                       9   \n",
       "3374  1010247239          5      Brand_4                       5   \n",
       "3376  1010274559          5      Brand_4                       5   \n",
       "3377  1110091379          5      Brand_1                       5   \n",
       "3378  1408767189          5      Brand_4                       5   \n",
       "\n",
       "      unique_brands  \n",
       "13                1  \n",
       "18                1  \n",
       "29                1  \n",
       "30                1  \n",
       "35                1  \n",
       "...             ...  \n",
       "3372              1  \n",
       "3374              1  \n",
       "3376              1  \n",
       "3377              1  \n",
       "3378              1  \n",
       "\n",
       "[911 rows x 5 columns]"
      ]
     },
     "execution_count": 76,
     "metadata": {},
     "output_type": "execute_result"
    }
   ],
   "source": [
    "loyal_users = loyality_df[loyality_df.unique_brands == 1]"
   ]
  },
  {
   "cell_type": "code",
   "execution_count": 78,
   "id": "8ed06193",
   "metadata": {},
   "outputs": [],
   "source": [
    "# Оценим лояльность:"
   ]
  },
  {
   "cell_type": "code",
   "execution_count": 79,
   "id": "b911b931",
   "metadata": {},
   "outputs": [],
   "source": [
    "loyality_df['loyality_score'] = loyality_df.lovely_brand_purchases / loyality_df.purchases"
   ]
  },
  {
   "cell_type": "code",
   "execution_count": 81,
   "id": "a47a62ec",
   "metadata": {
    "scrolled": true
   },
   "outputs": [
    {
     "data": {
      "text/html": [
       "<div>\n",
       "<style scoped>\n",
       "    .dataframe tbody tr th:only-of-type {\n",
       "        vertical-align: middle;\n",
       "    }\n",
       "\n",
       "    .dataframe tbody tr th {\n",
       "        vertical-align: top;\n",
       "    }\n",
       "\n",
       "    .dataframe thead th {\n",
       "        text-align: right;\n",
       "    }\n",
       "</style>\n",
       "<table border=\"1\" class=\"dataframe\">\n",
       "  <thead>\n",
       "    <tr style=\"text-align: right;\">\n",
       "      <th></th>\n",
       "      <th>user_id</th>\n",
       "      <th>purchases</th>\n",
       "      <th>lovely_brand</th>\n",
       "      <th>lovely_brand_purchases</th>\n",
       "      <th>unique_brands</th>\n",
       "      <th>loyality_score</th>\n",
       "    </tr>\n",
       "  </thead>\n",
       "  <tbody>\n",
       "    <tr>\n",
       "      <th>0</th>\n",
       "      <td>1031</td>\n",
       "      <td>6</td>\n",
       "      <td>Store_Brand</td>\n",
       "      <td>5</td>\n",
       "      <td>2</td>\n",
       "      <td>0.833333</td>\n",
       "    </tr>\n",
       "    <tr>\n",
       "      <th>1</th>\n",
       "      <td>4241</td>\n",
       "      <td>5</td>\n",
       "      <td>Brand_4</td>\n",
       "      <td>3</td>\n",
       "      <td>2</td>\n",
       "      <td>0.600000</td>\n",
       "    </tr>\n",
       "    <tr>\n",
       "      <th>2</th>\n",
       "      <td>25971</td>\n",
       "      <td>7</td>\n",
       "      <td>Store_Brand</td>\n",
       "      <td>5</td>\n",
       "      <td>2</td>\n",
       "      <td>0.714286</td>\n",
       "    </tr>\n",
       "    <tr>\n",
       "      <th>3</th>\n",
       "      <td>40911</td>\n",
       "      <td>27</td>\n",
       "      <td>Brand_4</td>\n",
       "      <td>19</td>\n",
       "      <td>5</td>\n",
       "      <td>0.703704</td>\n",
       "    </tr>\n",
       "    <tr>\n",
       "      <th>4</th>\n",
       "      <td>45181</td>\n",
       "      <td>5</td>\n",
       "      <td>Store_Brand</td>\n",
       "      <td>2</td>\n",
       "      <td>4</td>\n",
       "      <td>0.400000</td>\n",
       "    </tr>\n",
       "  </tbody>\n",
       "</table>\n",
       "</div>"
      ],
      "text/plain": [
       "   user_id  purchases lovely_brand  lovely_brand_purchases  unique_brands  \\\n",
       "0     1031          6  Store_Brand                       5              2   \n",
       "1     4241          5      Brand_4                       3              2   \n",
       "2    25971          7  Store_Brand                       5              2   \n",
       "3    40911         27      Brand_4                      19              5   \n",
       "4    45181          5  Store_Brand                       2              4   \n",
       "\n",
       "   loyality_score  \n",
       "0        0.833333  \n",
       "1        0.600000  \n",
       "2        0.714286  \n",
       "3        0.703704  \n",
       "4        0.400000  "
      ]
     },
     "execution_count": 81,
     "metadata": {},
     "output_type": "execute_result"
    }
   ],
   "source": [
    "loyality_df.head(5)"
   ]
  },
  {
   "cell_type": "code",
   "execution_count": 93,
   "id": "46cbf45d",
   "metadata": {},
   "outputs": [],
   "source": [
    "# Построим график лоялити-скора"
   ]
  },
  {
   "cell_type": "code",
   "execution_count": 87,
   "id": "21fea15e",
   "metadata": {},
   "outputs": [
    {
     "data": {
      "image/png": "[encoded data removed]",
      "text/plain": [
       "<Figure size 500x500 with 1 Axes>"
      ]
     },
     "metadata": {},
     "output_type": "display_data"
    }
   ],
   "source": [
    "ax = sns.displot(loyality_df.loyality_score)"
   ]
  },
  {
   "cell_type": "code",
   "execution_count": 88,
   "id": "b4ce9988",
   "metadata": {},
   "outputs": [
    {
     "data": {
      "text/plain": [
       "0.8"
      ]
     },
     "execution_count": 88,
     "metadata": {},
     "output_type": "execute_result"
    }
   ],
   "source": [
    "loyality_df.loyality_score.median()"
   ]
  },
  {
   "cell_type": "code",
   "execution_count": 91,
   "id": "00b6076d",
   "metadata": {},
   "outputs": [],
   "source": [
    "brand_loyality = loyality_df.groupby('lovely_brand', as_index = False) \\\n",
    "    .agg({\"loyality_score\":\"median\",\"user_id\":\"count\" })"
   ]
  },
  {
   "cell_type": "code",
   "execution_count": null,
   "id": "708915e4",
   "metadata": {},
   "outputs": [],
   "source": [
    "# Оценим лояльность покупателей по брендам"
   ]
  },
  {
   "cell_type": "code",
   "execution_count": 92,
   "id": "12d87ff6",
   "metadata": {},
   "outputs": [
    {
     "data": {
      "text/plain": [
       "<AxesSubplot:xlabel='lovely_brand', ylabel='loyality_score'>"
      ]
     },
     "execution_count": 92,
     "metadata": {},
     "output_type": "execute_result"
    },
    {
     "data": {
      "image/png": "[encoded data removed]",
      "text/plain": [
       "<Figure size 640x480 with 1 Axes>"
      ]
     },
     "metadata": {},
     "output_type": "display_data"
    }
   ],
   "source": [
    "sns.barplot(data=brand_loyality, x=\"lovely_brand\", y=\"loyality_score\")"
   ]
  },
  {
   "cell_type": "code",
   "execution_count": null,
   "id": "41dd54f1",
   "metadata": {},
   "outputs": [],
   "source": []
  }
 ],
 "metadata": {
  "kernelspec": {
   "display_name": "Python 3 (ipykernel)",
   "language": "python",
   "name": "python3"
  },
  "language_info": {
   "codemirror_mode": {
    "name": "ipython",
    "version": 3
   },
   "file_extension": ".py",
   "mimetype": "text/x-python",
   "name": "python",
   "nbconvert_exporter": "python",
   "pygments_lexer": "ipython3",
   "version": "3.9.13"
  }
 },
 "nbformat": 4,
 "nbformat_minor": 5
}
