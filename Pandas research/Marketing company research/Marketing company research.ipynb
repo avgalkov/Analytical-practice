{
 "cells": [
  {
   "cell_type": "code",
   "execution_count": 177,
   "id": "1d075d9c",
   "metadata": {},
   "outputs": [],
   "source": [
    "import pandas as pd\n",
    "import os\n",
    "import seaborn as sns\n",
    "import matplotlib.pyplot as plt"
   ]
  },
  {
   "cell_type": "code",
   "execution_count": 178,
   "id": "a33a7a3d",
   "metadata": {},
   "outputs": [],
   "source": [
    "# Получить статистику по дням. \n",
    "# Просто посчитать число всех событий по дням, число показов, число кликов, число уникальных объявлений и уникальных кампаний.\n",
    "# Разобраться, почему случился такой скачок 2019-04-05? Каких событий стало больше? У всех объявлений или только у некоторых?\n",
    "\n",
    "# Найти топ 10 объявлений по CTR за все время. CTR — это отношение всех просмотров объявления к кликам. \n",
    "# Например, если у объявления было 100 показов и 2 клика, CTR = 0.02. \n",
    "# Различается ли средний и медианный CTR объявлений в наших данных?\n",
    "\n",
    "# Похоже, в наших логах есть баг, объявления приходят с кликами, но без показов! \n",
    "# Сколько таких объявлений, есть ли какие-то закономерности? Эта проблема наблюдается на всех платформах?\n",
    "\n",
    "# Есть ли различия в CTR у объявлений с видео и без? А чему равняется 95 процентиль CTR по всем объявлениям за 2019-04-04?\n",
    "\n",
    "# Для финансового отчета нужно рассчитать наш заработок по дням. В какой день мы заработали больше всего? В какой меньше?\n",
    "# Мы списываем с клиентов деньги, если произошел клик по CPC объявлению, и мы списываем деньги за каждый показ CPM объявления,\n",
    "# если у CPM объявления цена - 200 рублей,\n",
    "# то за один показ мы зарабатываем 200 / 1000.\n",
    "# Какая платформа самая популярная для размещения рекламных объявлений? Сколько процентов показов приходится \n",
    "# на каждую из платформ (колонка platform)?\n",
    "\n",
    "# А есть ли такие объявления, по которым сначала произошел клик, а только потом показ?"
   ]
  },
  {
   "cell_type": "code",
   "execution_count": 179,
   "id": "255a1cba",
   "metadata": {},
   "outputs": [],
   "source": [
    "\n",
    "df= pd.read_csv('C:/Users/79295/Desktop/GITHUB/Analytical-practice/datasets/lesson_5.zip', compression = 'zip')"
   ]
  },
  {
   "cell_type": "code",
   "execution_count": 180,
   "id": "2f2eeee0",
   "metadata": {},
   "outputs": [],
   "source": [
    "# Получить статистику по дням. \n",
    "# Просто посчитать число всех событий по дням, число показов, число кликов, число уникальных объявлений и уникальных кампаний.\n",
    "# Разобраться, почему случился такой скачок 2019-04-05? Каких событий стало больше? У всех объявлений или только у некоторых?\n"
   ]
  },
  {
   "cell_type": "code",
   "execution_count": 181,
   "id": "6d11db06",
   "metadata": {},
   "outputs": [
    {
     "data": {
      "text/html": [
       "<div>\n",
       "<style scoped>\n",
       "    .dataframe tbody tr th:only-of-type {\n",
       "        vertical-align: middle;\n",
       "    }\n",
       "\n",
       "    .dataframe tbody tr th {\n",
       "        vertical-align: top;\n",
       "    }\n",
       "\n",
       "    .dataframe thead th {\n",
       "        text-align: right;\n",
       "    }\n",
       "</style>\n",
       "<table border=\"1\" class=\"dataframe\">\n",
       "  <thead>\n",
       "    <tr style=\"text-align: right;\">\n",
       "      <th></th>\n",
       "      <th>ad_id</th>\n",
       "      <th>time</th>\n",
       "      <th>event</th>\n",
       "      <th>date</th>\n",
       "      <th>ad_cost_type</th>\n",
       "      <th>has_video</th>\n",
       "      <th>client_union_id</th>\n",
       "      <th>campaign_union_id</th>\n",
       "      <th>platform</th>\n",
       "      <th>ad_cost</th>\n",
       "      <th>target_audience_count</th>\n",
       "      <th>user_id</th>\n",
       "    </tr>\n",
       "  </thead>\n",
       "  <tbody>\n",
       "    <tr>\n",
       "      <th>0</th>\n",
       "      <td>23456</td>\n",
       "      <td>1554076848</td>\n",
       "      <td>view</td>\n",
       "      <td>2019-04-01</td>\n",
       "      <td>CPM</td>\n",
       "      <td>0</td>\n",
       "      <td>5681</td>\n",
       "      <td>23456</td>\n",
       "      <td>android</td>\n",
       "      <td>190.0</td>\n",
       "      <td>125560</td>\n",
       "      <td>793</td>\n",
       "    </tr>\n",
       "    <tr>\n",
       "      <th>1</th>\n",
       "      <td>111941</td>\n",
       "      <td>1554135866</td>\n",
       "      <td>view</td>\n",
       "      <td>2019-04-01</td>\n",
       "      <td>CPM</td>\n",
       "      <td>0</td>\n",
       "      <td>111793</td>\n",
       "      <td>111941</td>\n",
       "      <td>ios</td>\n",
       "      <td>215.2</td>\n",
       "      <td>32277</td>\n",
       "      <td>1041</td>\n",
       "    </tr>\n",
       "    <tr>\n",
       "      <th>2</th>\n",
       "      <td>111941</td>\n",
       "      <td>1554135866</td>\n",
       "      <td>view</td>\n",
       "      <td>2019-04-01</td>\n",
       "      <td>CPM</td>\n",
       "      <td>0</td>\n",
       "      <td>111793</td>\n",
       "      <td>111941</td>\n",
       "      <td>ios</td>\n",
       "      <td>215.2</td>\n",
       "      <td>32277</td>\n",
       "      <td>41</td>\n",
       "    </tr>\n",
       "    <tr>\n",
       "      <th>3</th>\n",
       "      <td>42987</td>\n",
       "      <td>1554135866</td>\n",
       "      <td>view</td>\n",
       "      <td>2019-04-01</td>\n",
       "      <td>CPM</td>\n",
       "      <td>0</td>\n",
       "      <td>28541</td>\n",
       "      <td>42985</td>\n",
       "      <td>ios</td>\n",
       "      <td>199.1</td>\n",
       "      <td>80160</td>\n",
       "      <td>898</td>\n",
       "    </tr>\n",
       "    <tr>\n",
       "      <th>4</th>\n",
       "      <td>23456</td>\n",
       "      <td>1554135866</td>\n",
       "      <td>view</td>\n",
       "      <td>2019-04-01</td>\n",
       "      <td>CPM</td>\n",
       "      <td>0</td>\n",
       "      <td>5681</td>\n",
       "      <td>23456</td>\n",
       "      <td>web</td>\n",
       "      <td>190.0</td>\n",
       "      <td>125560</td>\n",
       "      <td>29</td>\n",
       "    </tr>\n",
       "  </tbody>\n",
       "</table>\n",
       "</div>"
      ],
      "text/plain": [
       "    ad_id        time event        date ad_cost_type  has_video  \\\n",
       "0   23456  1554076848  view  2019-04-01          CPM          0   \n",
       "1  111941  1554135866  view  2019-04-01          CPM          0   \n",
       "2  111941  1554135866  view  2019-04-01          CPM          0   \n",
       "3   42987  1554135866  view  2019-04-01          CPM          0   \n",
       "4   23456  1554135866  view  2019-04-01          CPM          0   \n",
       "\n",
       "   client_union_id  campaign_union_id platform  ad_cost  \\\n",
       "0             5681              23456  android    190.0   \n",
       "1           111793             111941      ios    215.2   \n",
       "2           111793             111941      ios    215.2   \n",
       "3            28541              42985      ios    199.1   \n",
       "4             5681              23456      web    190.0   \n",
       "\n",
       "   target_audience_count  user_id  \n",
       "0                 125560      793  \n",
       "1                  32277     1041  \n",
       "2                  32277       41  \n",
       "3                  80160      898  \n",
       "4                 125560       29  "
      ]
     },
     "execution_count": 181,
     "metadata": {},
     "output_type": "execute_result"
    }
   ],
   "source": [
    "df.head()"
   ]
  },
  {
   "cell_type": "code",
   "execution_count": 182,
   "id": "b73e423c",
   "metadata": {},
   "outputs": [
    {
     "data": {
      "text/plain": [
       "(3176714, 12)"
      ]
     },
     "execution_count": 182,
     "metadata": {},
     "output_type": "execute_result"
    }
   ],
   "source": [
    "df.shape"
   ]
  },
  {
   "cell_type": "code",
   "execution_count": 183,
   "id": "b3309a0b",
   "metadata": {},
   "outputs": [],
   "source": [
    "df['full_date'] = pd.to_datetime(df.time, unit='s')"
   ]
  },
  {
   "cell_type": "code",
   "execution_count": 184,
   "id": "248ea53d",
   "metadata": {},
   "outputs": [
    {
     "data": {
      "text/html": [
       "<div>\n",
       "<style scoped>\n",
       "    .dataframe tbody tr th:only-of-type {\n",
       "        vertical-align: middle;\n",
       "    }\n",
       "\n",
       "    .dataframe tbody tr th {\n",
       "        vertical-align: top;\n",
       "    }\n",
       "\n",
       "    .dataframe thead th {\n",
       "        text-align: right;\n",
       "    }\n",
       "</style>\n",
       "<table border=\"1\" class=\"dataframe\">\n",
       "  <thead>\n",
       "    <tr style=\"text-align: right;\">\n",
       "      <th></th>\n",
       "      <th>ad_id</th>\n",
       "      <th>time</th>\n",
       "      <th>event</th>\n",
       "      <th>date</th>\n",
       "      <th>ad_cost_type</th>\n",
       "      <th>has_video</th>\n",
       "      <th>client_union_id</th>\n",
       "      <th>campaign_union_id</th>\n",
       "      <th>platform</th>\n",
       "      <th>ad_cost</th>\n",
       "      <th>target_audience_count</th>\n",
       "      <th>user_id</th>\n",
       "      <th>full_date</th>\n",
       "    </tr>\n",
       "  </thead>\n",
       "  <tbody>\n",
       "    <tr>\n",
       "      <th>0</th>\n",
       "      <td>23456</td>\n",
       "      <td>1554076848</td>\n",
       "      <td>view</td>\n",
       "      <td>2019-04-01</td>\n",
       "      <td>CPM</td>\n",
       "      <td>0</td>\n",
       "      <td>5681</td>\n",
       "      <td>23456</td>\n",
       "      <td>android</td>\n",
       "      <td>190.0</td>\n",
       "      <td>125560</td>\n",
       "      <td>793</td>\n",
       "      <td>2019-04-01 00:00:48</td>\n",
       "    </tr>\n",
       "    <tr>\n",
       "      <th>1</th>\n",
       "      <td>111941</td>\n",
       "      <td>1554135866</td>\n",
       "      <td>view</td>\n",
       "      <td>2019-04-01</td>\n",
       "      <td>CPM</td>\n",
       "      <td>0</td>\n",
       "      <td>111793</td>\n",
       "      <td>111941</td>\n",
       "      <td>ios</td>\n",
       "      <td>215.2</td>\n",
       "      <td>32277</td>\n",
       "      <td>1041</td>\n",
       "      <td>2019-04-01 16:24:26</td>\n",
       "    </tr>\n",
       "    <tr>\n",
       "      <th>2</th>\n",
       "      <td>111941</td>\n",
       "      <td>1554135866</td>\n",
       "      <td>view</td>\n",
       "      <td>2019-04-01</td>\n",
       "      <td>CPM</td>\n",
       "      <td>0</td>\n",
       "      <td>111793</td>\n",
       "      <td>111941</td>\n",
       "      <td>ios</td>\n",
       "      <td>215.2</td>\n",
       "      <td>32277</td>\n",
       "      <td>41</td>\n",
       "      <td>2019-04-01 16:24:26</td>\n",
       "    </tr>\n",
       "    <tr>\n",
       "      <th>3</th>\n",
       "      <td>42987</td>\n",
       "      <td>1554135866</td>\n",
       "      <td>view</td>\n",
       "      <td>2019-04-01</td>\n",
       "      <td>CPM</td>\n",
       "      <td>0</td>\n",
       "      <td>28541</td>\n",
       "      <td>42985</td>\n",
       "      <td>ios</td>\n",
       "      <td>199.1</td>\n",
       "      <td>80160</td>\n",
       "      <td>898</td>\n",
       "      <td>2019-04-01 16:24:26</td>\n",
       "    </tr>\n",
       "    <tr>\n",
       "      <th>4</th>\n",
       "      <td>23456</td>\n",
       "      <td>1554135866</td>\n",
       "      <td>view</td>\n",
       "      <td>2019-04-01</td>\n",
       "      <td>CPM</td>\n",
       "      <td>0</td>\n",
       "      <td>5681</td>\n",
       "      <td>23456</td>\n",
       "      <td>web</td>\n",
       "      <td>190.0</td>\n",
       "      <td>125560</td>\n",
       "      <td>29</td>\n",
       "      <td>2019-04-01 16:24:26</td>\n",
       "    </tr>\n",
       "  </tbody>\n",
       "</table>\n",
       "</div>"
      ],
      "text/plain": [
       "    ad_id        time event        date ad_cost_type  has_video  \\\n",
       "0   23456  1554076848  view  2019-04-01          CPM          0   \n",
       "1  111941  1554135866  view  2019-04-01          CPM          0   \n",
       "2  111941  1554135866  view  2019-04-01          CPM          0   \n",
       "3   42987  1554135866  view  2019-04-01          CPM          0   \n",
       "4   23456  1554135866  view  2019-04-01          CPM          0   \n",
       "\n",
       "   client_union_id  campaign_union_id platform  ad_cost  \\\n",
       "0             5681              23456  android    190.0   \n",
       "1           111793             111941      ios    215.2   \n",
       "2           111793             111941      ios    215.2   \n",
       "3            28541              42985      ios    199.1   \n",
       "4             5681              23456      web    190.0   \n",
       "\n",
       "   target_audience_count  user_id           full_date  \n",
       "0                 125560      793 2019-04-01 00:00:48  \n",
       "1                  32277     1041 2019-04-01 16:24:26  \n",
       "2                  32277       41 2019-04-01 16:24:26  \n",
       "3                  80160      898 2019-04-01 16:24:26  \n",
       "4                 125560       29 2019-04-01 16:24:26  "
      ]
     },
     "execution_count": 184,
     "metadata": {},
     "output_type": "execute_result"
    }
   ],
   "source": [
    "df.head()"
   ]
  },
  {
   "cell_type": "code",
   "execution_count": 185,
   "id": "deb342ee",
   "metadata": {},
   "outputs": [
    {
     "data": {
      "text/plain": [
       "ad_id                             int64\n",
       "time                              int64\n",
       "event                            object\n",
       "date                             object\n",
       "ad_cost_type                     object\n",
       "has_video                         int64\n",
       "client_union_id                   int64\n",
       "campaign_union_id                 int64\n",
       "platform                         object\n",
       "ad_cost                         float64\n",
       "target_audience_count             int64\n",
       "user_id                           int64\n",
       "full_date                datetime64[ns]\n",
       "dtype: object"
      ]
     },
     "execution_count": 185,
     "metadata": {},
     "output_type": "execute_result"
    }
   ],
   "source": [
    "df.dtypes"
   ]
  },
  {
   "cell_type": "code",
   "execution_count": 186,
   "id": "3f8b8f23",
   "metadata": {},
   "outputs": [],
   "source": [
    "df['date'] = pd.to_datetime(df.date)"
   ]
  },
  {
   "cell_type": "code",
   "execution_count": 187,
   "id": "4cb226b2",
   "metadata": {},
   "outputs": [
    {
     "data": {
      "text/plain": [
       "ad_id                             int64\n",
       "time                              int64\n",
       "event                            object\n",
       "date                     datetime64[ns]\n",
       "ad_cost_type                     object\n",
       "has_video                         int64\n",
       "client_union_id                   int64\n",
       "campaign_union_id                 int64\n",
       "platform                         object\n",
       "ad_cost                         float64\n",
       "target_audience_count             int64\n",
       "user_id                           int64\n",
       "full_date                datetime64[ns]\n",
       "dtype: object"
      ]
     },
     "execution_count": 187,
     "metadata": {},
     "output_type": "execute_result"
    }
   ],
   "source": [
    "df.dtypes"
   ]
  },
  {
   "cell_type": "code",
   "execution_count": 188,
   "id": "f17df75a",
   "metadata": {},
   "outputs": [
    {
     "data": {
      "text/html": [
       "<div>\n",
       "<style scoped>\n",
       "    .dataframe tbody tr th:only-of-type {\n",
       "        vertical-align: middle;\n",
       "    }\n",
       "\n",
       "    .dataframe tbody tr th {\n",
       "        vertical-align: top;\n",
       "    }\n",
       "\n",
       "    .dataframe thead th {\n",
       "        text-align: right;\n",
       "    }\n",
       "</style>\n",
       "<table border=\"1\" class=\"dataframe\">\n",
       "  <thead>\n",
       "    <tr style=\"text-align: right;\">\n",
       "      <th></th>\n",
       "      <th>ad_id</th>\n",
       "    </tr>\n",
       "    <tr>\n",
       "      <th>date</th>\n",
       "      <th></th>\n",
       "    </tr>\n",
       "  </thead>\n",
       "  <tbody>\n",
       "    <tr>\n",
       "      <th>2019-04-01</th>\n",
       "      <td>35567</td>\n",
       "    </tr>\n",
       "    <tr>\n",
       "      <th>2019-04-02</th>\n",
       "      <td>147329</td>\n",
       "    </tr>\n",
       "    <tr>\n",
       "      <th>2019-04-03</th>\n",
       "      <td>216529</td>\n",
       "    </tr>\n",
       "    <tr>\n",
       "      <th>2019-04-04</th>\n",
       "      <td>127699</td>\n",
       "    </tr>\n",
       "    <tr>\n",
       "      <th>2019-04-05</th>\n",
       "      <td>2284883</td>\n",
       "    </tr>\n",
       "    <tr>\n",
       "      <th>2019-04-06</th>\n",
       "      <td>364707</td>\n",
       "    </tr>\n",
       "  </tbody>\n",
       "</table>\n",
       "</div>"
      ],
      "text/plain": [
       "              ad_id\n",
       "date               \n",
       "2019-04-01    35567\n",
       "2019-04-02   147329\n",
       "2019-04-03   216529\n",
       "2019-04-04   127699\n",
       "2019-04-05  2284883\n",
       "2019-04-06   364707"
      ]
     },
     "execution_count": 188,
     "metadata": {},
     "output_type": "execute_result"
    }
   ],
   "source": [
    "df.groupby('date').agg({\"ad_id\":\"count\"})"
   ]
  },
  {
   "cell_type": "code",
   "execution_count": 189,
   "id": "60dcf8e0",
   "metadata": {},
   "outputs": [
    {
     "data": {
      "text/plain": [
       "<AxesSubplot:xlabel='date'>"
      ]
     },
     "execution_count": 189,
     "metadata": {},
     "output_type": "execute_result"
    },
    {
     "data": {
      "image/png": "[encoded data removed]",
      "text/plain": [
       "<Figure size 640x480 with 1 Axes>"
      ]
     },
     "metadata": {},
     "output_type": "display_data"
    }
   ],
   "source": [
    "df.groupby('date').agg({\"ad_id\":\"count\"}).plot()"
   ]
  },
  {
   "cell_type": "code",
   "execution_count": 190,
   "id": "d4baeb17",
   "metadata": {},
   "outputs": [
    {
     "data": {
      "text/html": [
       "<div>\n",
       "<style scoped>\n",
       "    .dataframe tbody tr th:only-of-type {\n",
       "        vertical-align: middle;\n",
       "    }\n",
       "\n",
       "    .dataframe tbody tr th {\n",
       "        vertical-align: top;\n",
       "    }\n",
       "\n",
       "    .dataframe thead th {\n",
       "        text-align: right;\n",
       "    }\n",
       "</style>\n",
       "<table border=\"1\" class=\"dataframe\">\n",
       "  <thead>\n",
       "    <tr style=\"text-align: right;\">\n",
       "      <th></th>\n",
       "      <th>date</th>\n",
       "      <th>event</th>\n",
       "      <th>ad_id</th>\n",
       "    </tr>\n",
       "  </thead>\n",
       "  <tbody>\n",
       "    <tr>\n",
       "      <th>0</th>\n",
       "      <td>2019-04-01</td>\n",
       "      <td>click</td>\n",
       "      <td>735</td>\n",
       "    </tr>\n",
       "    <tr>\n",
       "      <th>1</th>\n",
       "      <td>2019-04-01</td>\n",
       "      <td>view</td>\n",
       "      <td>34832</td>\n",
       "    </tr>\n",
       "    <tr>\n",
       "      <th>2</th>\n",
       "      <td>2019-04-02</td>\n",
       "      <td>click</td>\n",
       "      <td>1518</td>\n",
       "    </tr>\n",
       "    <tr>\n",
       "      <th>3</th>\n",
       "      <td>2019-04-02</td>\n",
       "      <td>view</td>\n",
       "      <td>145811</td>\n",
       "    </tr>\n",
       "    <tr>\n",
       "      <th>4</th>\n",
       "      <td>2019-04-03</td>\n",
       "      <td>click</td>\n",
       "      <td>1678</td>\n",
       "    </tr>\n",
       "    <tr>\n",
       "      <th>5</th>\n",
       "      <td>2019-04-03</td>\n",
       "      <td>view</td>\n",
       "      <td>214851</td>\n",
       "    </tr>\n",
       "    <tr>\n",
       "      <th>6</th>\n",
       "      <td>2019-04-04</td>\n",
       "      <td>click</td>\n",
       "      <td>1517</td>\n",
       "    </tr>\n",
       "    <tr>\n",
       "      <th>7</th>\n",
       "      <td>2019-04-04</td>\n",
       "      <td>view</td>\n",
       "      <td>126182</td>\n",
       "    </tr>\n",
       "    <tr>\n",
       "      <th>8</th>\n",
       "      <td>2019-04-05</td>\n",
       "      <td>click</td>\n",
       "      <td>501595</td>\n",
       "    </tr>\n",
       "    <tr>\n",
       "      <th>9</th>\n",
       "      <td>2019-04-05</td>\n",
       "      <td>view</td>\n",
       "      <td>1783288</td>\n",
       "    </tr>\n",
       "    <tr>\n",
       "      <th>10</th>\n",
       "      <td>2019-04-06</td>\n",
       "      <td>click</td>\n",
       "      <td>80420</td>\n",
       "    </tr>\n",
       "    <tr>\n",
       "      <th>11</th>\n",
       "      <td>2019-04-06</td>\n",
       "      <td>view</td>\n",
       "      <td>284287</td>\n",
       "    </tr>\n",
       "  </tbody>\n",
       "</table>\n",
       "</div>"
      ],
      "text/plain": [
       "         date  event    ad_id\n",
       "0  2019-04-01  click      735\n",
       "1  2019-04-01   view    34832\n",
       "2  2019-04-02  click     1518\n",
       "3  2019-04-02   view   145811\n",
       "4  2019-04-03  click     1678\n",
       "5  2019-04-03   view   214851\n",
       "6  2019-04-04  click     1517\n",
       "7  2019-04-04   view   126182\n",
       "8  2019-04-05  click   501595\n",
       "9  2019-04-05   view  1783288\n",
       "10 2019-04-06  click    80420\n",
       "11 2019-04-06   view   284287"
      ]
     },
     "execution_count": 190,
     "metadata": {},
     "output_type": "execute_result"
    }
   ],
   "source": [
    "df.groupby(['date','event'],as_index=False) \\\n",
    "    .agg({\"ad_id\":\"count\"}) "
   ]
  },
  {
   "cell_type": "code",
   "execution_count": 191,
   "id": "10e9db5f",
   "metadata": {},
   "outputs": [
    {
     "data": {
      "text/html": [
       "<div>\n",
       "<style scoped>\n",
       "    .dataframe tbody tr th:only-of-type {\n",
       "        vertical-align: middle;\n",
       "    }\n",
       "\n",
       "    .dataframe tbody tr th {\n",
       "        vertical-align: top;\n",
       "    }\n",
       "\n",
       "    .dataframe thead th {\n",
       "        text-align: right;\n",
       "    }\n",
       "</style>\n",
       "<table border=\"1\" class=\"dataframe\">\n",
       "  <thead>\n",
       "    <tr style=\"text-align: right;\">\n",
       "      <th>event</th>\n",
       "      <th>click</th>\n",
       "      <th>view</th>\n",
       "    </tr>\n",
       "    <tr>\n",
       "      <th>date</th>\n",
       "      <th></th>\n",
       "      <th></th>\n",
       "    </tr>\n",
       "  </thead>\n",
       "  <tbody>\n",
       "    <tr>\n",
       "      <th>2019-04-01</th>\n",
       "      <td>735</td>\n",
       "      <td>34832</td>\n",
       "    </tr>\n",
       "    <tr>\n",
       "      <th>2019-04-02</th>\n",
       "      <td>1518</td>\n",
       "      <td>145811</td>\n",
       "    </tr>\n",
       "    <tr>\n",
       "      <th>2019-04-03</th>\n",
       "      <td>1678</td>\n",
       "      <td>214851</td>\n",
       "    </tr>\n",
       "    <tr>\n",
       "      <th>2019-04-04</th>\n",
       "      <td>1517</td>\n",
       "      <td>126182</td>\n",
       "    </tr>\n",
       "    <tr>\n",
       "      <th>2019-04-05</th>\n",
       "      <td>501595</td>\n",
       "      <td>1783288</td>\n",
       "    </tr>\n",
       "    <tr>\n",
       "      <th>2019-04-06</th>\n",
       "      <td>80420</td>\n",
       "      <td>284287</td>\n",
       "    </tr>\n",
       "  </tbody>\n",
       "</table>\n",
       "</div>"
      ],
      "text/plain": [
       "event        click     view\n",
       "date                       \n",
       "2019-04-01     735    34832\n",
       "2019-04-02    1518   145811\n",
       "2019-04-03    1678   214851\n",
       "2019-04-04    1517   126182\n",
       "2019-04-05  501595  1783288\n",
       "2019-04-06   80420   284287"
      ]
     },
     "execution_count": 191,
     "metadata": {},
     "output_type": "execute_result"
    }
   ],
   "source": [
    "df.groupby(['date','event'],as_index=False) \\\n",
    "    .agg({\"ad_id\":\"count\"}) \\\n",
    "    .pivot(index='date', columns='event',values='ad_id')"
   ]
  },
  {
   "cell_type": "code",
   "execution_count": 192,
   "id": "4ed477de",
   "metadata": {},
   "outputs": [
    {
     "data": {
      "text/plain": [
       "<AxesSubplot:xlabel='date'>"
      ]
     },
     "execution_count": 192,
     "metadata": {},
     "output_type": "execute_result"
    },
    {
     "data": {
      "image/png": "[encoded data removed]",
      "text/plain": [
       "<Figure size 640x480 with 1 Axes>"
      ]
     },
     "metadata": {},
     "output_type": "display_data"
    }
   ],
   "source": [
    "df.groupby(['date','event'],as_index=False) \\\n",
    "    .agg({\"ad_id\":\"count\"}) \\\n",
    "    .pivot(index='date', columns='event',values='ad_id').plot()"
   ]
  },
  {
   "cell_type": "code",
   "execution_count": 193,
   "id": "e2e2e4f4",
   "metadata": {},
   "outputs": [
    {
     "data": {
      "text/html": [
       "<div>\n",
       "<style scoped>\n",
       "    .dataframe tbody tr th:only-of-type {\n",
       "        vertical-align: middle;\n",
       "    }\n",
       "\n",
       "    .dataframe tbody tr th {\n",
       "        vertical-align: top;\n",
       "    }\n",
       "\n",
       "    .dataframe thead th {\n",
       "        text-align: right;\n",
       "    }\n",
       "</style>\n",
       "<table border=\"1\" class=\"dataframe\">\n",
       "  <thead>\n",
       "    <tr style=\"text-align: right;\">\n",
       "      <th>event</th>\n",
       "      <th>date</th>\n",
       "      <th>click</th>\n",
       "      <th>view</th>\n",
       "    </tr>\n",
       "  </thead>\n",
       "  <tbody>\n",
       "    <tr>\n",
       "      <th>0</th>\n",
       "      <td>2019-04-01</td>\n",
       "      <td>735</td>\n",
       "      <td>34832</td>\n",
       "    </tr>\n",
       "    <tr>\n",
       "      <th>1</th>\n",
       "      <td>2019-04-02</td>\n",
       "      <td>1518</td>\n",
       "      <td>145811</td>\n",
       "    </tr>\n",
       "    <tr>\n",
       "      <th>2</th>\n",
       "      <td>2019-04-03</td>\n",
       "      <td>1678</td>\n",
       "      <td>214851</td>\n",
       "    </tr>\n",
       "    <tr>\n",
       "      <th>3</th>\n",
       "      <td>2019-04-04</td>\n",
       "      <td>1517</td>\n",
       "      <td>126182</td>\n",
       "    </tr>\n",
       "    <tr>\n",
       "      <th>4</th>\n",
       "      <td>2019-04-05</td>\n",
       "      <td>501595</td>\n",
       "      <td>1783288</td>\n",
       "    </tr>\n",
       "    <tr>\n",
       "      <th>5</th>\n",
       "      <td>2019-04-06</td>\n",
       "      <td>80420</td>\n",
       "      <td>284287</td>\n",
       "    </tr>\n",
       "  </tbody>\n",
       "</table>\n",
       "</div>"
      ],
      "text/plain": [
       "event       date   click     view\n",
       "0     2019-04-01     735    34832\n",
       "1     2019-04-02    1518   145811\n",
       "2     2019-04-03    1678   214851\n",
       "3     2019-04-04    1517   126182\n",
       "4     2019-04-05  501595  1783288\n",
       "5     2019-04-06   80420   284287"
      ]
     },
     "execution_count": 193,
     "metadata": {},
     "output_type": "execute_result"
    }
   ],
   "source": [
    "df.groupby(['date','event'],as_index=False) \\\n",
    "    .agg({\"ad_id\":\"count\"}) \\\n",
    "    .pivot(index='date', columns='event',values='ad_id').reset_index()"
   ]
  },
  {
   "cell_type": "code",
   "execution_count": 194,
   "id": "5b40a91a",
   "metadata": {},
   "outputs": [
    {
     "data": {
      "text/html": [
       "<div>\n",
       "<style scoped>\n",
       "    .dataframe tbody tr th:only-of-type {\n",
       "        vertical-align: middle;\n",
       "    }\n",
       "\n",
       "    .dataframe tbody tr th {\n",
       "        vertical-align: top;\n",
       "    }\n",
       "\n",
       "    .dataframe thead th {\n",
       "        text-align: right;\n",
       "    }\n",
       "</style>\n",
       "<table border=\"1\" class=\"dataframe\">\n",
       "  <thead>\n",
       "    <tr style=\"text-align: right;\">\n",
       "      <th>event</th>\n",
       "      <th>date</th>\n",
       "      <th>click</th>\n",
       "      <th>view</th>\n",
       "    </tr>\n",
       "  </thead>\n",
       "  <tbody>\n",
       "    <tr>\n",
       "      <th>0</th>\n",
       "      <td>2019-04-01</td>\n",
       "      <td>42</td>\n",
       "      <td>39</td>\n",
       "    </tr>\n",
       "    <tr>\n",
       "      <th>1</th>\n",
       "      <td>2019-04-02</td>\n",
       "      <td>115</td>\n",
       "      <td>135</td>\n",
       "    </tr>\n",
       "    <tr>\n",
       "      <th>2</th>\n",
       "      <td>2019-04-03</td>\n",
       "      <td>116</td>\n",
       "      <td>172</td>\n",
       "    </tr>\n",
       "    <tr>\n",
       "      <th>3</th>\n",
       "      <td>2019-04-04</td>\n",
       "      <td>106</td>\n",
       "      <td>146</td>\n",
       "    </tr>\n",
       "    <tr>\n",
       "      <th>4</th>\n",
       "      <td>2019-04-05</td>\n",
       "      <td>86</td>\n",
       "      <td>127</td>\n",
       "    </tr>\n",
       "    <tr>\n",
       "      <th>5</th>\n",
       "      <td>2019-04-06</td>\n",
       "      <td>43</td>\n",
       "      <td>59</td>\n",
       "    </tr>\n",
       "  </tbody>\n",
       "</table>\n",
       "</div>"
      ],
      "text/plain": [
       "event       date  click  view\n",
       "0     2019-04-01     42    39\n",
       "1     2019-04-02    115   135\n",
       "2     2019-04-03    116   172\n",
       "3     2019-04-04    106   146\n",
       "4     2019-04-05     86   127\n",
       "5     2019-04-06     43    59"
      ]
     },
     "execution_count": 194,
     "metadata": {},
     "output_type": "execute_result"
    }
   ],
   "source": [
    "df.groupby(['date','event'],as_index=False) \\\n",
    "    .client_union_id.nunique() \\\n",
    "    .pivot(index='date', columns='event',values='client_union_id').reset_index()"
   ]
  },
  {
   "cell_type": "code",
   "execution_count": 195,
   "id": "82834b3b",
   "metadata": {},
   "outputs": [
    {
     "data": {
      "text/html": [
       "<div>\n",
       "<style scoped>\n",
       "    .dataframe tbody tr th:only-of-type {\n",
       "        vertical-align: middle;\n",
       "    }\n",
       "\n",
       "    .dataframe tbody tr th {\n",
       "        vertical-align: top;\n",
       "    }\n",
       "\n",
       "    .dataframe thead th {\n",
       "        text-align: right;\n",
       "    }\n",
       "</style>\n",
       "<table border=\"1\" class=\"dataframe\">\n",
       "  <thead>\n",
       "    <tr style=\"text-align: right;\">\n",
       "      <th>event</th>\n",
       "      <th>date</th>\n",
       "      <th>click</th>\n",
       "      <th>view</th>\n",
       "    </tr>\n",
       "  </thead>\n",
       "  <tbody>\n",
       "    <tr>\n",
       "      <th>0</th>\n",
       "      <td>2019-04-01</td>\n",
       "      <td>44</td>\n",
       "      <td>40</td>\n",
       "    </tr>\n",
       "    <tr>\n",
       "      <th>1</th>\n",
       "      <td>2019-04-02</td>\n",
       "      <td>120</td>\n",
       "      <td>139</td>\n",
       "    </tr>\n",
       "    <tr>\n",
       "      <th>2</th>\n",
       "      <td>2019-04-03</td>\n",
       "      <td>119</td>\n",
       "      <td>177</td>\n",
       "    </tr>\n",
       "    <tr>\n",
       "      <th>3</th>\n",
       "      <td>2019-04-04</td>\n",
       "      <td>107</td>\n",
       "      <td>147</td>\n",
       "    </tr>\n",
       "    <tr>\n",
       "      <th>4</th>\n",
       "      <td>2019-04-05</td>\n",
       "      <td>87</td>\n",
       "      <td>130</td>\n",
       "    </tr>\n",
       "    <tr>\n",
       "      <th>5</th>\n",
       "      <td>2019-04-06</td>\n",
       "      <td>43</td>\n",
       "      <td>60</td>\n",
       "    </tr>\n",
       "  </tbody>\n",
       "</table>\n",
       "</div>"
      ],
      "text/plain": [
       "event       date  click  view\n",
       "0     2019-04-01     44    40\n",
       "1     2019-04-02    120   139\n",
       "2     2019-04-03    119   177\n",
       "3     2019-04-04    107   147\n",
       "4     2019-04-05     87   130\n",
       "5     2019-04-06     43    60"
      ]
     },
     "execution_count": 195,
     "metadata": {},
     "output_type": "execute_result"
    }
   ],
   "source": [
    "df.groupby(['date','event'],as_index=False) \\\n",
    "    .campaign_union_id.nunique() \\\n",
    "    .pivot(index='date',columns='event',values='campaign_union_id') \\\n",
    "    .reset_index()"
   ]
  },
  {
   "cell_type": "code",
   "execution_count": 196,
   "id": "84455df9",
   "metadata": {},
   "outputs": [
    {
     "data": {
      "text/html": [
       "<div>\n",
       "<style scoped>\n",
       "    .dataframe tbody tr th:only-of-type {\n",
       "        vertical-align: middle;\n",
       "    }\n",
       "\n",
       "    .dataframe tbody tr th {\n",
       "        vertical-align: top;\n",
       "    }\n",
       "\n",
       "    .dataframe thead th {\n",
       "        text-align: right;\n",
       "    }\n",
       "</style>\n",
       "<table border=\"1\" class=\"dataframe\">\n",
       "  <thead>\n",
       "    <tr style=\"text-align: right;\">\n",
       "      <th></th>\n",
       "      <th>ad_id</th>\n",
       "      <th>count_actions</th>\n",
       "    </tr>\n",
       "  </thead>\n",
       "  <tbody>\n",
       "    <tr>\n",
       "      <th>108</th>\n",
       "      <td>112583</td>\n",
       "      <td>2166611</td>\n",
       "    </tr>\n",
       "    <tr>\n",
       "      <th>27</th>\n",
       "      <td>29927</td>\n",
       "      <td>27186</td>\n",
       "    </tr>\n",
       "    <tr>\n",
       "      <th>65</th>\n",
       "      <td>44635</td>\n",
       "      <td>8268</td>\n",
       "    </tr>\n",
       "    <tr>\n",
       "      <th>81</th>\n",
       "      <td>46583</td>\n",
       "      <td>7327</td>\n",
       "    </tr>\n",
       "    <tr>\n",
       "      <th>66</th>\n",
       "      <td>44956</td>\n",
       "      <td>5656</td>\n",
       "    </tr>\n",
       "  </tbody>\n",
       "</table>\n",
       "</div>"
      ],
      "text/plain": [
       "      ad_id  count_actions\n",
       "108  112583        2166611\n",
       "27    29927          27186\n",
       "65    44635           8268\n",
       "81    46583           7327\n",
       "66    44956           5656"
      ]
     },
     "execution_count": 196,
     "metadata": {},
     "output_type": "execute_result"
    }
   ],
   "source": [
    "df[df.date == '2019-04-05'] \\\n",
    "    .groupby('ad_id', as_index=False) \\\n",
    "    .agg({\"time\":\"count\"}) \\\n",
    "    .rename(columns={\"time\":\"count_actions\"}) \\\n",
    "    .sort_values(by='count_actions', ascending=False).head()\n",
    "    "
   ]
  },
  {
   "cell_type": "code",
   "execution_count": 197,
   "id": "59c4d9b5",
   "metadata": {},
   "outputs": [],
   "source": [
    "ad_id=112583"
   ]
  },
  {
   "cell_type": "code",
   "execution_count": 198,
   "id": "59c2972f",
   "metadata": {},
   "outputs": [
    {
     "data": {
      "text/html": [
       "<div>\n",
       "<style scoped>\n",
       "    .dataframe tbody tr th:only-of-type {\n",
       "        vertical-align: middle;\n",
       "    }\n",
       "\n",
       "    .dataframe tbody tr th {\n",
       "        vertical-align: top;\n",
       "    }\n",
       "\n",
       "    .dataframe thead th {\n",
       "        text-align: right;\n",
       "    }\n",
       "</style>\n",
       "<table border=\"1\" class=\"dataframe\">\n",
       "  <thead>\n",
       "    <tr style=\"text-align: right;\">\n",
       "      <th></th>\n",
       "      <th>time</th>\n",
       "    </tr>\n",
       "    <tr>\n",
       "      <th>date</th>\n",
       "      <th></th>\n",
       "    </tr>\n",
       "  </thead>\n",
       "  <tbody>\n",
       "    <tr>\n",
       "      <th>2019-04-05</th>\n",
       "      <td>2166611</td>\n",
       "    </tr>\n",
       "    <tr>\n",
       "      <th>2019-04-06</th>\n",
       "      <td>348613</td>\n",
       "    </tr>\n",
       "  </tbody>\n",
       "</table>\n",
       "</div>"
      ],
      "text/plain": [
       "               time\n",
       "date               \n",
       "2019-04-05  2166611\n",
       "2019-04-06   348613"
      ]
     },
     "execution_count": 198,
     "metadata": {},
     "output_type": "execute_result"
    }
   ],
   "source": [
    "df.query('ad_id ==@ad_id') \\\n",
    "    .groupby('date') \\\n",
    "    .agg({\"time\":\"count\"})\n",
    "    "
   ]
  },
  {
   "cell_type": "code",
   "execution_count": 199,
   "id": "2d72f680",
   "metadata": {},
   "outputs": [],
   "source": [
    "# Найти топ 10 объявлений по CTR за все время. CTR — это отношение всех просмотров объявления к кликам. \n",
    "# Например, если у объявления было 100 показов и 2 клика, CTR = 0.02. \n",
    "# Различается ли средний и медианный CTR объявлений в наших данных?"
   ]
  },
  {
   "cell_type": "code",
   "execution_count": 200,
   "id": "1e95081c",
   "metadata": {},
   "outputs": [
    {
     "data": {
      "text/html": [
       "<div>\n",
       "<style scoped>\n",
       "    .dataframe tbody tr th:only-of-type {\n",
       "        vertical-align: middle;\n",
       "    }\n",
       "\n",
       "    .dataframe tbody tr th {\n",
       "        vertical-align: top;\n",
       "    }\n",
       "\n",
       "    .dataframe thead th {\n",
       "        text-align: right;\n",
       "    }\n",
       "</style>\n",
       "<table border=\"1\" class=\"dataframe\">\n",
       "  <thead>\n",
       "    <tr style=\"text-align: right;\">\n",
       "      <th>event</th>\n",
       "      <th>ad_id</th>\n",
       "      <th>click</th>\n",
       "      <th>view</th>\n",
       "    </tr>\n",
       "  </thead>\n",
       "  <tbody>\n",
       "    <tr>\n",
       "      <th>0</th>\n",
       "      <td>3</td>\n",
       "      <td>9.0</td>\n",
       "      <td>490.0</td>\n",
       "    </tr>\n",
       "    <tr>\n",
       "      <th>1</th>\n",
       "      <td>2132</td>\n",
       "      <td>1.0</td>\n",
       "      <td>95.0</td>\n",
       "    </tr>\n",
       "    <tr>\n",
       "      <th>2</th>\n",
       "      <td>2276</td>\n",
       "      <td>2.0</td>\n",
       "      <td>1454.0</td>\n",
       "    </tr>\n",
       "    <tr>\n",
       "      <th>3</th>\n",
       "      <td>2475</td>\n",
       "      <td>NaN</td>\n",
       "      <td>132.0</td>\n",
       "    </tr>\n",
       "    <tr>\n",
       "      <th>4</th>\n",
       "      <td>2643</td>\n",
       "      <td>3.0</td>\n",
       "      <td>286.0</td>\n",
       "    </tr>\n",
       "    <tr>\n",
       "      <th>...</th>\n",
       "      <td>...</td>\n",
       "      <td>...</td>\n",
       "      <td>...</td>\n",
       "    </tr>\n",
       "    <tr>\n",
       "      <th>350</th>\n",
       "      <td>121941</td>\n",
       "      <td>1.0</td>\n",
       "      <td>640.0</td>\n",
       "    </tr>\n",
       "    <tr>\n",
       "      <th>351</th>\n",
       "      <td>121943</td>\n",
       "      <td>15.0</td>\n",
       "      <td>1722.0</td>\n",
       "    </tr>\n",
       "    <tr>\n",
       "      <th>352</th>\n",
       "      <td>122042</td>\n",
       "      <td>1.0</td>\n",
       "      <td>155.0</td>\n",
       "    </tr>\n",
       "    <tr>\n",
       "      <th>353</th>\n",
       "      <td>122063</td>\n",
       "      <td>1.0</td>\n",
       "      <td>260.0</td>\n",
       "    </tr>\n",
       "    <tr>\n",
       "      <th>354</th>\n",
       "      <td>122086</td>\n",
       "      <td>50.0</td>\n",
       "      <td>1999.0</td>\n",
       "    </tr>\n",
       "  </tbody>\n",
       "</table>\n",
       "<p>355 rows × 3 columns</p>\n",
       "</div>"
      ],
      "text/plain": [
       "event   ad_id  click    view\n",
       "0           3    9.0   490.0\n",
       "1        2132    1.0    95.0\n",
       "2        2276    2.0  1454.0\n",
       "3        2475    NaN   132.0\n",
       "4        2643    3.0   286.0\n",
       "..        ...    ...     ...\n",
       "350    121941    1.0   640.0\n",
       "351    121943   15.0  1722.0\n",
       "352    122042    1.0   155.0\n",
       "353    122063    1.0   260.0\n",
       "354    122086   50.0  1999.0\n",
       "\n",
       "[355 rows x 3 columns]"
      ]
     },
     "execution_count": 200,
     "metadata": {},
     "output_type": "execute_result"
    }
   ],
   "source": [
    "ctr_df = df.groupby(['event','ad_id'],as_index=False) \\\n",
    "    .agg({\"time\":\"count\"}) \\\n",
    "    .pivot(index='ad_id', columns='event',values='time').reset_index()\n",
    "ctr_df"
   ]
  },
  {
   "cell_type": "code",
   "execution_count": 201,
   "id": "bfbf11eb",
   "metadata": {},
   "outputs": [
    {
     "data": {
      "text/html": [
       "<div>\n",
       "<style scoped>\n",
       "    .dataframe tbody tr th:only-of-type {\n",
       "        vertical-align: middle;\n",
       "    }\n",
       "\n",
       "    .dataframe tbody tr th {\n",
       "        vertical-align: top;\n",
       "    }\n",
       "\n",
       "    .dataframe thead th {\n",
       "        text-align: right;\n",
       "    }\n",
       "</style>\n",
       "<table border=\"1\" class=\"dataframe\">\n",
       "  <thead>\n",
       "    <tr style=\"text-align: right;\">\n",
       "      <th>event</th>\n",
       "      <th>ad_id</th>\n",
       "      <th>click</th>\n",
       "      <th>view</th>\n",
       "      <th>CTR</th>\n",
       "    </tr>\n",
       "  </thead>\n",
       "  <tbody>\n",
       "    <tr>\n",
       "      <th>0</th>\n",
       "      <td>3</td>\n",
       "      <td>9.0</td>\n",
       "      <td>490.0</td>\n",
       "      <td>0.018367</td>\n",
       "    </tr>\n",
       "    <tr>\n",
       "      <th>1</th>\n",
       "      <td>2132</td>\n",
       "      <td>1.0</td>\n",
       "      <td>95.0</td>\n",
       "      <td>0.010526</td>\n",
       "    </tr>\n",
       "    <tr>\n",
       "      <th>2</th>\n",
       "      <td>2276</td>\n",
       "      <td>2.0</td>\n",
       "      <td>1454.0</td>\n",
       "      <td>0.001376</td>\n",
       "    </tr>\n",
       "    <tr>\n",
       "      <th>3</th>\n",
       "      <td>2475</td>\n",
       "      <td>NaN</td>\n",
       "      <td>132.0</td>\n",
       "      <td>NaN</td>\n",
       "    </tr>\n",
       "    <tr>\n",
       "      <th>4</th>\n",
       "      <td>2643</td>\n",
       "      <td>3.0</td>\n",
       "      <td>286.0</td>\n",
       "      <td>0.010490</td>\n",
       "    </tr>\n",
       "    <tr>\n",
       "      <th>...</th>\n",
       "      <td>...</td>\n",
       "      <td>...</td>\n",
       "      <td>...</td>\n",
       "      <td>...</td>\n",
       "    </tr>\n",
       "    <tr>\n",
       "      <th>350</th>\n",
       "      <td>121941</td>\n",
       "      <td>1.0</td>\n",
       "      <td>640.0</td>\n",
       "      <td>0.001563</td>\n",
       "    </tr>\n",
       "    <tr>\n",
       "      <th>351</th>\n",
       "      <td>121943</td>\n",
       "      <td>15.0</td>\n",
       "      <td>1722.0</td>\n",
       "      <td>0.008711</td>\n",
       "    </tr>\n",
       "    <tr>\n",
       "      <th>352</th>\n",
       "      <td>122042</td>\n",
       "      <td>1.0</td>\n",
       "      <td>155.0</td>\n",
       "      <td>0.006452</td>\n",
       "    </tr>\n",
       "    <tr>\n",
       "      <th>353</th>\n",
       "      <td>122063</td>\n",
       "      <td>1.0</td>\n",
       "      <td>260.0</td>\n",
       "      <td>0.003846</td>\n",
       "    </tr>\n",
       "    <tr>\n",
       "      <th>354</th>\n",
       "      <td>122086</td>\n",
       "      <td>50.0</td>\n",
       "      <td>1999.0</td>\n",
       "      <td>0.025013</td>\n",
       "    </tr>\n",
       "  </tbody>\n",
       "</table>\n",
       "<p>355 rows × 4 columns</p>\n",
       "</div>"
      ],
      "text/plain": [
       "event   ad_id  click    view       CTR\n",
       "0           3    9.0   490.0  0.018367\n",
       "1        2132    1.0    95.0  0.010526\n",
       "2        2276    2.0  1454.0  0.001376\n",
       "3        2475    NaN   132.0       NaN\n",
       "4        2643    3.0   286.0  0.010490\n",
       "..        ...    ...     ...       ...\n",
       "350    121941    1.0   640.0  0.001563\n",
       "351    121943   15.0  1722.0  0.008711\n",
       "352    122042    1.0   155.0  0.006452\n",
       "353    122063    1.0   260.0  0.003846\n",
       "354    122086   50.0  1999.0  0.025013\n",
       "\n",
       "[355 rows x 4 columns]"
      ]
     },
     "execution_count": 201,
     "metadata": {},
     "output_type": "execute_result"
    }
   ],
   "source": [
    "ctr_df['CTR'] = ctr_df['click'] / ctr_df['view']\n",
    "ctr_df"
   ]
  },
  {
   "cell_type": "code",
   "execution_count": 202,
   "id": "7c2f5b0a",
   "metadata": {},
   "outputs": [
    {
     "data": {
      "text/html": [
       "<div>\n",
       "<style scoped>\n",
       "    .dataframe tbody tr th:only-of-type {\n",
       "        vertical-align: middle;\n",
       "    }\n",
       "\n",
       "    .dataframe tbody tr th {\n",
       "        vertical-align: top;\n",
       "    }\n",
       "\n",
       "    .dataframe thead th {\n",
       "        text-align: right;\n",
       "    }\n",
       "</style>\n",
       "<table border=\"1\" class=\"dataframe\">\n",
       "  <thead>\n",
       "    <tr style=\"text-align: right;\">\n",
       "      <th>event</th>\n",
       "      <th>ad_id</th>\n",
       "      <th>click</th>\n",
       "      <th>view</th>\n",
       "      <th>CTR</th>\n",
       "      <th>ctr_percentage</th>\n",
       "    </tr>\n",
       "  </thead>\n",
       "  <tbody>\n",
       "    <tr>\n",
       "      <th>289</th>\n",
       "      <td>112583</td>\n",
       "      <td>580436.0</td>\n",
       "      <td>1934788.0</td>\n",
       "      <td>0.300000</td>\n",
       "      <td>29.999979</td>\n",
       "    </tr>\n",
       "    <tr>\n",
       "      <th>324</th>\n",
       "      <td>119450</td>\n",
       "      <td>258.0</td>\n",
       "      <td>1254.0</td>\n",
       "      <td>0.205742</td>\n",
       "      <td>20.574163</td>\n",
       "    </tr>\n",
       "    <tr>\n",
       "      <th>125</th>\n",
       "      <td>38575</td>\n",
       "      <td>43.0</td>\n",
       "      <td>257.0</td>\n",
       "      <td>0.167315</td>\n",
       "      <td>16.731518</td>\n",
       "    </tr>\n",
       "    <tr>\n",
       "      <th>144</th>\n",
       "      <td>40968</td>\n",
       "      <td>29.0</td>\n",
       "      <td>217.0</td>\n",
       "      <td>0.133641</td>\n",
       "      <td>13.364055</td>\n",
       "    </tr>\n",
       "    <tr>\n",
       "      <th>207</th>\n",
       "      <td>45642</td>\n",
       "      <td>42.0</td>\n",
       "      <td>344.0</td>\n",
       "      <td>0.122093</td>\n",
       "      <td>12.209302</td>\n",
       "    </tr>\n",
       "    <tr>\n",
       "      <th>283</th>\n",
       "      <td>110924</td>\n",
       "      <td>11.0</td>\n",
       "      <td>95.0</td>\n",
       "      <td>0.115789</td>\n",
       "      <td>11.578947</td>\n",
       "    </tr>\n",
       "    <tr>\n",
       "      <th>194</th>\n",
       "      <td>45043</td>\n",
       "      <td>28.0</td>\n",
       "      <td>245.0</td>\n",
       "      <td>0.114286</td>\n",
       "      <td>11.428571</td>\n",
       "    </tr>\n",
       "    <tr>\n",
       "      <th>96</th>\n",
       "      <td>35034</td>\n",
       "      <td>112.0</td>\n",
       "      <td>997.0</td>\n",
       "      <td>0.112337</td>\n",
       "      <td>11.233701</td>\n",
       "    </tr>\n",
       "    <tr>\n",
       "      <th>5</th>\n",
       "      <td>4585</td>\n",
       "      <td>53.0</td>\n",
       "      <td>476.0</td>\n",
       "      <td>0.111345</td>\n",
       "      <td>11.134454</td>\n",
       "    </tr>\n",
       "    <tr>\n",
       "      <th>328</th>\n",
       "      <td>120347</td>\n",
       "      <td>236.0</td>\n",
       "      <td>2168.0</td>\n",
       "      <td>0.108856</td>\n",
       "      <td>10.885609</td>\n",
       "    </tr>\n",
       "  </tbody>\n",
       "</table>\n",
       "</div>"
      ],
      "text/plain": [
       "event   ad_id     click       view       CTR  ctr_percentage\n",
       "289    112583  580436.0  1934788.0  0.300000       29.999979\n",
       "324    119450     258.0     1254.0  0.205742       20.574163\n",
       "125     38575      43.0      257.0  0.167315       16.731518\n",
       "144     40968      29.0      217.0  0.133641       13.364055\n",
       "207     45642      42.0      344.0  0.122093       12.209302\n",
       "283    110924      11.0       95.0  0.115789       11.578947\n",
       "194     45043      28.0      245.0  0.114286       11.428571\n",
       "96      35034     112.0      997.0  0.112337       11.233701\n",
       "5        4585      53.0      476.0  0.111345       11.134454\n",
       "328    120347     236.0     2168.0  0.108856       10.885609"
      ]
     },
     "execution_count": 202,
     "metadata": {},
     "output_type": "execute_result"
    }
   ],
   "source": [
    "ctr_df = ctr_df.assign(CTR = ctr_df.click / ctr_df.view,\n",
    "                      ctr_percentage = ctr_df.click / ctr_df.view * 100 )\\\n",
    "    .sort_values(by='CTR', ascending = False)\n",
    "ctr_df.head(10)"
   ]
  },
  {
   "cell_type": "code",
   "execution_count": 203,
   "id": "82bc5dc9",
   "metadata": {},
   "outputs": [
    {
     "data": {
      "text/plain": [
       "0.02062809608075796"
      ]
     },
     "execution_count": 203,
     "metadata": {},
     "output_type": "execute_result"
    }
   ],
   "source": [
    "mean_ctr = ctr_df.CTR.mean()\n",
    "mean_ctr"
   ]
  },
  {
   "cell_type": "code",
   "execution_count": 204,
   "id": "04b39e9d",
   "metadata": {},
   "outputs": [
    {
     "data": {
      "text/plain": [
       "0.010753240746688594"
      ]
     },
     "execution_count": 204,
     "metadata": {},
     "output_type": "execute_result"
    }
   ],
   "source": [
    "median_ctr = ctr_df.CTR.median()\n",
    "median_ctr"
   ]
  },
  {
   "cell_type": "code",
   "execution_count": 205,
   "id": "2f9fb1af",
   "metadata": {},
   "outputs": [
    {
     "data": {
      "text/plain": [
       "False"
      ]
     },
     "execution_count": 205,
     "metadata": {},
     "output_type": "execute_result"
    }
   ],
   "source": [
    "mean_ctr == median_ctr"
   ]
  },
  {
   "cell_type": "code",
   "execution_count": 206,
   "id": "eae151db",
   "metadata": {},
   "outputs": [],
   "source": [
    "# Различаются"
   ]
  },
  {
   "cell_type": "code",
   "execution_count": 207,
   "id": "eae2e356",
   "metadata": {},
   "outputs": [
    {
     "data": {
      "text/plain": [
       "count    306.000000\n",
       "mean       0.020628\n",
       "std        0.030360\n",
       "min        0.000451\n",
       "25%        0.005943\n",
       "50%        0.010753\n",
       "75%        0.024072\n",
       "max        0.300000\n",
       "Name: CTR, dtype: float64"
      ]
     },
     "execution_count": 207,
     "metadata": {},
     "output_type": "execute_result"
    }
   ],
   "source": [
    "ctr_df.CTR.describe()"
   ]
  },
  {
   "cell_type": "code",
   "execution_count": 208,
   "id": "a39d4b05",
   "metadata": {},
   "outputs": [
    {
     "name": "stderr",
     "output_type": "stream",
     "text": [
      "C:\\Users\\79295\\anaconda3\\lib\\site-packages\\seaborn\\distributions.py:2619: FutureWarning: `distplot` is a deprecated function and will be removed in a future version. Please adapt your code to use either `displot` (a figure-level function with similar flexibility) or `histplot` (an axes-level function for histograms).\n",
      "  warnings.warn(msg, FutureWarning)\n"
     ]
    },
    {
     "data": {
      "text/plain": [
       "<AxesSubplot:xlabel='CTR', ylabel='Density'>"
      ]
     },
     "execution_count": 208,
     "metadata": {},
     "output_type": "execute_result"
    },
    {
     "data": {
      "image/png": "[encoded data removed]",
      "text/plain": [
       "<Figure size 640x480 with 1 Axes>"
      ]
     },
     "metadata": {},
     "output_type": "display_data"
    }
   ],
   "source": [
    "sns.distplot(ctr_df.CTR)"
   ]
  },
  {
   "cell_type": "code",
   "execution_count": 209,
   "id": "884868d6",
   "metadata": {},
   "outputs": [],
   "source": [
    "# Похоже, в наших логах есть баг, объявления приходят с кликами, но без показов! \n",
    "# Сколько таких объявлений, есть ли какие-то закономерности? \n",
    "# Эта проблема наблюдается на всех платформах?"
   ]
  },
  {
   "cell_type": "code",
   "execution_count": 210,
   "id": "399b811d",
   "metadata": {},
   "outputs": [
    {
     "data": {
      "text/html": [
       "<div>\n",
       "<style scoped>\n",
       "    .dataframe tbody tr th:only-of-type {\n",
       "        vertical-align: middle;\n",
       "    }\n",
       "\n",
       "    .dataframe tbody tr th {\n",
       "        vertical-align: top;\n",
       "    }\n",
       "\n",
       "    .dataframe thead th {\n",
       "        text-align: right;\n",
       "    }\n",
       "</style>\n",
       "<table border=\"1\" class=\"dataframe\">\n",
       "  <thead>\n",
       "    <tr style=\"text-align: right;\">\n",
       "      <th>event</th>\n",
       "      <th>ad_id</th>\n",
       "      <th>click</th>\n",
       "      <th>view</th>\n",
       "      <th>CTR</th>\n",
       "      <th>ctr_percentage</th>\n",
       "    </tr>\n",
       "  </thead>\n",
       "  <tbody>\n",
       "    <tr>\n",
       "      <th>50</th>\n",
       "      <td>25665</td>\n",
       "      <td>14.0</td>\n",
       "      <td>0.0</td>\n",
       "      <td>0.0</td>\n",
       "      <td>0.0</td>\n",
       "    </tr>\n",
       "    <tr>\n",
       "      <th>77</th>\n",
       "      <td>30381</td>\n",
       "      <td>77.0</td>\n",
       "      <td>0.0</td>\n",
       "      <td>0.0</td>\n",
       "      <td>0.0</td>\n",
       "    </tr>\n",
       "    <tr>\n",
       "      <th>150</th>\n",
       "      <td>41424</td>\n",
       "      <td>2.0</td>\n",
       "      <td>0.0</td>\n",
       "      <td>0.0</td>\n",
       "      <td>0.0</td>\n",
       "    </tr>\n",
       "    <tr>\n",
       "      <th>161</th>\n",
       "      <td>42241</td>\n",
       "      <td>126.0</td>\n",
       "      <td>0.0</td>\n",
       "      <td>0.0</td>\n",
       "      <td>0.0</td>\n",
       "    </tr>\n",
       "    <tr>\n",
       "      <th>213</th>\n",
       "      <td>45866</td>\n",
       "      <td>21.0</td>\n",
       "      <td>0.0</td>\n",
       "      <td>0.0</td>\n",
       "      <td>0.0</td>\n",
       "    </tr>\n",
       "    <tr>\n",
       "      <th>219</th>\n",
       "      <td>46363</td>\n",
       "      <td>7.0</td>\n",
       "      <td>0.0</td>\n",
       "      <td>0.0</td>\n",
       "      <td>0.0</td>\n",
       "    </tr>\n",
       "    <tr>\n",
       "      <th>224</th>\n",
       "      <td>46544</td>\n",
       "      <td>14.0</td>\n",
       "      <td>0.0</td>\n",
       "      <td>0.0</td>\n",
       "      <td>0.0</td>\n",
       "    </tr>\n",
       "    <tr>\n",
       "      <th>294</th>\n",
       "      <td>113348</td>\n",
       "      <td>16.0</td>\n",
       "      <td>0.0</td>\n",
       "      <td>0.0</td>\n",
       "      <td>0.0</td>\n",
       "    </tr>\n",
       "    <tr>\n",
       "      <th>331</th>\n",
       "      <td>120444</td>\n",
       "      <td>9.0</td>\n",
       "      <td>0.0</td>\n",
       "      <td>0.0</td>\n",
       "      <td>0.0</td>\n",
       "    </tr>\n",
       "  </tbody>\n",
       "</table>\n",
       "</div>"
      ],
      "text/plain": [
       "event   ad_id  click  view  CTR  ctr_percentage\n",
       "50      25665   14.0   0.0  0.0             0.0\n",
       "77      30381   77.0   0.0  0.0             0.0\n",
       "150     41424    2.0   0.0  0.0             0.0\n",
       "161     42241  126.0   0.0  0.0             0.0\n",
       "213     45866   21.0   0.0  0.0             0.0\n",
       "219     46363    7.0   0.0  0.0             0.0\n",
       "224     46544   14.0   0.0  0.0             0.0\n",
       "294    113348   16.0   0.0  0.0             0.0\n",
       "331    120444    9.0   0.0  0.0             0.0"
      ]
     },
     "execution_count": 210,
     "metadata": {},
     "output_type": "execute_result"
    }
   ],
   "source": [
    "ctr_df = ctr_df.fillna(0)\n",
    "bag_ad = ctr_df.query('click > view')\n",
    "bag_ad\n",
    "\n",
    "# Выводим объявления, где кликов больше, чем просмотров"
   ]
  },
  {
   "cell_type": "code",
   "execution_count": 211,
   "id": "23c93632",
   "metadata": {},
   "outputs": [],
   "source": [
    "platform_df = df[['ad_id','platform']]\n"
   ]
  },
  {
   "cell_type": "code",
   "execution_count": 212,
   "id": "ad49c4a1",
   "metadata": {},
   "outputs": [
    {
     "data": {
      "text/html": [
       "<div>\n",
       "<style scoped>\n",
       "    .dataframe tbody tr th:only-of-type {\n",
       "        vertical-align: middle;\n",
       "    }\n",
       "\n",
       "    .dataframe tbody tr th {\n",
       "        vertical-align: top;\n",
       "    }\n",
       "\n",
       "    .dataframe thead th {\n",
       "        text-align: right;\n",
       "    }\n",
       "</style>\n",
       "<table border=\"1\" class=\"dataframe\">\n",
       "  <thead>\n",
       "    <tr style=\"text-align: right;\">\n",
       "      <th></th>\n",
       "      <th>platform</th>\n",
       "      <th>ad_id</th>\n",
       "    </tr>\n",
       "  </thead>\n",
       "  <tbody>\n",
       "    <tr>\n",
       "      <th>0</th>\n",
       "      <td>android</td>\n",
       "      <td>141</td>\n",
       "    </tr>\n",
       "    <tr>\n",
       "      <th>1</th>\n",
       "      <td>ios</td>\n",
       "      <td>92</td>\n",
       "    </tr>\n",
       "    <tr>\n",
       "      <th>2</th>\n",
       "      <td>web</td>\n",
       "      <td>53</td>\n",
       "    </tr>\n",
       "  </tbody>\n",
       "</table>\n",
       "</div>"
      ],
      "text/plain": [
       "  platform  ad_id\n",
       "0  android    141\n",
       "1      ios     92\n",
       "2      web     53"
      ]
     },
     "execution_count": 212,
     "metadata": {},
     "output_type": "execute_result"
    }
   ],
   "source": [
    "bag_ad.merge(platform_df,how='left', on = 'ad_id') \\\n",
    "    .groupby('platform', as_index=False) \\\n",
    "    .agg({'ad_id':'count'})"
   ]
  },
  {
   "cell_type": "code",
   "execution_count": 213,
   "id": "c7dbfd54",
   "metadata": {},
   "outputs": [],
   "source": [
    "# Есть ли различия в CTR у объявлений с видео и без? \n",
    "# А чему равняется 95 процентиль CTR по всем объявлениям за 2019-04-04?"
   ]
  },
  {
   "cell_type": "code",
   "execution_count": 230,
   "id": "352b2efe",
   "metadata": {},
   "outputs": [],
   "source": [
    "df_2019_04_04 = df[df.date =='2019-04-04' ].groupby(['event','ad_id'],as_index=False) \\\n",
    "    .agg({\"time\":\"count\"}) \\\n",
    "    .pivot(index='ad_id', columns='event',values='time').reset_index() \\\n",
    "    .fillna(0)\n",
    "    \n"
   ]
  },
  {
   "cell_type": "code",
   "execution_count": 231,
   "id": "13505f37",
   "metadata": {},
   "outputs": [
    {
     "data": {
      "text/plain": [
       "0.10211538461538454"
      ]
     },
     "execution_count": 231,
     "metadata": {},
     "output_type": "execute_result"
    }
   ],
   "source": [
    "df_2019_04_04 = df_2019_04_04.assign(ctr = df_2019_04_04.click / df_2019_04_04.view)\n",
    "df_2019_04_04[df_2019_04_04.click > 0].ctr.quantile(q = 0.95)"
   ]
  },
  {
   "cell_type": "code",
   "execution_count": null,
   "id": "f69d5e1c",
   "metadata": {},
   "outputs": [],
   "source": [
    "# Отсеим объявления с видео и посчитаем их средний CTR"
   ]
  },
  {
   "cell_type": "code",
   "execution_count": 284,
   "id": "e82f460d",
   "metadata": {},
   "outputs": [],
   "source": [
    "with_video = df[df.has_video == 1].groupby(['event','ad_id'],as_index=False) \\\n",
    "    .agg({\"time\":\"count\"}) \\\n",
    "    .pivot(index='ad_id', columns='event',values='time').reset_index() \\\n",
    "    .fillna(0)"
   ]
  },
  {
   "cell_type": "code",
   "execution_count": 285,
   "id": "18ff345b",
   "metadata": {},
   "outputs": [
    {
     "data": {
      "text/plain": [
       "0.004246391632805163"
      ]
     },
     "execution_count": 285,
     "metadata": {},
     "output_type": "execute_result"
    }
   ],
   "source": [
    "with_video = with_video.assign(ctr = with_video.click / with_video.view )\n",
    "with_video[with_video.view>0].ctr.mean()"
   ]
  },
  {
   "cell_type": "code",
   "execution_count": 286,
   "id": "f2f8a06d",
   "metadata": {},
   "outputs": [],
   "source": [
    "# Отсеим объявления без видео и посчитаем их средний CTR"
   ]
  },
  {
   "cell_type": "code",
   "execution_count": 287,
   "id": "89c172f7",
   "metadata": {},
   "outputs": [],
   "source": [
    "without_video = df[df.has_video == 0].groupby(['event','ad_id'],as_index=False) \\\n",
    "    .agg({\"time\":\"count\"}) \\\n",
    "    .pivot(index='ad_id', columns='event',values='time').reset_index() \\\n",
    "    .fillna(0)"
   ]
  },
  {
   "cell_type": "code",
   "execution_count": 288,
   "id": "6645df8b",
   "metadata": {},
   "outputs": [],
   "source": [
    "without_video = without_video.assign(ctr = without_video.click / without_video.view )"
   ]
  },
  {
   "cell_type": "code",
   "execution_count": 289,
   "id": "238acce3",
   "metadata": {},
   "outputs": [],
   "source": [
    "without_video = without_video[without_video.view > 0]"
   ]
  },
  {
   "cell_type": "code",
   "execution_count": 290,
   "id": "59133d92",
   "metadata": {},
   "outputs": [
    {
     "data": {
      "text/plain": [
       "0.018448579010404427"
      ]
     },
     "execution_count": 290,
     "metadata": {},
     "output_type": "execute_result"
    }
   ],
   "source": [
    "without_video.ctr.mean()"
   ]
  },
  {
   "cell_type": "code",
   "execution_count": 291,
   "id": "c5d46041",
   "metadata": {},
   "outputs": [],
   "source": [
    "# У рекламных постов без видео CTR выше"
   ]
  },
  {
   "cell_type": "code",
   "execution_count": 292,
   "id": "4fd4b705",
   "metadata": {},
   "outputs": [],
   "source": [
    "# Для финансового отчета нужно рассчитать наш заработок по дням. \n",
    "# В какой день мы заработали больше всего? В какой меньше? \n",
    "# Мы списываем с клиентов деньги, если произошел клик по CPC объявлению, \n",
    "# и мы списываем деньги за каждый показ CPM объявления, если у \n",
    "# CPM объявления цена - 200 рублей, то за один показ мы зарабатываем 200 / 1000.\n",
    "# Какая платформа самая популярная для размещения рекламных объявлений? \n",
    "# Сколько процентов показов приходится на каждую из платформ (колонка platform)?"
   ]
  },
  {
   "cell_type": "code",
   "execution_count": 314,
   "id": "cec68cd4",
   "metadata": {},
   "outputs": [],
   "source": [
    "cpc_profit = df[(df.ad_cost_type == 'CPC') & (df.event == 'click')].ad_cost.sum()"
   ]
  },
  {
   "cell_type": "code",
   "execution_count": 315,
   "id": "12631462",
   "metadata": {},
   "outputs": [],
   "source": [
    "cpm_profit=df[(df.ad_cost_type == 'CPM') & (df.event == 'view')].ad_cost.sum() / 1000"
   ]
  },
  {
   "cell_type": "code",
   "execution_count": 341,
   "id": "8a6b0770",
   "metadata": {},
   "outputs": [
    {
     "data": {
      "text/plain": [
       "581900.68"
      ]
     },
     "execution_count": 341,
     "metadata": {},
     "output_type": "execute_result"
    }
   ],
   "source": [
    "round(cpc_profit+cpm_profit,2)"
   ]
  },
  {
   "cell_type": "code",
   "execution_count": null,
   "id": "2835684c",
   "metadata": {},
   "outputs": [],
   "source": [
    "# Общий заработок"
   ]
  },
  {
   "cell_type": "code",
   "execution_count": null,
   "id": "789b1f5d",
   "metadata": {},
   "outputs": [],
   "source": [
    "# Посчитаем заработок с СРС объявлений по дням:"
   ]
  },
  {
   "cell_type": "code",
   "execution_count": 329,
   "id": "003eef96",
   "metadata": {},
   "outputs": [
    {
     "data": {
      "text/html": [
       "<div>\n",
       "<style scoped>\n",
       "    .dataframe tbody tr th:only-of-type {\n",
       "        vertical-align: middle;\n",
       "    }\n",
       "\n",
       "    .dataframe tbody tr th {\n",
       "        vertical-align: top;\n",
       "    }\n",
       "\n",
       "    .dataframe thead th {\n",
       "        text-align: right;\n",
       "    }\n",
       "</style>\n",
       "<table border=\"1\" class=\"dataframe\">\n",
       "  <thead>\n",
       "    <tr style=\"text-align: right;\">\n",
       "      <th></th>\n",
       "      <th>date</th>\n",
       "      <th>ad_cost</th>\n",
       "    </tr>\n",
       "  </thead>\n",
       "  <tbody>\n",
       "    <tr>\n",
       "      <th>0</th>\n",
       "      <td>2019-04-01</td>\n",
       "      <td>7036.9</td>\n",
       "    </tr>\n",
       "    <tr>\n",
       "      <th>1</th>\n",
       "      <td>2019-04-02</td>\n",
       "      <td>7663.7</td>\n",
       "    </tr>\n",
       "    <tr>\n",
       "      <th>2</th>\n",
       "      <td>2019-04-03</td>\n",
       "      <td>38597.2</td>\n",
       "    </tr>\n",
       "    <tr>\n",
       "      <th>3</th>\n",
       "      <td>2019-04-04</td>\n",
       "      <td>26878.0</td>\n",
       "    </tr>\n",
       "    <tr>\n",
       "      <th>4</th>\n",
       "      <td>2019-04-05</td>\n",
       "      <td>4381.2</td>\n",
       "    </tr>\n",
       "    <tr>\n",
       "      <th>5</th>\n",
       "      <td>2019-04-06</td>\n",
       "      <td>253.0</td>\n",
       "    </tr>\n",
       "  </tbody>\n",
       "</table>\n",
       "</div>"
      ],
      "text/plain": [
       "        date  ad_cost\n",
       "0 2019-04-01   7036.9\n",
       "1 2019-04-02   7663.7\n",
       "2 2019-04-03  38597.2\n",
       "3 2019-04-04  26878.0\n",
       "4 2019-04-05   4381.2\n",
       "5 2019-04-06    253.0"
      ]
     },
     "execution_count": 329,
     "metadata": {},
     "output_type": "execute_result"
    }
   ],
   "source": [
    "cpc_df=df[(df.ad_cost_type == 'CPC') & (df.event == 'click')]\n",
    "cpc_profit_per_day = cpc_df.groupby('date',as_index=False).agg({\"ad_cost\":\"sum\"})\n",
    "cpc_profit_per_day"
   ]
  },
  {
   "cell_type": "code",
   "execution_count": 320,
   "id": "4cbde746",
   "metadata": {},
   "outputs": [],
   "source": [
    "# Посчитаем заработок с СРМ объявлений по дням:"
   ]
  },
  {
   "cell_type": "code",
   "execution_count": 321,
   "id": "fc7940b4",
   "metadata": {},
   "outputs": [],
   "source": [
    "cpm_df=df[(df.ad_cost_type == 'CPM') & (df.event == 'view')]"
   ]
  },
  {
   "cell_type": "code",
   "execution_count": 328,
   "id": "b54441f3",
   "metadata": {},
   "outputs": [
    {
     "name": "stderr",
     "output_type": "stream",
     "text": [
      "C:\\Users\\79295\\AppData\\Local\\Temp\\ipykernel_2912\\2908194418.py:1: SettingWithCopyWarning: \n",
      "A value is trying to be set on a copy of a slice from a DataFrame.\n",
      "Try using .loc[row_indexer,col_indexer] = value instead\n",
      "\n",
      "See the caveats in the documentation: https://pandas.pydata.org/pandas-docs/stable/user_guide/indexing.html#returning-a-view-versus-a-copy\n",
      "  cpm_df['cost'] = cpm_df['ad_cost'] / 1000\n"
     ]
    },
    {
     "data": {
      "text/html": [
       "<div>\n",
       "<style scoped>\n",
       "    .dataframe tbody tr th:only-of-type {\n",
       "        vertical-align: middle;\n",
       "    }\n",
       "\n",
       "    .dataframe tbody tr th {\n",
       "        vertical-align: top;\n",
       "    }\n",
       "\n",
       "    .dataframe thead th {\n",
       "        text-align: right;\n",
       "    }\n",
       "</style>\n",
       "<table border=\"1\" class=\"dataframe\">\n",
       "  <thead>\n",
       "    <tr style=\"text-align: right;\">\n",
       "      <th></th>\n",
       "      <th>date</th>\n",
       "      <th>cost</th>\n",
       "    </tr>\n",
       "  </thead>\n",
       "  <tbody>\n",
       "    <tr>\n",
       "      <th>0</th>\n",
       "      <td>2019-04-01</td>\n",
       "      <td>6122.8123</td>\n",
       "    </tr>\n",
       "    <tr>\n",
       "      <th>1</th>\n",
       "      <td>2019-04-02</td>\n",
       "      <td>26173.3051</td>\n",
       "    </tr>\n",
       "    <tr>\n",
       "      <th>2</th>\n",
       "      <td>2019-04-03</td>\n",
       "      <td>34612.3170</td>\n",
       "    </tr>\n",
       "    <tr>\n",
       "      <th>3</th>\n",
       "      <td>2019-04-04</td>\n",
       "      <td>19416.3568</td>\n",
       "    </tr>\n",
       "    <tr>\n",
       "      <th>4</th>\n",
       "      <td>2019-04-05</td>\n",
       "      <td>354178.5490</td>\n",
       "    </tr>\n",
       "    <tr>\n",
       "      <th>5</th>\n",
       "      <td>2019-04-06</td>\n",
       "      <td>56587.3376</td>\n",
       "    </tr>\n",
       "  </tbody>\n",
       "</table>\n",
       "</div>"
      ],
      "text/plain": [
       "        date         cost\n",
       "0 2019-04-01    6122.8123\n",
       "1 2019-04-02   26173.3051\n",
       "2 2019-04-03   34612.3170\n",
       "3 2019-04-04   19416.3568\n",
       "4 2019-04-05  354178.5490\n",
       "5 2019-04-06   56587.3376"
      ]
     },
     "execution_count": 328,
     "metadata": {},
     "output_type": "execute_result"
    }
   ],
   "source": [
    "cpm_df['cost'] = cpm_df['ad_cost'] / 1000\n",
    "cpm_profit_per_day = cpm_df.groupby('date',as_index=False).agg({\"cost\":\"sum\"})\n",
    "cpm_profit_per_day"
   ]
  },
  {
   "cell_type": "code",
   "execution_count": 331,
   "id": "a3677606",
   "metadata": {},
   "outputs": [
    {
     "data": {
      "text/html": [
       "<div>\n",
       "<style scoped>\n",
       "    .dataframe tbody tr th:only-of-type {\n",
       "        vertical-align: middle;\n",
       "    }\n",
       "\n",
       "    .dataframe tbody tr th {\n",
       "        vertical-align: top;\n",
       "    }\n",
       "\n",
       "    .dataframe thead th {\n",
       "        text-align: right;\n",
       "    }\n",
       "</style>\n",
       "<table border=\"1\" class=\"dataframe\">\n",
       "  <thead>\n",
       "    <tr style=\"text-align: right;\">\n",
       "      <th></th>\n",
       "      <th>date</th>\n",
       "      <th>ad_cost</th>\n",
       "      <th>cost</th>\n",
       "    </tr>\n",
       "  </thead>\n",
       "  <tbody>\n",
       "    <tr>\n",
       "      <th>0</th>\n",
       "      <td>2019-04-01</td>\n",
       "      <td>7036.9</td>\n",
       "      <td>6122.8123</td>\n",
       "    </tr>\n",
       "    <tr>\n",
       "      <th>1</th>\n",
       "      <td>2019-04-02</td>\n",
       "      <td>7663.7</td>\n",
       "      <td>26173.3051</td>\n",
       "    </tr>\n",
       "    <tr>\n",
       "      <th>2</th>\n",
       "      <td>2019-04-03</td>\n",
       "      <td>38597.2</td>\n",
       "      <td>34612.3170</td>\n",
       "    </tr>\n",
       "    <tr>\n",
       "      <th>3</th>\n",
       "      <td>2019-04-04</td>\n",
       "      <td>26878.0</td>\n",
       "      <td>19416.3568</td>\n",
       "    </tr>\n",
       "    <tr>\n",
       "      <th>4</th>\n",
       "      <td>2019-04-05</td>\n",
       "      <td>4381.2</td>\n",
       "      <td>354178.5490</td>\n",
       "    </tr>\n",
       "    <tr>\n",
       "      <th>5</th>\n",
       "      <td>2019-04-06</td>\n",
       "      <td>253.0</td>\n",
       "      <td>56587.3376</td>\n",
       "    </tr>\n",
       "  </tbody>\n",
       "</table>\n",
       "</div>"
      ],
      "text/plain": [
       "        date  ad_cost         cost\n",
       "0 2019-04-01   7036.9    6122.8123\n",
       "1 2019-04-02   7663.7   26173.3051\n",
       "2 2019-04-03  38597.2   34612.3170\n",
       "3 2019-04-04  26878.0   19416.3568\n",
       "4 2019-04-05   4381.2  354178.5490\n",
       "5 2019-04-06    253.0   56587.3376"
      ]
     },
     "execution_count": 331,
     "metadata": {},
     "output_type": "execute_result"
    }
   ],
   "source": [
    "total_profit_per_day = cpc_profit_per_day.merge(cpm_profit_per_day, on ='date')\n",
    "total_profit_per_day"
   ]
  },
  {
   "cell_type": "code",
   "execution_count": 336,
   "id": "efec479f",
   "metadata": {
    "scrolled": true
   },
   "outputs": [
    {
     "data": {
      "text/html": [
       "<div>\n",
       "<style scoped>\n",
       "    .dataframe tbody tr th:only-of-type {\n",
       "        vertical-align: middle;\n",
       "    }\n",
       "\n",
       "    .dataframe tbody tr th {\n",
       "        vertical-align: top;\n",
       "    }\n",
       "\n",
       "    .dataframe thead th {\n",
       "        text-align: right;\n",
       "    }\n",
       "</style>\n",
       "<table border=\"1\" class=\"dataframe\">\n",
       "  <thead>\n",
       "    <tr style=\"text-align: right;\">\n",
       "      <th></th>\n",
       "      <th>date</th>\n",
       "      <th>ad_cost</th>\n",
       "      <th>cost</th>\n",
       "      <th>total_cost</th>\n",
       "    </tr>\n",
       "  </thead>\n",
       "  <tbody>\n",
       "    <tr>\n",
       "      <th>4</th>\n",
       "      <td>2019-04-05</td>\n",
       "      <td>4381.2</td>\n",
       "      <td>354178.5490</td>\n",
       "      <td>358559.7490</td>\n",
       "    </tr>\n",
       "    <tr>\n",
       "      <th>2</th>\n",
       "      <td>2019-04-03</td>\n",
       "      <td>38597.2</td>\n",
       "      <td>34612.3170</td>\n",
       "      <td>73209.5170</td>\n",
       "    </tr>\n",
       "    <tr>\n",
       "      <th>5</th>\n",
       "      <td>2019-04-06</td>\n",
       "      <td>253.0</td>\n",
       "      <td>56587.3376</td>\n",
       "      <td>56840.3376</td>\n",
       "    </tr>\n",
       "    <tr>\n",
       "      <th>3</th>\n",
       "      <td>2019-04-04</td>\n",
       "      <td>26878.0</td>\n",
       "      <td>19416.3568</td>\n",
       "      <td>46294.3568</td>\n",
       "    </tr>\n",
       "    <tr>\n",
       "      <th>1</th>\n",
       "      <td>2019-04-02</td>\n",
       "      <td>7663.7</td>\n",
       "      <td>26173.3051</td>\n",
       "      <td>33837.0051</td>\n",
       "    </tr>\n",
       "    <tr>\n",
       "      <th>0</th>\n",
       "      <td>2019-04-01</td>\n",
       "      <td>7036.9</td>\n",
       "      <td>6122.8123</td>\n",
       "      <td>13159.7123</td>\n",
       "    </tr>\n",
       "  </tbody>\n",
       "</table>\n",
       "</div>"
      ],
      "text/plain": [
       "        date  ad_cost         cost   total_cost\n",
       "4 2019-04-05   4381.2  354178.5490  358559.7490\n",
       "2 2019-04-03  38597.2   34612.3170   73209.5170\n",
       "5 2019-04-06    253.0   56587.3376   56840.3376\n",
       "3 2019-04-04  26878.0   19416.3568   46294.3568\n",
       "1 2019-04-02   7663.7   26173.3051   33837.0051\n",
       "0 2019-04-01   7036.9    6122.8123   13159.7123"
      ]
     },
     "execution_count": 336,
     "metadata": {},
     "output_type": "execute_result"
    }
   ],
   "source": [
    "total_profit_per_day['total_cost'] = total_profit_per_day.ad_cost + total_profit_per_day.cost\n",
    "total_profit_per_day.sort_values(by = 'total_cost', ascending = False)"
   ]
  },
  {
   "cell_type": "code",
   "execution_count": 338,
   "id": "f334cf82",
   "metadata": {},
   "outputs": [],
   "source": [
    "# Выполним проверку по общей сумме заработка:"
   ]
  },
  {
   "cell_type": "code",
   "execution_count": 342,
   "id": "88e6a8e5",
   "metadata": {},
   "outputs": [
    {
     "data": {
      "text/plain": [
       "581900.68"
      ]
     },
     "execution_count": 342,
     "metadata": {},
     "output_type": "execute_result"
    }
   ],
   "source": [
    "total_profit_per_day.total_cost.sum().round(2)"
   ]
  },
  {
   "cell_type": "code",
   "execution_count": 343,
   "id": "916f1131",
   "metadata": {},
   "outputs": [
    {
     "data": {
      "text/plain": [
       "True"
      ]
     },
     "execution_count": 343,
     "metadata": {},
     "output_type": "execute_result"
    }
   ],
   "source": [
    "total_profit_per_day.total_cost.sum().round(2) == round(cpc_profit+cpm_profit,2)"
   ]
  },
  {
   "cell_type": "code",
   "execution_count": 344,
   "id": "2c172b6d",
   "metadata": {},
   "outputs": [],
   "source": [
    "# Данные верны, значит можем сделать вывод, что больше всего было заработано 2019-04-05 "
   ]
  },
  {
   "cell_type": "code",
   "execution_count": 345,
   "id": "d02ce7ed",
   "metadata": {},
   "outputs": [],
   "source": [
    "# Какая платформа самая популярная для размещения рекламных объявлений? \n",
    "# Сколько процентов показов приходится на каждую из платформ (колонка platform)?"
   ]
  },
  {
   "cell_type": "code",
   "execution_count": 351,
   "id": "6a56f6aa",
   "metadata": {},
   "outputs": [
    {
     "data": {
      "text/html": [
       "<div>\n",
       "<style scoped>\n",
       "    .dataframe tbody tr th:only-of-type {\n",
       "        vertical-align: middle;\n",
       "    }\n",
       "\n",
       "    .dataframe tbody tr th {\n",
       "        vertical-align: top;\n",
       "    }\n",
       "\n",
       "    .dataframe thead th {\n",
       "        text-align: right;\n",
       "    }\n",
       "</style>\n",
       "<table border=\"1\" class=\"dataframe\">\n",
       "  <thead>\n",
       "    <tr style=\"text-align: right;\">\n",
       "      <th>platform</th>\n",
       "      <th>ad_id</th>\n",
       "      <th>android</th>\n",
       "      <th>ios</th>\n",
       "      <th>web</th>\n",
       "    </tr>\n",
       "  </thead>\n",
       "  <tbody>\n",
       "    <tr>\n",
       "      <th>0</th>\n",
       "      <td>3</td>\n",
       "      <td>249.0</td>\n",
       "      <td>150.0</td>\n",
       "      <td>100.0</td>\n",
       "    </tr>\n",
       "    <tr>\n",
       "      <th>1</th>\n",
       "      <td>2132</td>\n",
       "      <td>56.0</td>\n",
       "      <td>26.0</td>\n",
       "      <td>14.0</td>\n",
       "    </tr>\n",
       "    <tr>\n",
       "      <th>2</th>\n",
       "      <td>2276</td>\n",
       "      <td>705.0</td>\n",
       "      <td>454.0</td>\n",
       "      <td>297.0</td>\n",
       "    </tr>\n",
       "    <tr>\n",
       "      <th>3</th>\n",
       "      <td>2475</td>\n",
       "      <td>59.0</td>\n",
       "      <td>55.0</td>\n",
       "      <td>18.0</td>\n",
       "    </tr>\n",
       "    <tr>\n",
       "      <th>4</th>\n",
       "      <td>2643</td>\n",
       "      <td>143.0</td>\n",
       "      <td>87.0</td>\n",
       "      <td>59.0</td>\n",
       "    </tr>\n",
       "    <tr>\n",
       "      <th>...</th>\n",
       "      <td>...</td>\n",
       "      <td>...</td>\n",
       "      <td>...</td>\n",
       "      <td>...</td>\n",
       "    </tr>\n",
       "    <tr>\n",
       "      <th>350</th>\n",
       "      <td>121941</td>\n",
       "      <td>334.0</td>\n",
       "      <td>174.0</td>\n",
       "      <td>133.0</td>\n",
       "    </tr>\n",
       "    <tr>\n",
       "      <th>351</th>\n",
       "      <td>121943</td>\n",
       "      <td>857.0</td>\n",
       "      <td>528.0</td>\n",
       "      <td>352.0</td>\n",
       "    </tr>\n",
       "    <tr>\n",
       "      <th>352</th>\n",
       "      <td>122042</td>\n",
       "      <td>82.0</td>\n",
       "      <td>45.0</td>\n",
       "      <td>29.0</td>\n",
       "    </tr>\n",
       "    <tr>\n",
       "      <th>353</th>\n",
       "      <td>122063</td>\n",
       "      <td>127.0</td>\n",
       "      <td>73.0</td>\n",
       "      <td>61.0</td>\n",
       "    </tr>\n",
       "    <tr>\n",
       "      <th>354</th>\n",
       "      <td>122086</td>\n",
       "      <td>1045.0</td>\n",
       "      <td>615.0</td>\n",
       "      <td>389.0</td>\n",
       "    </tr>\n",
       "  </tbody>\n",
       "</table>\n",
       "<p>355 rows × 4 columns</p>\n",
       "</div>"
      ],
      "text/plain": [
       "platform   ad_id  android    ios    web\n",
       "0              3    249.0  150.0  100.0\n",
       "1           2132     56.0   26.0   14.0\n",
       "2           2276    705.0  454.0  297.0\n",
       "3           2475     59.0   55.0   18.0\n",
       "4           2643    143.0   87.0   59.0\n",
       "..           ...      ...    ...    ...\n",
       "350       121941    334.0  174.0  133.0\n",
       "351       121943    857.0  528.0  352.0\n",
       "352       122042     82.0   45.0   29.0\n",
       "353       122063    127.0   73.0   61.0\n",
       "354       122086   1045.0  615.0  389.0\n",
       "\n",
       "[355 rows x 4 columns]"
      ]
     },
     "execution_count": 351,
     "metadata": {},
     "output_type": "execute_result"
    }
   ],
   "source": [
    "platform_df = df.groupby(['platform','ad_id'],as_index=False) \\\n",
    "    .agg({\"time\":\"count\"}) \\\n",
    "    .pivot(index='ad_id', columns='platform',values='time').reset_index()\n",
    "platform_df"
   ]
  },
  {
   "cell_type": "code",
   "execution_count": 352,
   "id": "c316a4b8",
   "metadata": {},
   "outputs": [
    {
     "data": {
      "text/plain": [
       "1588211.0"
      ]
     },
     "execution_count": 352,
     "metadata": {},
     "output_type": "execute_result"
    }
   ],
   "source": [
    "platform_df.android.sum()"
   ]
  },
  {
   "cell_type": "code",
   "execution_count": 353,
   "id": "40813ffb",
   "metadata": {},
   "outputs": [
    {
     "data": {
      "text/plain": [
       "953078.0"
      ]
     },
     "execution_count": 353,
     "metadata": {},
     "output_type": "execute_result"
    }
   ],
   "source": [
    "platform_df.ios.sum()"
   ]
  },
  {
   "cell_type": "code",
   "execution_count": 354,
   "id": "a8324717",
   "metadata": {
    "scrolled": true
   },
   "outputs": [
    {
     "data": {
      "text/plain": [
       "635425.0"
      ]
     },
     "execution_count": 354,
     "metadata": {},
     "output_type": "execute_result"
    }
   ],
   "source": [
    "platform_df.web.sum()"
   ]
  },
  {
   "cell_type": "code",
   "execution_count": null,
   "id": "7f7e8b21",
   "metadata": {},
   "outputs": [],
   "source": [
    "# Второй вариант:"
   ]
  },
  {
   "cell_type": "code",
   "execution_count": 355,
   "id": "2c45e73a",
   "metadata": {},
   "outputs": [
    {
     "data": {
      "text/html": [
       "<div>\n",
       "<style scoped>\n",
       "    .dataframe tbody tr th:only-of-type {\n",
       "        vertical-align: middle;\n",
       "    }\n",
       "\n",
       "    .dataframe tbody tr th {\n",
       "        vertical-align: top;\n",
       "    }\n",
       "\n",
       "    .dataframe thead th {\n",
       "        text-align: right;\n",
       "    }\n",
       "</style>\n",
       "<table border=\"1\" class=\"dataframe\">\n",
       "  <thead>\n",
       "    <tr style=\"text-align: right;\">\n",
       "      <th></th>\n",
       "      <th>platform</th>\n",
       "      <th>ad_id</th>\n",
       "      <th>time</th>\n",
       "    </tr>\n",
       "  </thead>\n",
       "  <tbody>\n",
       "    <tr>\n",
       "      <th>0</th>\n",
       "      <td>android</td>\n",
       "      <td>3</td>\n",
       "      <td>249</td>\n",
       "    </tr>\n",
       "    <tr>\n",
       "      <th>1</th>\n",
       "      <td>android</td>\n",
       "      <td>2132</td>\n",
       "      <td>56</td>\n",
       "    </tr>\n",
       "    <tr>\n",
       "      <th>2</th>\n",
       "      <td>android</td>\n",
       "      <td>2276</td>\n",
       "      <td>705</td>\n",
       "    </tr>\n",
       "    <tr>\n",
       "      <th>3</th>\n",
       "      <td>android</td>\n",
       "      <td>2475</td>\n",
       "      <td>59</td>\n",
       "    </tr>\n",
       "    <tr>\n",
       "      <th>4</th>\n",
       "      <td>android</td>\n",
       "      <td>2643</td>\n",
       "      <td>143</td>\n",
       "    </tr>\n",
       "    <tr>\n",
       "      <th>...</th>\n",
       "      <td>...</td>\n",
       "      <td>...</td>\n",
       "      <td>...</td>\n",
       "    </tr>\n",
       "    <tr>\n",
       "      <th>1059</th>\n",
       "      <td>web</td>\n",
       "      <td>121941</td>\n",
       "      <td>133</td>\n",
       "    </tr>\n",
       "    <tr>\n",
       "      <th>1060</th>\n",
       "      <td>web</td>\n",
       "      <td>121943</td>\n",
       "      <td>352</td>\n",
       "    </tr>\n",
       "    <tr>\n",
       "      <th>1061</th>\n",
       "      <td>web</td>\n",
       "      <td>122042</td>\n",
       "      <td>29</td>\n",
       "    </tr>\n",
       "    <tr>\n",
       "      <th>1062</th>\n",
       "      <td>web</td>\n",
       "      <td>122063</td>\n",
       "      <td>61</td>\n",
       "    </tr>\n",
       "    <tr>\n",
       "      <th>1063</th>\n",
       "      <td>web</td>\n",
       "      <td>122086</td>\n",
       "      <td>389</td>\n",
       "    </tr>\n",
       "  </tbody>\n",
       "</table>\n",
       "<p>1064 rows × 3 columns</p>\n",
       "</div>"
      ],
      "text/plain": [
       "     platform   ad_id  time\n",
       "0     android       3   249\n",
       "1     android    2132    56\n",
       "2     android    2276   705\n",
       "3     android    2475    59\n",
       "4     android    2643   143\n",
       "...       ...     ...   ...\n",
       "1059      web  121941   133\n",
       "1060      web  121943   352\n",
       "1061      web  122042    29\n",
       "1062      web  122063    61\n",
       "1063      web  122086   389\n",
       "\n",
       "[1064 rows x 3 columns]"
      ]
     },
     "execution_count": 355,
     "metadata": {},
     "output_type": "execute_result"
    }
   ],
   "source": [
    "platform_df1 = df.groupby(['platform','ad_id'],as_index=False) \\\n",
    "    .agg({\"time\":\"count\"})\n",
    "platform_df1"
   ]
  },
  {
   "cell_type": "code",
   "execution_count": 358,
   "id": "19f836fa",
   "metadata": {},
   "outputs": [
    {
     "data": {
      "text/html": [
       "<div>\n",
       "<style scoped>\n",
       "    .dataframe tbody tr th:only-of-type {\n",
       "        vertical-align: middle;\n",
       "    }\n",
       "\n",
       "    .dataframe tbody tr th {\n",
       "        vertical-align: top;\n",
       "    }\n",
       "\n",
       "    .dataframe thead th {\n",
       "        text-align: right;\n",
       "    }\n",
       "</style>\n",
       "<table border=\"1\" class=\"dataframe\">\n",
       "  <thead>\n",
       "    <tr style=\"text-align: right;\">\n",
       "      <th></th>\n",
       "      <th>platform</th>\n",
       "      <th>time</th>\n",
       "    </tr>\n",
       "  </thead>\n",
       "  <tbody>\n",
       "    <tr>\n",
       "      <th>0</th>\n",
       "      <td>android</td>\n",
       "      <td>1588211</td>\n",
       "    </tr>\n",
       "    <tr>\n",
       "      <th>1</th>\n",
       "      <td>ios</td>\n",
       "      <td>953078</td>\n",
       "    </tr>\n",
       "    <tr>\n",
       "      <th>2</th>\n",
       "      <td>web</td>\n",
       "      <td>635425</td>\n",
       "    </tr>\n",
       "  </tbody>\n",
       "</table>\n",
       "</div>"
      ],
      "text/plain": [
       "  platform     time\n",
       "0  android  1588211\n",
       "1      ios   953078\n",
       "2      web   635425"
      ]
     },
     "execution_count": 358,
     "metadata": {},
     "output_type": "execute_result"
    }
   ],
   "source": [
    "platform_rate = platform_df1.groupby('platform',as_index=False).agg({\"time\":\"sum\"})\n",
    "platform_rate"
   ]
  },
  {
   "cell_type": "code",
   "execution_count": 377,
   "id": "b5be7b90",
   "metadata": {
    "scrolled": false
   },
   "outputs": [
    {
     "data": {
      "text/html": [
       "<div>\n",
       "<style scoped>\n",
       "    .dataframe tbody tr th:only-of-type {\n",
       "        vertical-align: middle;\n",
       "    }\n",
       "\n",
       "    .dataframe tbody tr th {\n",
       "        vertical-align: top;\n",
       "    }\n",
       "\n",
       "    .dataframe thead th {\n",
       "        text-align: right;\n",
       "    }\n",
       "</style>\n",
       "<table border=\"1\" class=\"dataframe\">\n",
       "  <thead>\n",
       "    <tr style=\"text-align: right;\">\n",
       "      <th></th>\n",
       "      <th>platform</th>\n",
       "      <th>time</th>\n",
       "      <th>rate</th>\n",
       "    </tr>\n",
       "  </thead>\n",
       "  <tbody>\n",
       "    <tr>\n",
       "      <th>0</th>\n",
       "      <td>android</td>\n",
       "      <td>1588211</td>\n",
       "      <td>50.0</td>\n",
       "    </tr>\n",
       "    <tr>\n",
       "      <th>1</th>\n",
       "      <td>ios</td>\n",
       "      <td>953078</td>\n",
       "      <td>30.0</td>\n",
       "    </tr>\n",
       "    <tr>\n",
       "      <th>2</th>\n",
       "      <td>web</td>\n",
       "      <td>635425</td>\n",
       "      <td>20.0</td>\n",
       "    </tr>\n",
       "  </tbody>\n",
       "</table>\n",
       "</div>"
      ],
      "text/plain": [
       "  platform     time  rate\n",
       "0  android  1588211  50.0\n",
       "1      ios   953078  30.0\n",
       "2      web   635425  20.0"
      ]
     },
     "execution_count": 377,
     "metadata": {},
     "output_type": "execute_result"
    }
   ],
   "source": [
    "platform_rate['rate'] = (platform_rate['time'] / platform_rate['time'].sum() * 100).round(2)\n",
    "platform_rate"
   ]
  },
  {
   "cell_type": "code",
   "execution_count": 380,
   "id": "fac5d9e9",
   "metadata": {},
   "outputs": [],
   "source": [
    "# То же самое через value_counts()"
   ]
  },
  {
   "cell_type": "code",
   "execution_count": 379,
   "id": "95e25936",
   "metadata": {},
   "outputs": [
    {
     "data": {
      "text/plain": [
       "android    1588211\n",
       "ios         953078\n",
       "web         635425\n",
       "Name: platform, dtype: int64"
      ]
     },
     "execution_count": 379,
     "metadata": {},
     "output_type": "execute_result"
    }
   ],
   "source": [
    "df.platform.value_counts()"
   ]
  },
  {
   "cell_type": "code",
   "execution_count": 378,
   "id": "9c1159c6",
   "metadata": {},
   "outputs": [
    {
     "data": {
      "text/plain": [
       "<AxesSubplot:xlabel='platform', ylabel='count'>"
      ]
     },
     "execution_count": 378,
     "metadata": {},
     "output_type": "execute_result"
    },
    {
     "data": {
      "image/png": "[encoded data removed]",
      "text/plain": [
       "<Figure size 640x480 with 1 Axes>"
      ]
     },
     "metadata": {},
     "output_type": "display_data"
    }
   ],
   "source": [
    "sns.countplot(data = df, x = 'platform')"
   ]
  },
  {
   "cell_type": "code",
   "execution_count": 381,
   "id": "c7870c9d",
   "metadata": {},
   "outputs": [],
   "source": [
    "# Есть ли в наших логах баги, где по объявлению сначала кликают, а потом оно показывается"
   ]
  },
  {
   "cell_type": "code",
   "execution_count": 382,
   "id": "98f912c4",
   "metadata": {},
   "outputs": [],
   "source": [
    "# Кажется, что для ответа на этот вопрос нам нужно группировать данные по номеру объявления и по действию, а дальше для каждого \n",
    "# действия найти минимальное время и проверить, что мин время показа меньше мин времени клика"
   ]
  },
  {
   "cell_type": "code",
   "execution_count": 423,
   "id": "6b2cb657",
   "metadata": {},
   "outputs": [
    {
     "data": {
      "text/html": [
       "<div>\n",
       "<style scoped>\n",
       "    .dataframe tbody tr th:only-of-type {\n",
       "        vertical-align: middle;\n",
       "    }\n",
       "\n",
       "    .dataframe tbody tr th {\n",
       "        vertical-align: top;\n",
       "    }\n",
       "\n",
       "    .dataframe thead th {\n",
       "        text-align: right;\n",
       "    }\n",
       "</style>\n",
       "<table border=\"1\" class=\"dataframe\">\n",
       "  <thead>\n",
       "    <tr style=\"text-align: right;\">\n",
       "      <th>event</th>\n",
       "      <th>ad_id</th>\n",
       "      <th>click</th>\n",
       "      <th>view</th>\n",
       "    </tr>\n",
       "  </thead>\n",
       "  <tbody>\n",
       "    <tr>\n",
       "      <th>0</th>\n",
       "      <td>3</td>\n",
       "      <td>2019-04-05 02:24:56</td>\n",
       "      <td>2019-04-05 00:03:10</td>\n",
       "    </tr>\n",
       "    <tr>\n",
       "      <th>1</th>\n",
       "      <td>2132</td>\n",
       "      <td>2019-04-05 15:17:15</td>\n",
       "      <td>2019-04-05 00:36:08</td>\n",
       "    </tr>\n",
       "    <tr>\n",
       "      <th>2</th>\n",
       "      <td>2276</td>\n",
       "      <td>2019-04-05 00:33:25</td>\n",
       "      <td>2019-04-05 00:00:24</td>\n",
       "    </tr>\n",
       "    <tr>\n",
       "      <th>3</th>\n",
       "      <td>2475</td>\n",
       "      <td>0</td>\n",
       "      <td>2019-04-05 00:06:36</td>\n",
       "    </tr>\n",
       "    <tr>\n",
       "      <th>4</th>\n",
       "      <td>2643</td>\n",
       "      <td>2019-04-05 10:10:43</td>\n",
       "      <td>2019-04-05 00:28:50</td>\n",
       "    </tr>\n",
       "    <tr>\n",
       "      <th>...</th>\n",
       "      <td>...</td>\n",
       "      <td>...</td>\n",
       "      <td>...</td>\n",
       "    </tr>\n",
       "    <tr>\n",
       "      <th>350</th>\n",
       "      <td>121941</td>\n",
       "      <td>2019-04-03 00:35:58</td>\n",
       "      <td>2019-04-03 00:00:03</td>\n",
       "    </tr>\n",
       "    <tr>\n",
       "      <th>351</th>\n",
       "      <td>121943</td>\n",
       "      <td>2019-04-02 00:17:17</td>\n",
       "      <td>2019-04-02 00:01:55</td>\n",
       "    </tr>\n",
       "    <tr>\n",
       "      <th>352</th>\n",
       "      <td>122042</td>\n",
       "      <td>2019-04-05 12:58:11</td>\n",
       "      <td>2019-04-05 00:02:52</td>\n",
       "    </tr>\n",
       "    <tr>\n",
       "      <th>353</th>\n",
       "      <td>122063</td>\n",
       "      <td>2019-04-03 08:41:31</td>\n",
       "      <td>2019-04-03 00:00:03</td>\n",
       "    </tr>\n",
       "    <tr>\n",
       "      <th>354</th>\n",
       "      <td>122086</td>\n",
       "      <td>2019-04-02 00:07:32</td>\n",
       "      <td>2019-04-02 00:02:20</td>\n",
       "    </tr>\n",
       "  </tbody>\n",
       "</table>\n",
       "<p>355 rows × 3 columns</p>\n",
       "</div>"
      ],
      "text/plain": [
       "event   ad_id                click                 view\n",
       "0           3  2019-04-05 02:24:56  2019-04-05 00:03:10\n",
       "1        2132  2019-04-05 15:17:15  2019-04-05 00:36:08\n",
       "2        2276  2019-04-05 00:33:25  2019-04-05 00:00:24\n",
       "3        2475                    0  2019-04-05 00:06:36\n",
       "4        2643  2019-04-05 10:10:43  2019-04-05 00:28:50\n",
       "..        ...                  ...                  ...\n",
       "350    121941  2019-04-03 00:35:58  2019-04-03 00:00:03\n",
       "351    121943  2019-04-02 00:17:17  2019-04-02 00:01:55\n",
       "352    122042  2019-04-05 12:58:11  2019-04-05 00:02:52\n",
       "353    122063  2019-04-03 08:41:31  2019-04-03 00:00:03\n",
       "354    122086  2019-04-02 00:07:32  2019-04-02 00:02:20\n",
       "\n",
       "[355 rows x 3 columns]"
      ]
     },
     "execution_count": 423,
     "metadata": {},
     "output_type": "execute_result"
    }
   ],
   "source": [
    "time_compare = df.groupby(['ad_id','event'],as_index=False) \\\n",
    "    .agg({\"full_date\":\"min\"}) \\\n",
    "    .pivot(index = 'ad_id', columns = 'event', values = 'full_date') \\\n",
    "    .fillna(0).reset_index()\n",
    "time_compare   "
   ]
  },
  {
   "cell_type": "code",
   "execution_count": 398,
   "id": "a74e8397",
   "metadata": {},
   "outputs": [],
   "source": [
    "# Теперь возьмем только те объявления, у которых были клики"
   ]
  },
  {
   "cell_type": "code",
   "execution_count": 413,
   "id": "887ab7bd",
   "metadata": {},
   "outputs": [
    {
     "data": {
      "text/html": [
       "<div>\n",
       "<style scoped>\n",
       "    .dataframe tbody tr th:only-of-type {\n",
       "        vertical-align: middle;\n",
       "    }\n",
       "\n",
       "    .dataframe tbody tr th {\n",
       "        vertical-align: top;\n",
       "    }\n",
       "\n",
       "    .dataframe thead th {\n",
       "        text-align: right;\n",
       "    }\n",
       "</style>\n",
       "<table border=\"1\" class=\"dataframe\">\n",
       "  <thead>\n",
       "    <tr style=\"text-align: right;\">\n",
       "      <th>event</th>\n",
       "      <th>ad_id</th>\n",
       "      <th>click</th>\n",
       "      <th>view</th>\n",
       "      <th>time_dif</th>\n",
       "      <th>time_diff</th>\n",
       "    </tr>\n",
       "  </thead>\n",
       "  <tbody>\n",
       "    <tr>\n",
       "      <th>0</th>\n",
       "      <td>3</td>\n",
       "      <td>2019-04-05 02:24:56</td>\n",
       "      <td>2019-04-05 00:03:10</td>\n",
       "      <td>0 days 02:21:46</td>\n",
       "      <td>0 days 02:21:46</td>\n",
       "    </tr>\n",
       "    <tr>\n",
       "      <th>1</th>\n",
       "      <td>2132</td>\n",
       "      <td>2019-04-05 15:17:15</td>\n",
       "      <td>2019-04-05 00:36:08</td>\n",
       "      <td>0 days 14:41:07</td>\n",
       "      <td>0 days 14:41:07</td>\n",
       "    </tr>\n",
       "    <tr>\n",
       "      <th>2</th>\n",
       "      <td>2276</td>\n",
       "      <td>2019-04-05 00:33:25</td>\n",
       "      <td>2019-04-05 00:00:24</td>\n",
       "      <td>0 days 00:33:01</td>\n",
       "      <td>0 days 00:33:01</td>\n",
       "    </tr>\n",
       "    <tr>\n",
       "      <th>4</th>\n",
       "      <td>2643</td>\n",
       "      <td>2019-04-05 10:10:43</td>\n",
       "      <td>2019-04-05 00:28:50</td>\n",
       "      <td>0 days 09:41:53</td>\n",
       "      <td>0 days 09:41:53</td>\n",
       "    </tr>\n",
       "    <tr>\n",
       "      <th>5</th>\n",
       "      <td>4585</td>\n",
       "      <td>2019-04-01 00:10:47</td>\n",
       "      <td>2019-04-01 00:01:03</td>\n",
       "      <td>0 days 00:09:44</td>\n",
       "      <td>0 days 00:09:44</td>\n",
       "    </tr>\n",
       "    <tr>\n",
       "      <th>...</th>\n",
       "      <td>...</td>\n",
       "      <td>...</td>\n",
       "      <td>...</td>\n",
       "      <td>...</td>\n",
       "      <td>...</td>\n",
       "    </tr>\n",
       "    <tr>\n",
       "      <th>350</th>\n",
       "      <td>121941</td>\n",
       "      <td>2019-04-03 00:35:58</td>\n",
       "      <td>2019-04-03 00:00:03</td>\n",
       "      <td>0 days 00:35:55</td>\n",
       "      <td>0 days 00:35:55</td>\n",
       "    </tr>\n",
       "    <tr>\n",
       "      <th>351</th>\n",
       "      <td>121943</td>\n",
       "      <td>2019-04-02 00:17:17</td>\n",
       "      <td>2019-04-02 00:01:55</td>\n",
       "      <td>0 days 00:15:22</td>\n",
       "      <td>0 days 00:15:22</td>\n",
       "    </tr>\n",
       "    <tr>\n",
       "      <th>352</th>\n",
       "      <td>122042</td>\n",
       "      <td>2019-04-05 12:58:11</td>\n",
       "      <td>2019-04-05 00:02:52</td>\n",
       "      <td>0 days 12:55:19</td>\n",
       "      <td>0 days 12:55:19</td>\n",
       "    </tr>\n",
       "    <tr>\n",
       "      <th>353</th>\n",
       "      <td>122063</td>\n",
       "      <td>2019-04-03 08:41:31</td>\n",
       "      <td>2019-04-03 00:00:03</td>\n",
       "      <td>0 days 08:41:28</td>\n",
       "      <td>0 days 08:41:28</td>\n",
       "    </tr>\n",
       "    <tr>\n",
       "      <th>354</th>\n",
       "      <td>122086</td>\n",
       "      <td>2019-04-02 00:07:32</td>\n",
       "      <td>2019-04-02 00:02:20</td>\n",
       "      <td>0 days 00:05:12</td>\n",
       "      <td>0 days 00:05:12</td>\n",
       "    </tr>\n",
       "  </tbody>\n",
       "</table>\n",
       "<p>306 rows × 5 columns</p>\n",
       "</div>"
      ],
      "text/plain": [
       "event   ad_id                click                 view        time_dif  \\\n",
       "0           3  2019-04-05 02:24:56  2019-04-05 00:03:10 0 days 02:21:46   \n",
       "1        2132  2019-04-05 15:17:15  2019-04-05 00:36:08 0 days 14:41:07   \n",
       "2        2276  2019-04-05 00:33:25  2019-04-05 00:00:24 0 days 00:33:01   \n",
       "4        2643  2019-04-05 10:10:43  2019-04-05 00:28:50 0 days 09:41:53   \n",
       "5        4585  2019-04-01 00:10:47  2019-04-01 00:01:03 0 days 00:09:44   \n",
       "..        ...                  ...                  ...             ...   \n",
       "350    121941  2019-04-03 00:35:58  2019-04-03 00:00:03 0 days 00:35:55   \n",
       "351    121943  2019-04-02 00:17:17  2019-04-02 00:01:55 0 days 00:15:22   \n",
       "352    122042  2019-04-05 12:58:11  2019-04-05 00:02:52 0 days 12:55:19   \n",
       "353    122063  2019-04-03 08:41:31  2019-04-03 00:00:03 0 days 08:41:28   \n",
       "354    122086  2019-04-02 00:07:32  2019-04-02 00:02:20 0 days 00:05:12   \n",
       "\n",
       "event       time_diff  \n",
       "0     0 days 02:21:46  \n",
       "1     0 days 14:41:07  \n",
       "2     0 days 00:33:01  \n",
       "4     0 days 09:41:53  \n",
       "5     0 days 00:09:44  \n",
       "..                ...  \n",
       "350   0 days 00:35:55  \n",
       "351   0 days 00:15:22  \n",
       "352   0 days 12:55:19  \n",
       "353   0 days 08:41:28  \n",
       "354   0 days 00:05:12  \n",
       "\n",
       "[306 rows x 5 columns]"
      ]
     },
     "execution_count": 413,
     "metadata": {},
     "output_type": "execute_result"
    }
   ],
   "source": [
    "time_compare = time_compare[(time_compare.click != 0) & (time_compare.view != 0)]\n",
    "time_compare['time_diff'] = time_compare.click  - time_compare.view\n",
    "time_compare\n"
   ]
  },
  {
   "cell_type": "code",
   "execution_count": 420,
   "id": "2eb68b00",
   "metadata": {},
   "outputs": [
    {
     "data": {
      "text/html": [
       "<div>\n",
       "<style scoped>\n",
       "    .dataframe tbody tr th:only-of-type {\n",
       "        vertical-align: middle;\n",
       "    }\n",
       "\n",
       "    .dataframe tbody tr th {\n",
       "        vertical-align: top;\n",
       "    }\n",
       "\n",
       "    .dataframe thead th {\n",
       "        text-align: right;\n",
       "    }\n",
       "</style>\n",
       "<table border=\"1\" class=\"dataframe\">\n",
       "  <thead>\n",
       "    <tr style=\"text-align: right;\">\n",
       "      <th>event</th>\n",
       "      <th>ad_id</th>\n",
       "      <th>click</th>\n",
       "      <th>view</th>\n",
       "      <th>time_dif</th>\n",
       "      <th>time_diff</th>\n",
       "    </tr>\n",
       "  </thead>\n",
       "  <tbody>\n",
       "    <tr>\n",
       "      <th>27</th>\n",
       "      <td>16548</td>\n",
       "      <td>2019-04-04 00:01:23</td>\n",
       "      <td>2019-04-04 00:04:38</td>\n",
       "      <td>-1 days +23:56:45</td>\n",
       "      <td>-1 days +23:56:45</td>\n",
       "    </tr>\n",
       "    <tr>\n",
       "      <th>81</th>\n",
       "      <td>30939</td>\n",
       "      <td>2019-04-02 00:32:45</td>\n",
       "      <td>2019-04-02 02:37:06</td>\n",
       "      <td>-1 days +21:55:39</td>\n",
       "      <td>-1 days +21:55:39</td>\n",
       "    </tr>\n",
       "    <tr>\n",
       "      <th>138</th>\n",
       "      <td>40464</td>\n",
       "      <td>2019-04-02 00:11:29</td>\n",
       "      <td>2019-04-02 00:20:02</td>\n",
       "      <td>-1 days +23:51:27</td>\n",
       "      <td>-1 days +23:51:27</td>\n",
       "    </tr>\n",
       "    <tr>\n",
       "      <th>158</th>\n",
       "      <td>42007</td>\n",
       "      <td>2019-04-05 00:01:44</td>\n",
       "      <td>2019-04-05 00:02:15</td>\n",
       "      <td>-1 days +23:59:29</td>\n",
       "      <td>-1 days +23:59:29</td>\n",
       "    </tr>\n",
       "    <tr>\n",
       "      <th>185</th>\n",
       "      <td>44543</td>\n",
       "      <td>2019-04-04 00:04:28</td>\n",
       "      <td>2019-04-04 00:11:55</td>\n",
       "      <td>-1 days +23:52:33</td>\n",
       "      <td>-1 days +23:52:33</td>\n",
       "    </tr>\n",
       "    <tr>\n",
       "      <th>201</th>\n",
       "      <td>45436</td>\n",
       "      <td>2019-04-04 00:01:12</td>\n",
       "      <td>2019-04-04 00:05:28</td>\n",
       "      <td>-1 days +23:55:44</td>\n",
       "      <td>-1 days +23:55:44</td>\n",
       "    </tr>\n",
       "    <tr>\n",
       "      <th>324</th>\n",
       "      <td>119450</td>\n",
       "      <td>2019-04-04 00:00:59</td>\n",
       "      <td>2019-04-04 00:01:12</td>\n",
       "      <td>-1 days +23:59:47</td>\n",
       "      <td>-1 days +23:59:47</td>\n",
       "    </tr>\n",
       "  </tbody>\n",
       "</table>\n",
       "</div>"
      ],
      "text/plain": [
       "event   ad_id                click                 view          time_dif  \\\n",
       "27      16548  2019-04-04 00:01:23  2019-04-04 00:04:38 -1 days +23:56:45   \n",
       "81      30939  2019-04-02 00:32:45  2019-04-02 02:37:06 -1 days +21:55:39   \n",
       "138     40464  2019-04-02 00:11:29  2019-04-02 00:20:02 -1 days +23:51:27   \n",
       "158     42007  2019-04-05 00:01:44  2019-04-05 00:02:15 -1 days +23:59:29   \n",
       "185     44543  2019-04-04 00:04:28  2019-04-04 00:11:55 -1 days +23:52:33   \n",
       "201     45436  2019-04-04 00:01:12  2019-04-04 00:05:28 -1 days +23:55:44   \n",
       "324    119450  2019-04-04 00:00:59  2019-04-04 00:01:12 -1 days +23:59:47   \n",
       "\n",
       "event         time_diff  \n",
       "27    -1 days +23:56:45  \n",
       "81    -1 days +21:55:39  \n",
       "138   -1 days +23:51:27  \n",
       "158   -1 days +23:59:29  \n",
       "185   -1 days +23:52:33  \n",
       "201   -1 days +23:55:44  \n",
       "324   -1 days +23:59:47  "
      ]
     },
     "execution_count": 420,
     "metadata": {},
     "output_type": "execute_result"
    }
   ],
   "source": [
    "time_compare.query(\"time_diff.astype('timedelta64[s]') < 0\")"
   ]
  },
  {
   "cell_type": "code",
   "execution_count": null,
   "id": "37452196",
   "metadata": {},
   "outputs": [],
   "source": []
  },
  {
   "cell_type": "code",
   "execution_count": null,
   "id": "29bfd584",
   "metadata": {},
   "outputs": [],
   "source": []
  }
 ],
 "metadata": {
  "kernelspec": {
   "display_name": "Python 3 (ipykernel)",
   "language": "python",
   "name": "python3"
  },
  "language_info": {
   "codemirror_mode": {
    "name": "ipython",
    "version": 3
   },
   "file_extension": ".py",
   "mimetype": "text/x-python",
   "name": "python",
   "nbconvert_exporter": "python",
   "pygments_lexer": "ipython3",
   "version": "3.9.13"
  }
 },
 "nbformat": 4,
 "nbformat_minor": 5
}
