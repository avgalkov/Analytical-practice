{
 "cells": [
  {
   "cell_type": "code",
   "execution_count": 1,
   "id": "7eae818c",
   "metadata": {},
   "outputs": [],
   "source": [
    "import pandas as pd\n"
   ]
  },
  {
   "cell_type": "code",
   "execution_count": 12,
   "id": "b108cd9f",
   "metadata": {},
   "outputs": [],
   "source": [
    "taxi = pd.read_csv('/Users/79295/Desktop/GITHUB/Analytical-practice/Pandas/taxi.csv',\n",
    "                encoding = 'windows-1251', sep=',')"
   ]
  },
  {
   "cell_type": "code",
   "execution_count": 13,
   "id": "d2d94317",
   "metadata": {},
   "outputs": [
    {
     "data": {
      "text/html": [
       "<div>\n",
       "<style scoped>\n",
       "    .dataframe tbody tr th:only-of-type {\n",
       "        vertical-align: middle;\n",
       "    }\n",
       "\n",
       "    .dataframe tbody tr th {\n",
       "        vertical-align: top;\n",
       "    }\n",
       "\n",
       "    .dataframe thead th {\n",
       "        text-align: right;\n",
       "    }\n",
       "</style>\n",
       "<table border=\"1\" class=\"dataframe\">\n",
       "  <thead>\n",
       "    <tr style=\"text-align: right;\">\n",
       "      <th></th>\n",
       "      <th>pickup_dt</th>\n",
       "      <th>pickup_month</th>\n",
       "      <th>borough</th>\n",
       "      <th>pickups</th>\n",
       "      <th>hday</th>\n",
       "      <th>spd</th>\n",
       "      <th>vsb</th>\n",
       "      <th>temp</th>\n",
       "      <th>dewp</th>\n",
       "      <th>slp</th>\n",
       "      <th>pcp 01</th>\n",
       "      <th>pcp 06</th>\n",
       "      <th>pcp 24</th>\n",
       "      <th>sd</th>\n",
       "    </tr>\n",
       "  </thead>\n",
       "  <tbody>\n",
       "    <tr>\n",
       "      <th>0</th>\n",
       "      <td>2015-01-01 01:00:00</td>\n",
       "      <td>Jan</td>\n",
       "      <td>Bronx</td>\n",
       "      <td>152</td>\n",
       "      <td>Y</td>\n",
       "      <td>5.0</td>\n",
       "      <td>10.0</td>\n",
       "      <td>30.0</td>\n",
       "      <td>7.0</td>\n",
       "      <td>1023.5</td>\n",
       "      <td>0.0</td>\n",
       "      <td>0.0</td>\n",
       "      <td>0.0</td>\n",
       "      <td>0.0</td>\n",
       "    </tr>\n",
       "    <tr>\n",
       "      <th>1</th>\n",
       "      <td>2015-01-01 01:00:00</td>\n",
       "      <td>Jan</td>\n",
       "      <td>Brooklyn</td>\n",
       "      <td>1519</td>\n",
       "      <td>Y</td>\n",
       "      <td>5.0</td>\n",
       "      <td>10.0</td>\n",
       "      <td>30.0</td>\n",
       "      <td>7.0</td>\n",
       "      <td>1023.5</td>\n",
       "      <td>0.0</td>\n",
       "      <td>0.0</td>\n",
       "      <td>0.0</td>\n",
       "      <td>0.0</td>\n",
       "    </tr>\n",
       "    <tr>\n",
       "      <th>2</th>\n",
       "      <td>2015-01-01 01:00:00</td>\n",
       "      <td>Jan</td>\n",
       "      <td>EWR</td>\n",
       "      <td>0</td>\n",
       "      <td>Y</td>\n",
       "      <td>5.0</td>\n",
       "      <td>10.0</td>\n",
       "      <td>30.0</td>\n",
       "      <td>7.0</td>\n",
       "      <td>1023.5</td>\n",
       "      <td>0.0</td>\n",
       "      <td>0.0</td>\n",
       "      <td>0.0</td>\n",
       "      <td>0.0</td>\n",
       "    </tr>\n",
       "    <tr>\n",
       "      <th>3</th>\n",
       "      <td>2015-01-01 01:00:00</td>\n",
       "      <td>Jan</td>\n",
       "      <td>Manhattan</td>\n",
       "      <td>5258</td>\n",
       "      <td>Y</td>\n",
       "      <td>5.0</td>\n",
       "      <td>10.0</td>\n",
       "      <td>30.0</td>\n",
       "      <td>7.0</td>\n",
       "      <td>1023.5</td>\n",
       "      <td>0.0</td>\n",
       "      <td>0.0</td>\n",
       "      <td>0.0</td>\n",
       "      <td>0.0</td>\n",
       "    </tr>\n",
       "    <tr>\n",
       "      <th>4</th>\n",
       "      <td>2015-01-01 01:00:00</td>\n",
       "      <td>Jan</td>\n",
       "      <td>Queens</td>\n",
       "      <td>405</td>\n",
       "      <td>Y</td>\n",
       "      <td>5.0</td>\n",
       "      <td>10.0</td>\n",
       "      <td>30.0</td>\n",
       "      <td>7.0</td>\n",
       "      <td>1023.5</td>\n",
       "      <td>0.0</td>\n",
       "      <td>0.0</td>\n",
       "      <td>0.0</td>\n",
       "      <td>0.0</td>\n",
       "    </tr>\n",
       "    <tr>\n",
       "      <th>...</th>\n",
       "      <td>...</td>\n",
       "      <td>...</td>\n",
       "      <td>...</td>\n",
       "      <td>...</td>\n",
       "      <td>...</td>\n",
       "      <td>...</td>\n",
       "      <td>...</td>\n",
       "      <td>...</td>\n",
       "      <td>...</td>\n",
       "      <td>...</td>\n",
       "      <td>...</td>\n",
       "      <td>...</td>\n",
       "      <td>...</td>\n",
       "      <td>...</td>\n",
       "    </tr>\n",
       "    <tr>\n",
       "      <th>29096</th>\n",
       "      <td>2015-06-30 23:00:00</td>\n",
       "      <td>Jun</td>\n",
       "      <td>EWR</td>\n",
       "      <td>0</td>\n",
       "      <td>N</td>\n",
       "      <td>7.0</td>\n",
       "      <td>10.0</td>\n",
       "      <td>75.0</td>\n",
       "      <td>65.0</td>\n",
       "      <td>1011.8</td>\n",
       "      <td>0.0</td>\n",
       "      <td>0.0</td>\n",
       "      <td>0.0</td>\n",
       "      <td>0.0</td>\n",
       "    </tr>\n",
       "    <tr>\n",
       "      <th>29097</th>\n",
       "      <td>2015-06-30 23:00:00</td>\n",
       "      <td>Jun</td>\n",
       "      <td>Manhattan</td>\n",
       "      <td>3828</td>\n",
       "      <td>N</td>\n",
       "      <td>7.0</td>\n",
       "      <td>10.0</td>\n",
       "      <td>75.0</td>\n",
       "      <td>65.0</td>\n",
       "      <td>1011.8</td>\n",
       "      <td>0.0</td>\n",
       "      <td>0.0</td>\n",
       "      <td>0.0</td>\n",
       "      <td>0.0</td>\n",
       "    </tr>\n",
       "    <tr>\n",
       "      <th>29098</th>\n",
       "      <td>2015-06-30 23:00:00</td>\n",
       "      <td>Jun</td>\n",
       "      <td>Queens</td>\n",
       "      <td>580</td>\n",
       "      <td>N</td>\n",
       "      <td>7.0</td>\n",
       "      <td>10.0</td>\n",
       "      <td>75.0</td>\n",
       "      <td>65.0</td>\n",
       "      <td>1011.8</td>\n",
       "      <td>0.0</td>\n",
       "      <td>0.0</td>\n",
       "      <td>0.0</td>\n",
       "      <td>0.0</td>\n",
       "    </tr>\n",
       "    <tr>\n",
       "      <th>29099</th>\n",
       "      <td>2015-06-30 23:00:00</td>\n",
       "      <td>Jun</td>\n",
       "      <td>Staten Island</td>\n",
       "      <td>0</td>\n",
       "      <td>N</td>\n",
       "      <td>7.0</td>\n",
       "      <td>10.0</td>\n",
       "      <td>75.0</td>\n",
       "      <td>65.0</td>\n",
       "      <td>1011.8</td>\n",
       "      <td>0.0</td>\n",
       "      <td>0.0</td>\n",
       "      <td>0.0</td>\n",
       "      <td>0.0</td>\n",
       "    </tr>\n",
       "    <tr>\n",
       "      <th>29100</th>\n",
       "      <td>2015-06-30 23:00:00</td>\n",
       "      <td>Jun</td>\n",
       "      <td>NaN</td>\n",
       "      <td>3</td>\n",
       "      <td>N</td>\n",
       "      <td>7.0</td>\n",
       "      <td>10.0</td>\n",
       "      <td>75.0</td>\n",
       "      <td>65.0</td>\n",
       "      <td>1011.8</td>\n",
       "      <td>0.0</td>\n",
       "      <td>0.0</td>\n",
       "      <td>0.0</td>\n",
       "      <td>0.0</td>\n",
       "    </tr>\n",
       "  </tbody>\n",
       "</table>\n",
       "<p>29101 rows × 14 columns</p>\n",
       "</div>"
      ],
      "text/plain": [
       "                 pickup_dt pickup_month        borough  pickups hday  spd  \\\n",
       "0      2015-01-01 01:00:00          Jan          Bronx      152    Y  5.0   \n",
       "1      2015-01-01 01:00:00          Jan       Brooklyn     1519    Y  5.0   \n",
       "2      2015-01-01 01:00:00          Jan            EWR        0    Y  5.0   \n",
       "3      2015-01-01 01:00:00          Jan      Manhattan     5258    Y  5.0   \n",
       "4      2015-01-01 01:00:00          Jan         Queens      405    Y  5.0   \n",
       "...                    ...          ...            ...      ...  ...  ...   \n",
       "29096  2015-06-30 23:00:00          Jun            EWR        0    N  7.0   \n",
       "29097  2015-06-30 23:00:00          Jun      Manhattan     3828    N  7.0   \n",
       "29098  2015-06-30 23:00:00          Jun         Queens      580    N  7.0   \n",
       "29099  2015-06-30 23:00:00          Jun  Staten Island        0    N  7.0   \n",
       "29100  2015-06-30 23:00:00          Jun            NaN        3    N  7.0   \n",
       "\n",
       "        vsb  temp  dewp     slp  pcp 01  pcp 06  pcp 24   sd  \n",
       "0      10.0  30.0   7.0  1023.5     0.0     0.0     0.0  0.0  \n",
       "1      10.0  30.0   7.0  1023.5     0.0     0.0     0.0  0.0  \n",
       "2      10.0  30.0   7.0  1023.5     0.0     0.0     0.0  0.0  \n",
       "3      10.0  30.0   7.0  1023.5     0.0     0.0     0.0  0.0  \n",
       "4      10.0  30.0   7.0  1023.5     0.0     0.0     0.0  0.0  \n",
       "...     ...   ...   ...     ...     ...     ...     ...  ...  \n",
       "29096  10.0  75.0  65.0  1011.8     0.0     0.0     0.0  0.0  \n",
       "29097  10.0  75.0  65.0  1011.8     0.0     0.0     0.0  0.0  \n",
       "29098  10.0  75.0  65.0  1011.8     0.0     0.0     0.0  0.0  \n",
       "29099  10.0  75.0  65.0  1011.8     0.0     0.0     0.0  0.0  \n",
       "29100  10.0  75.0  65.0  1011.8     0.0     0.0     0.0  0.0  \n",
       "\n",
       "[29101 rows x 14 columns]"
      ]
     },
     "execution_count": 13,
     "metadata": {},
     "output_type": "execute_result"
    }
   ],
   "source": [
    "taxi"
   ]
  },
  {
   "cell_type": "code",
   "execution_count": 14,
   "id": "a88868f1",
   "metadata": {},
   "outputs": [
    {
     "data": {
      "text/plain": [
       "Index(['pickup_dt', 'pickup_month', 'borough', 'pickups', 'hday', 'spd', 'vsb',\n",
       "       'temp', 'dewp', 'slp', 'pcp 01', 'pcp 06', 'pcp 24', 'sd'],\n",
       "      dtype='object')"
      ]
     },
     "execution_count": 14,
     "metadata": {},
     "output_type": "execute_result"
    }
   ],
   "source": [
    "taxi.columns\n"
   ]
  },
  {
   "cell_type": "markdown",
   "id": "b58c5c9b",
   "metadata": {},
   "source": [
    "Проверьте, сколько всего строк и столбцов имеется в датасете."
   ]
  },
  {
   "cell_type": "code",
   "execution_count": 15,
   "id": "45265658",
   "metadata": {},
   "outputs": [
    {
     "data": {
      "text/plain": [
       "(29101, 14)"
      ]
     },
     "execution_count": 15,
     "metadata": {},
     "output_type": "execute_result"
    }
   ],
   "source": [
    "taxi.shape"
   ]
  },
  {
   "cell_type": "code",
   "execution_count": 16,
   "id": "62f42968",
   "metadata": {
    "scrolled": true
   },
   "outputs": [
    {
     "data": {
      "text/plain": [
       "pickup_dt        object\n",
       "pickup_month     object\n",
       "borough          object\n",
       "pickups           int64\n",
       "hday             object\n",
       "spd             float64\n",
       "vsb             float64\n",
       "temp            float64\n",
       "dewp            float64\n",
       "slp             float64\n",
       "pcp 01          float64\n",
       "pcp 06          float64\n",
       "pcp 24          float64\n",
       "sd              float64\n",
       "dtype: object"
      ]
     },
     "execution_count": 16,
     "metadata": {},
     "output_type": "execute_result"
    }
   ],
   "source": [
    "taxi.dtypes"
   ]
  },
  {
   "cell_type": "markdown",
   "id": "18ef1a52",
   "metadata": {},
   "source": [
    "Переименуем колонки для более удобной работы с данными:"
   ]
  },
  {
   "cell_type": "code",
   "execution_count": 17,
   "id": "262f41b6",
   "metadata": {},
   "outputs": [],
   "source": [
    "taxi = taxi.rename(columns={\"pcp 01\":\"pcp_01\",\n",
    "                   \"pcp 06\":\"pcp_06\",\n",
    "                   \"pcp 24\":\"pcp_24\",\n",
    "                  })"
   ]
  },
  {
   "cell_type": "markdown",
   "id": "e5cbadbd",
   "metadata": {},
   "source": [
    "Узнаем сколько раз в нашем датафрейме встречается каждый из районов:"
   ]
  },
  {
   "cell_type": "code",
   "execution_count": 30,
   "id": "8cd66d2a",
   "metadata": {
    "scrolled": true
   },
   "outputs": [
    {
     "data": {
      "text/plain": [
       "Bronx            4343\n",
       "Brooklyn         4343\n",
       "EWR              4343\n",
       "Manhattan        4343\n",
       "Queens           4343\n",
       "Staten Island    4343\n",
       "Name: borough, dtype: int64"
      ]
     },
     "execution_count": 30,
     "metadata": {},
     "output_type": "execute_result"
    }
   ],
   "source": [
    "taxi['borough'].value_counts()"
   ]
  },
  {
   "cell_type": "markdown",
   "id": "00b2c0ed",
   "metadata": {},
   "source": [
    "Посчитаем сколько всего было совершено поездок:"
   ]
  },
  {
   "cell_type": "code",
   "execution_count": 36,
   "id": "c89f19f5",
   "metadata": {},
   "outputs": [
    {
     "data": {
      "text/plain": [
       "pickups    14265773\n",
       "dtype: int64"
      ]
     },
     "execution_count": 36,
     "metadata": {},
     "output_type": "execute_result"
    }
   ],
   "source": [
    "taxi.agg({'pickups': 'sum'})"
   ]
  },
  {
   "cell_type": "markdown",
   "id": "0e3537c4",
   "metadata": {},
   "source": [
    "Узнаем из какого районо совершено наибольшее кол-во поездок:"
   ]
  },
  {
   "cell_type": "code",
   "execution_count": 45,
   "id": "d4df0f37",
   "metadata": {
    "scrolled": true
   },
   "outputs": [
    {
     "data": {
      "text/html": [
       "<div>\n",
       "<style scoped>\n",
       "    .dataframe tbody tr th:only-of-type {\n",
       "        vertical-align: middle;\n",
       "    }\n",
       "\n",
       "    .dataframe tbody tr th {\n",
       "        vertical-align: top;\n",
       "    }\n",
       "\n",
       "    .dataframe thead th {\n",
       "        text-align: right;\n",
       "    }\n",
       "</style>\n",
       "<table border=\"1\" class=\"dataframe\">\n",
       "  <thead>\n",
       "    <tr style=\"text-align: right;\">\n",
       "      <th></th>\n",
       "      <th>pickups</th>\n",
       "    </tr>\n",
       "    <tr>\n",
       "      <th>borough</th>\n",
       "      <th></th>\n",
       "    </tr>\n",
       "  </thead>\n",
       "  <tbody>\n",
       "    <tr>\n",
       "      <th>Manhattan</th>\n",
       "      <td>10367841</td>\n",
       "    </tr>\n",
       "    <tr>\n",
       "      <th>Brooklyn</th>\n",
       "      <td>2321035</td>\n",
       "    </tr>\n",
       "    <tr>\n",
       "      <th>Queens</th>\n",
       "      <td>1343528</td>\n",
       "    </tr>\n",
       "    <tr>\n",
       "      <th>Bronx</th>\n",
       "      <td>220047</td>\n",
       "    </tr>\n",
       "    <tr>\n",
       "      <th>Staten Island</th>\n",
       "      <td>6957</td>\n",
       "    </tr>\n",
       "    <tr>\n",
       "      <th>EWR</th>\n",
       "      <td>105</td>\n",
       "    </tr>\n",
       "  </tbody>\n",
       "</table>\n",
       "</div>"
      ],
      "text/plain": [
       "                pickups\n",
       "borough                \n",
       "Manhattan      10367841\n",
       "Brooklyn        2321035\n",
       "Queens          1343528\n",
       "Bronx            220047\n",
       "Staten Island      6957\n",
       "EWR                 105"
      ]
     },
     "execution_count": 45,
     "metadata": {},
     "output_type": "execute_result"
    }
   ],
   "source": [
    "taxi \\\n",
    "    .groupby('borough') \\\n",
    "    .agg({'pickups': 'sum'}) \\\n",
    "    .sort_values('pickups', ascending = False)"
   ]
  },
  {
   "cell_type": "markdown",
   "id": "c9f2fb0d",
   "metadata": {},
   "source": [
    "Сохраним в переменную название района с наименьшим количеством поездок, применив метод idxmin():"
   ]
  },
  {
   "cell_type": "code",
   "execution_count": 48,
   "id": "c8336469",
   "metadata": {},
   "outputs": [],
   "source": [
    "min_pickups = \\\n",
    "taxi \\\n",
    "    .groupby('borough') \\\n",
    "    .agg({'pickups': 'sum'}) \\\n",
    "    .idxmin()"
   ]
  },
  {
   "cell_type": "code",
   "execution_count": 49,
   "id": "1ef4df61",
   "metadata": {
    "scrolled": true
   },
   "outputs": [
    {
     "data": {
      "text/plain": [
       "pickups    EWR\n",
       "dtype: object"
      ]
     },
     "execution_count": 49,
     "metadata": {},
     "output_type": "execute_result"
    }
   ],
   "source": [
    "min_pickups"
   ]
  },
  {
   "cell_type": "markdown",
   "id": "a815e43e",
   "metadata": {},
   "source": [
    "Оценим среднее кол-во поездок в выходные и рабочие дни с разбивкой по районам:"
   ]
  },
  {
   "cell_type": "code",
   "execution_count": 53,
   "id": "a3117fe8",
   "metadata": {},
   "outputs": [
    {
     "data": {
      "text/html": [
       "<div>\n",
       "<style scoped>\n",
       "    .dataframe tbody tr th:only-of-type {\n",
       "        vertical-align: middle;\n",
       "    }\n",
       "\n",
       "    .dataframe tbody tr th {\n",
       "        vertical-align: top;\n",
       "    }\n",
       "\n",
       "    .dataframe thead th {\n",
       "        text-align: right;\n",
       "    }\n",
       "</style>\n",
       "<table border=\"1\" class=\"dataframe\">\n",
       "  <thead>\n",
       "    <tr style=\"text-align: right;\">\n",
       "      <th></th>\n",
       "      <th></th>\n",
       "      <th>pickups</th>\n",
       "    </tr>\n",
       "    <tr>\n",
       "      <th>borough</th>\n",
       "      <th>hday</th>\n",
       "      <th></th>\n",
       "    </tr>\n",
       "  </thead>\n",
       "  <tbody>\n",
       "    <tr>\n",
       "      <th rowspan=\"2\" valign=\"top\">Manhattan</th>\n",
       "      <th>N</th>\n",
       "      <td>2401.302921</td>\n",
       "    </tr>\n",
       "    <tr>\n",
       "      <th>Y</th>\n",
       "      <td>2035.928144</td>\n",
       "    </tr>\n",
       "    <tr>\n",
       "      <th rowspan=\"2\" valign=\"top\">Brooklyn</th>\n",
       "      <th>N</th>\n",
       "      <td>534.727969</td>\n",
       "    </tr>\n",
       "    <tr>\n",
       "      <th>Y</th>\n",
       "      <td>527.011976</td>\n",
       "    </tr>\n",
       "    <tr>\n",
       "      <th rowspan=\"2\" valign=\"top\">Queens</th>\n",
       "      <th>Y</th>\n",
       "      <td>320.730539</td>\n",
       "    </tr>\n",
       "    <tr>\n",
       "      <th>N</th>\n",
       "      <td>308.899904</td>\n",
       "    </tr>\n",
       "    <tr>\n",
       "      <th rowspan=\"2\" valign=\"top\">Bronx</th>\n",
       "      <th>N</th>\n",
       "      <td>50.771073</td>\n",
       "    </tr>\n",
       "    <tr>\n",
       "      <th>Y</th>\n",
       "      <td>48.065868</td>\n",
       "    </tr>\n",
       "    <tr>\n",
       "      <th rowspan=\"2\" valign=\"top\">Staten Island</th>\n",
       "      <th>N</th>\n",
       "      <td>1.606082</td>\n",
       "    </tr>\n",
       "    <tr>\n",
       "      <th>Y</th>\n",
       "      <td>1.497006</td>\n",
       "    </tr>\n",
       "    <tr>\n",
       "      <th rowspan=\"2\" valign=\"top\">EWR</th>\n",
       "      <th>Y</th>\n",
       "      <td>0.041916</td>\n",
       "    </tr>\n",
       "    <tr>\n",
       "      <th>N</th>\n",
       "      <td>0.023467</td>\n",
       "    </tr>\n",
       "  </tbody>\n",
       "</table>\n",
       "</div>"
      ],
      "text/plain": [
       "                        pickups\n",
       "borough       hday             \n",
       "Manhattan     N     2401.302921\n",
       "              Y     2035.928144\n",
       "Brooklyn      N      534.727969\n",
       "              Y      527.011976\n",
       "Queens        Y      320.730539\n",
       "              N      308.899904\n",
       "Bronx         N       50.771073\n",
       "              Y       48.065868\n",
       "Staten Island N        1.606082\n",
       "              Y        1.497006\n",
       "EWR           Y        0.041916\n",
       "              N        0.023467"
      ]
     },
     "execution_count": 53,
     "metadata": {},
     "output_type": "execute_result"
    }
   ],
   "source": [
    "taxi \\\n",
    "    .groupby(['borough','hday']) \\\n",
    "    .agg({'pickups': 'mean'}) \\\n",
    "    .sort_values('pickups', ascending = False)"
   ]
  },
  {
   "cell_type": "markdown",
   "id": "f8d71d5f",
   "metadata": {},
   "source": [
    "Отметим, что в выходные больше поездок происходит в районах : Queens, EWR"
   ]
  },
  {
   "cell_type": "markdown",
   "id": "ddca50e9",
   "metadata": {},
   "source": [
    "Для каждого района посчитайте число поездок по месяцам. Отсортируйте полученные значения по убыванию и сохраните результирующий датафрейм в pickups_by_mon_bor"
   ]
  },
  {
   "cell_type": "code",
   "execution_count": 56,
   "id": "cf250554",
   "metadata": {},
   "outputs": [],
   "source": [
    "pickups_by_mon_bor = taxi \\\n",
    "    .groupby(['pickup_month','borough']) \\\n",
    "    .agg({'pickups': 'sum'}) \\\n",
    "    .sort_values('pickups', ascending = False)"
   ]
  },
  {
   "cell_type": "code",
   "execution_count": 57,
   "id": "24c96ae5",
   "metadata": {},
   "outputs": [
    {
     "data": {
      "text/html": [
       "<div>\n",
       "<style scoped>\n",
       "    .dataframe tbody tr th:only-of-type {\n",
       "        vertical-align: middle;\n",
       "    }\n",
       "\n",
       "    .dataframe tbody tr th {\n",
       "        vertical-align: top;\n",
       "    }\n",
       "\n",
       "    .dataframe thead th {\n",
       "        text-align: right;\n",
       "    }\n",
       "</style>\n",
       "<table border=\"1\" class=\"dataframe\">\n",
       "  <thead>\n",
       "    <tr style=\"text-align: right;\">\n",
       "      <th></th>\n",
       "      <th></th>\n",
       "      <th>pickups</th>\n",
       "    </tr>\n",
       "    <tr>\n",
       "      <th>pickup_month</th>\n",
       "      <th>borough</th>\n",
       "      <th></th>\n",
       "    </tr>\n",
       "  </thead>\n",
       "  <tbody>\n",
       "    <tr>\n",
       "      <th>Jun</th>\n",
       "      <th>Manhattan</th>\n",
       "      <td>1995388</td>\n",
       "    </tr>\n",
       "    <tr>\n",
       "      <th>May</th>\n",
       "      <th>Manhattan</th>\n",
       "      <td>1888800</td>\n",
       "    </tr>\n",
       "    <tr>\n",
       "      <th>Feb</th>\n",
       "      <th>Manhattan</th>\n",
       "      <td>1718571</td>\n",
       "    </tr>\n",
       "    <tr>\n",
       "      <th>Mar</th>\n",
       "      <th>Manhattan</th>\n",
       "      <td>1661261</td>\n",
       "    </tr>\n",
       "    <tr>\n",
       "      <th>Apr</th>\n",
       "      <th>Manhattan</th>\n",
       "      <td>1648278</td>\n",
       "    </tr>\n",
       "    <tr>\n",
       "      <th>Jan</th>\n",
       "      <th>Manhattan</th>\n",
       "      <td>1455543</td>\n",
       "    </tr>\n",
       "    <tr>\n",
       "      <th>Jun</th>\n",
       "      <th>Brooklyn</th>\n",
       "      <td>482466</td>\n",
       "    </tr>\n",
       "    <tr>\n",
       "      <th>May</th>\n",
       "      <th>Brooklyn</th>\n",
       "      <td>476087</td>\n",
       "    </tr>\n",
       "    <tr>\n",
       "      <th>Apr</th>\n",
       "      <th>Brooklyn</th>\n",
       "      <td>378095</td>\n",
       "    </tr>\n",
       "    <tr>\n",
       "      <th>Mar</th>\n",
       "      <th>Brooklyn</th>\n",
       "      <td>346726</td>\n",
       "    </tr>\n",
       "    <tr>\n",
       "      <th>Feb</th>\n",
       "      <th>Brooklyn</th>\n",
       "      <td>328650</td>\n",
       "    </tr>\n",
       "    <tr>\n",
       "      <th>Jan</th>\n",
       "      <th>Brooklyn</th>\n",
       "      <td>309011</td>\n",
       "    </tr>\n",
       "    <tr>\n",
       "      <th>Jun</th>\n",
       "      <th>Queens</th>\n",
       "      <td>286311</td>\n",
       "    </tr>\n",
       "    <tr>\n",
       "      <th>May</th>\n",
       "      <th>Queens</th>\n",
       "      <td>275893</td>\n",
       "    </tr>\n",
       "    <tr>\n",
       "      <th>Mar</th>\n",
       "      <th>Queens</th>\n",
       "      <td>219561</td>\n",
       "    </tr>\n",
       "    <tr>\n",
       "      <th>Apr</th>\n",
       "      <th>Queens</th>\n",
       "      <td>216857</td>\n",
       "    </tr>\n",
       "    <tr>\n",
       "      <th>Feb</th>\n",
       "      <th>Queens</th>\n",
       "      <td>185695</td>\n",
       "    </tr>\n",
       "    <tr>\n",
       "      <th>Jan</th>\n",
       "      <th>Queens</th>\n",
       "      <td>159211</td>\n",
       "    </tr>\n",
       "    <tr>\n",
       "      <th>May</th>\n",
       "      <th>Bronx</th>\n",
       "      <td>53037</td>\n",
       "    </tr>\n",
       "    <tr>\n",
       "      <th>Jun</th>\n",
       "      <th>Bronx</th>\n",
       "      <td>49006</td>\n",
       "    </tr>\n",
       "    <tr>\n",
       "      <th>Apr</th>\n",
       "      <th>Bronx</th>\n",
       "      <td>34617</td>\n",
       "    </tr>\n",
       "    <tr>\n",
       "      <th>Mar</th>\n",
       "      <th>Bronx</th>\n",
       "      <td>32232</td>\n",
       "    </tr>\n",
       "    <tr>\n",
       "      <th>Feb</th>\n",
       "      <th>Bronx</th>\n",
       "      <td>28694</td>\n",
       "    </tr>\n",
       "    <tr>\n",
       "      <th>Jan</th>\n",
       "      <th>Bronx</th>\n",
       "      <td>22461</td>\n",
       "    </tr>\n",
       "    <tr>\n",
       "      <th>Jun</th>\n",
       "      <th>Staten Island</th>\n",
       "      <td>1673</td>\n",
       "    </tr>\n",
       "    <tr>\n",
       "      <th>May</th>\n",
       "      <th>Staten Island</th>\n",
       "      <td>1517</td>\n",
       "    </tr>\n",
       "    <tr>\n",
       "      <th>Apr</th>\n",
       "      <th>Staten Island</th>\n",
       "      <td>1068</td>\n",
       "    </tr>\n",
       "    <tr>\n",
       "      <th>Mar</th>\n",
       "      <th>Staten Island</th>\n",
       "      <td>975</td>\n",
       "    </tr>\n",
       "    <tr>\n",
       "      <th>Feb</th>\n",
       "      <th>Staten Island</th>\n",
       "      <td>903</td>\n",
       "    </tr>\n",
       "    <tr>\n",
       "      <th>Jan</th>\n",
       "      <th>Staten Island</th>\n",
       "      <td>821</td>\n",
       "    </tr>\n",
       "    <tr>\n",
       "      <th>Jun</th>\n",
       "      <th>EWR</th>\n",
       "      <td>29</td>\n",
       "    </tr>\n",
       "    <tr>\n",
       "      <th>May</th>\n",
       "      <th>EWR</th>\n",
       "      <td>27</td>\n",
       "    </tr>\n",
       "    <tr>\n",
       "      <th>Mar</th>\n",
       "      <th>EWR</th>\n",
       "      <td>14</td>\n",
       "    </tr>\n",
       "    <tr>\n",
       "      <th>Feb</th>\n",
       "      <th>EWR</th>\n",
       "      <td>14</td>\n",
       "    </tr>\n",
       "    <tr>\n",
       "      <th>Jan</th>\n",
       "      <th>EWR</th>\n",
       "      <td>11</td>\n",
       "    </tr>\n",
       "    <tr>\n",
       "      <th>Apr</th>\n",
       "      <th>EWR</th>\n",
       "      <td>10</td>\n",
       "    </tr>\n",
       "  </tbody>\n",
       "</table>\n",
       "</div>"
      ],
      "text/plain": [
       "                            pickups\n",
       "pickup_month borough               \n",
       "Jun          Manhattan      1995388\n",
       "May          Manhattan      1888800\n",
       "Feb          Manhattan      1718571\n",
       "Mar          Manhattan      1661261\n",
       "Apr          Manhattan      1648278\n",
       "Jan          Manhattan      1455543\n",
       "Jun          Brooklyn        482466\n",
       "May          Brooklyn        476087\n",
       "Apr          Brooklyn        378095\n",
       "Mar          Brooklyn        346726\n",
       "Feb          Brooklyn        328650\n",
       "Jan          Brooklyn        309011\n",
       "Jun          Queens          286311\n",
       "May          Queens          275893\n",
       "Mar          Queens          219561\n",
       "Apr          Queens          216857\n",
       "Feb          Queens          185695\n",
       "Jan          Queens          159211\n",
       "May          Bronx            53037\n",
       "Jun          Bronx            49006\n",
       "Apr          Bronx            34617\n",
       "Mar          Bronx            32232\n",
       "Feb          Bronx            28694\n",
       "Jan          Bronx            22461\n",
       "Jun          Staten Island     1673\n",
       "May          Staten Island     1517\n",
       "Apr          Staten Island     1068\n",
       "Mar          Staten Island      975\n",
       "Feb          Staten Island      903\n",
       "Jan          Staten Island      821\n",
       "Jun          EWR                 29\n",
       "May          EWR                 27\n",
       "Mar          EWR                 14\n",
       "Feb          EWR                 14\n",
       "Jan          EWR                 11\n",
       "Apr          EWR                 10"
      ]
     },
     "execution_count": 57,
     "metadata": {},
     "output_type": "execute_result"
    }
   ],
   "source": [
    "pickups_by_mon_bor"
   ]
  },
  {
   "cell_type": "markdown",
   "id": "1c7566e7",
   "metadata": {},
   "source": [
    "Напишем функцию, которая принимает на вход значение температуры воздуха в Фаренгейтах и переводит его в шкалу Целься"
   ]
  },
  {
   "cell_type": "code",
   "execution_count": 80,
   "id": "b6d4ce24",
   "metadata": {},
   "outputs": [],
   "source": [
    "def temp_to_celcius(temp):\n",
    "    temp_C = (taxi.temp - 32) / 1.8\n",
    "    return temp_C"
   ]
  },
  {
   "cell_type": "code",
   "execution_count": 81,
   "id": "ece8ef8e",
   "metadata": {},
   "outputs": [
    {
     "data": {
      "text/plain": [
       "0    30.0\n",
       "1    30.0\n",
       "2    30.0\n",
       "3    30.0\n",
       "4    30.0\n",
       "Name: temp, dtype: float64"
      ]
     },
     "execution_count": 81,
     "metadata": {},
     "output_type": "execute_result"
    }
   ],
   "source": [
    "taxi['temp'][:5]"
   ]
  },
  {
   "cell_type": "code",
   "execution_count": 82,
   "id": "dbb18a0f",
   "metadata": {
    "scrolled": true
   },
   "outputs": [
    {
     "name": "stdout",
     "output_type": "stream",
     "text": [
      "0        -1.111111\n",
      "1        -1.111111\n",
      "2        -1.111111\n",
      "3        -1.111111\n",
      "4        -1.111111\n",
      "           ...    \n",
      "29096    23.888889\n",
      "29097    23.888889\n",
      "29098    23.888889\n",
      "29099    23.888889\n",
      "29100    23.888889\n",
      "Name: temp, Length: 29101, dtype: float64\n"
     ]
    }
   ],
   "source": [
    "print(temp_to_celcius(30))"
   ]
  },
  {
   "cell_type": "code",
   "execution_count": 83,
   "id": "cd471a62",
   "metadata": {},
   "outputs": [],
   "source": [
    "taxi['temp_C'] = temp_to_celcius(taxi['temp'])"
   ]
  },
  {
   "cell_type": "code",
   "execution_count": 84,
   "id": "e56f7d57",
   "metadata": {
    "scrolled": true
   },
   "outputs": [
    {
     "data": {
      "text/plain": [
       "0   -1.111111\n",
       "1   -1.111111\n",
       "2   -1.111111\n",
       "3   -1.111111\n",
       "4   -1.111111\n",
       "Name: temp_C, dtype: float64"
      ]
     },
     "execution_count": 84,
     "metadata": {},
     "output_type": "execute_result"
    }
   ],
   "source": [
    "taxi['temp_C'][:5]"
   ]
  },
  {
   "cell_type": "code",
   "execution_count": null,
   "id": "a3658701",
   "metadata": {},
   "outputs": [],
   "source": []
  }
 ],
 "metadata": {
  "kernelspec": {
   "display_name": "Python 3 (ipykernel)",
   "language": "python",
   "name": "python3"
  },
  "language_info": {
   "codemirror_mode": {
    "name": "ipython",
    "version": 3
   },
   "file_extension": ".py",
   "mimetype": "text/x-python",
   "name": "python",
   "nbconvert_exporter": "python",
   "pygments_lexer": "ipython3",
   "version": "3.9.13"
  }
 },
 "nbformat": 4,
 "nbformat_minor": 5
}
