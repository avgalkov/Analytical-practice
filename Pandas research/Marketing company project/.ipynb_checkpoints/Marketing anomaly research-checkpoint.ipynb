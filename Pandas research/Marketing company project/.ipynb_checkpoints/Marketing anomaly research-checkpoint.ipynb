{
 "cells": [
  {
   "cell_type": "markdown",
   "id": "7c00e9dd",
   "metadata": {},
   "source": [
    "#### Перед вами данные взаимодействий с рекламными объявлениями на некоторой площадке за 6 дней. И таблица с характеристиками рекламных клиентов (тех, кто разместил эти объявления).\n",
    "\n",
    "Задачи:\n",
    "\n",
    "- Разберемся с распределением количества показов и кликов. Посчитайте среднее количество показов и среднее количество кликов на объявления за весь период (округлите до целых).\n",
    "\n",
    "- Нарисуйте график распределения показов на объявление за весь период.\n",
    "\n",
    "- Давайте посчитаем скользящее среднее показов с окном 2. Какое значение скользящего среднего получим за 6 апреля 2019 года (ответ округлите до целых)?\n",
    "\n",
    "- Скользящее среднее часто используется для поиска аномалий в данных. Давайте попробуем нанести на один график значения арифметического среднего по дням и скользящего среднего количества показов. В какой день наблюдается наибольшая разница по модулю между арифметическим средним и скользящим средним? Дни, в которых скользящее среднее равно NaN, не учитываем.\n",
    "\n",
    "- Напишите функцию, которая найдет проблемное объявление (с наибольшим/наименьшим количеством показов) в день, в который была замечена самая большая по модулю аномалия.\n",
    "\n",
    "- Теперь подгрузим данные по рекламным клиентам и найдем среднее количество дней от даты создания рекламного клиента и первым запуском рекламного объявления этим клиентом.\n",
    "\n",
    "- Вычислите конверсию из создания рекламного клиента в запуск первой рекламы в течение не более 365 дней. Ответ дайте в процентах и округлите до сотых. (Фильтровать нужно по значению в формате pd.Timedelta(365, unit='d'))\n",
    "\n",
    "- Давайте разобъем наших клиентов по промежуткам от создания до запуска рекламного объявления, равным 30. Определите, сколько уникальных клиентов запустили свое первое объявление в первый месяц своего существования (от 0 до 30 дней). Список промежутков для метода pd.cut – [0, 30, 90, 180, 365]\n",
    "\n",
    "- А теперь – выведем на интерактивный график эти категории с количеством уникальных клиентов в них.\n",
    "\n",
    "Описание данных\n",
    "\n",
    "ads_data.csv – данные взаимодействий с рекламными объявлениями\n",
    "\n",
    "- date – дата\n",
    "- time – время\n",
    "- event – действие (просмотр/клик)\n",
    "- platform – платформа\n",
    "- ad_id – id объявления\n",
    "- client_union_id – id рекламного кабинета\n",
    "- campaign_union_id – id рекламной кампании\n",
    "- ad_cost_type – тип оплаты\n",
    "- ad_cost – цена\n",
    "- has_video – есть ли видео\n",
    "- target_audience_count – размер аудитории\n",
    "\n",
    "ads_clients_data.csv – характеристики рекламных клиентов\n",
    "\n",
    "- date – дата\n",
    "- client_union_id – id рекламного кабинета\n",
    "- community_id – id сообщества\n",
    "- create_date – дата создания рекламного клиента"
   ]
  },
  {
   "cell_type": "code",
   "execution_count": 2,
   "id": "ae1862ee",
   "metadata": {},
   "outputs": [],
   "source": [
    "import pandas as pd\n",
    "import numpy as np\n",
    "%matplotlib inline\n",
    "import matplotlib.pyplot as plt\n",
    "import seaborn as sns\n",
    "import plotly.express as px\n"
   ]
  },
  {
   "cell_type": "code",
   "execution_count": 3,
   "id": "161390ab",
   "metadata": {},
   "outputs": [],
   "source": [
    "sns.set( font_scale = 2,\n",
    "       style = 'whitegrid',\n",
    "       rc = {'figure.figsize':(20,7)})"
   ]
  },
  {
   "cell_type": "code",
   "execution_count": 4,
   "id": "4bab443c",
   "metadata": {},
   "outputs": [],
   "source": [
    "ads = pd.read_csv('C:/Users/79295/Desktop/GITHUB/Analytical-practice/datasets/ads_data.zip')\n",
    "ads_client = pd.read_csv('C:/Users/79295/Desktop/GITHUB/Analytical-practice/datasets/ads_clients_data.zip')"
   ]
  },
  {
   "cell_type": "code",
   "execution_count": 5,
   "id": "fcf07e24",
   "metadata": {},
   "outputs": [
    {
     "data": {
      "text/html": [
       "<div>\n",
       "<style scoped>\n",
       "    .dataframe tbody tr th:only-of-type {\n",
       "        vertical-align: middle;\n",
       "    }\n",
       "\n",
       "    .dataframe tbody tr th {\n",
       "        vertical-align: top;\n",
       "    }\n",
       "\n",
       "    .dataframe thead th {\n",
       "        text-align: right;\n",
       "    }\n",
       "</style>\n",
       "<table border=\"1\" class=\"dataframe\">\n",
       "  <thead>\n",
       "    <tr style=\"text-align: right;\">\n",
       "      <th></th>\n",
       "      <th>date</th>\n",
       "      <th>time</th>\n",
       "      <th>event</th>\n",
       "      <th>platform</th>\n",
       "      <th>ad_id</th>\n",
       "      <th>client_union_id</th>\n",
       "      <th>campaign_union_id</th>\n",
       "      <th>ad_cost_type</th>\n",
       "      <th>ad_cost</th>\n",
       "      <th>has_video</th>\n",
       "      <th>target_audience_count</th>\n",
       "    </tr>\n",
       "  </thead>\n",
       "  <tbody>\n",
       "    <tr>\n",
       "      <th>0</th>\n",
       "      <td>2019-04-01</td>\n",
       "      <td>2019-04-01 00:00:48</td>\n",
       "      <td>view</td>\n",
       "      <td>android</td>\n",
       "      <td>45061</td>\n",
       "      <td>34734</td>\n",
       "      <td>45061</td>\n",
       "      <td>CPM</td>\n",
       "      <td>200.6</td>\n",
       "      <td>0</td>\n",
       "      <td>1955269</td>\n",
       "    </tr>\n",
       "    <tr>\n",
       "      <th>1</th>\n",
       "      <td>2019-04-01</td>\n",
       "      <td>2019-04-01 00:00:48</td>\n",
       "      <td>view</td>\n",
       "      <td>web</td>\n",
       "      <td>121288</td>\n",
       "      <td>121288</td>\n",
       "      <td>121288</td>\n",
       "      <td>CPM</td>\n",
       "      <td>187.4</td>\n",
       "      <td>0</td>\n",
       "      <td>232011</td>\n",
       "    </tr>\n",
       "    <tr>\n",
       "      <th>2</th>\n",
       "      <td>2019-04-01</td>\n",
       "      <td>2019-04-01 00:01:03</td>\n",
       "      <td>view</td>\n",
       "      <td>android</td>\n",
       "      <td>102737</td>\n",
       "      <td>102535</td>\n",
       "      <td>102564</td>\n",
       "      <td>CPC</td>\n",
       "      <td>60.7</td>\n",
       "      <td>0</td>\n",
       "      <td>4410</td>\n",
       "    </tr>\n",
       "    <tr>\n",
       "      <th>3</th>\n",
       "      <td>2019-04-01</td>\n",
       "      <td>2019-04-01 00:01:03</td>\n",
       "      <td>view</td>\n",
       "      <td>android</td>\n",
       "      <td>107564</td>\n",
       "      <td>106914</td>\n",
       "      <td>107564</td>\n",
       "      <td>CPM</td>\n",
       "      <td>217.3</td>\n",
       "      <td>0</td>\n",
       "      <td>62711</td>\n",
       "    </tr>\n",
       "    <tr>\n",
       "      <th>4</th>\n",
       "      <td>2019-04-01</td>\n",
       "      <td>2019-04-01 00:01:09</td>\n",
       "      <td>view</td>\n",
       "      <td>android</td>\n",
       "      <td>4922</td>\n",
       "      <td>37</td>\n",
       "      <td>4400</td>\n",
       "      <td>CPC</td>\n",
       "      <td>60.1</td>\n",
       "      <td>0</td>\n",
       "      <td>1183501</td>\n",
       "    </tr>\n",
       "  </tbody>\n",
       "</table>\n",
       "</div>"
      ],
      "text/plain": [
       "         date                 time event platform   ad_id  client_union_id  \\\n",
       "0  2019-04-01  2019-04-01 00:00:48  view  android   45061            34734   \n",
       "1  2019-04-01  2019-04-01 00:00:48  view      web  121288           121288   \n",
       "2  2019-04-01  2019-04-01 00:01:03  view  android  102737           102535   \n",
       "3  2019-04-01  2019-04-01 00:01:03  view  android  107564           106914   \n",
       "4  2019-04-01  2019-04-01 00:01:09  view  android    4922               37   \n",
       "\n",
       "   campaign_union_id ad_cost_type  ad_cost  has_video  target_audience_count  \n",
       "0              45061          CPM    200.6          0                1955269  \n",
       "1             121288          CPM    187.4          0                 232011  \n",
       "2             102564          CPC     60.7          0                   4410  \n",
       "3             107564          CPM    217.3          0                  62711  \n",
       "4               4400          CPC     60.1          0                1183501  "
      ]
     },
     "execution_count": 5,
     "metadata": {},
     "output_type": "execute_result"
    }
   ],
   "source": [
    "ads.head()"
   ]
  },
  {
   "cell_type": "code",
   "execution_count": 6,
   "id": "4167069c",
   "metadata": {},
   "outputs": [
    {
     "data": {
      "text/html": [
       "<div>\n",
       "<style scoped>\n",
       "    .dataframe tbody tr th:only-of-type {\n",
       "        vertical-align: middle;\n",
       "    }\n",
       "\n",
       "    .dataframe tbody tr th {\n",
       "        vertical-align: top;\n",
       "    }\n",
       "\n",
       "    .dataframe thead th {\n",
       "        text-align: right;\n",
       "    }\n",
       "</style>\n",
       "<table border=\"1\" class=\"dataframe\">\n",
       "  <thead>\n",
       "    <tr style=\"text-align: right;\">\n",
       "      <th></th>\n",
       "      <th>date</th>\n",
       "      <th>client_union_id</th>\n",
       "      <th>community_id</th>\n",
       "      <th>create_date</th>\n",
       "    </tr>\n",
       "  </thead>\n",
       "  <tbody>\n",
       "    <tr>\n",
       "      <th>0</th>\n",
       "      <td>2020-05-07</td>\n",
       "      <td>1</td>\n",
       "      <td>-130371893</td>\n",
       "      <td>2018-12-24</td>\n",
       "    </tr>\n",
       "    <tr>\n",
       "      <th>1</th>\n",
       "      <td>2020-05-07</td>\n",
       "      <td>2</td>\n",
       "      <td>-130304626</td>\n",
       "      <td>2019-02-10</td>\n",
       "    </tr>\n",
       "    <tr>\n",
       "      <th>2</th>\n",
       "      <td>2020-05-07</td>\n",
       "      <td>3</td>\n",
       "      <td>-130462599</td>\n",
       "      <td>2019-01-25</td>\n",
       "    </tr>\n",
       "    <tr>\n",
       "      <th>3</th>\n",
       "      <td>2020-05-07</td>\n",
       "      <td>4</td>\n",
       "      <td>-130574300</td>\n",
       "      <td>2018-12-09</td>\n",
       "    </tr>\n",
       "    <tr>\n",
       "      <th>4</th>\n",
       "      <td>2020-05-07</td>\n",
       "      <td>5</td>\n",
       "      <td>-130292358</td>\n",
       "      <td>2019-01-08</td>\n",
       "    </tr>\n",
       "  </tbody>\n",
       "</table>\n",
       "</div>"
      ],
      "text/plain": [
       "         date  client_union_id  community_id create_date\n",
       "0  2020-05-07                1    -130371893  2018-12-24\n",
       "1  2020-05-07                2    -130304626  2019-02-10\n",
       "2  2020-05-07                3    -130462599  2019-01-25\n",
       "3  2020-05-07                4    -130574300  2018-12-09\n",
       "4  2020-05-07                5    -130292358  2019-01-08"
      ]
     },
     "execution_count": 6,
     "metadata": {},
     "output_type": "execute_result"
    }
   ],
   "source": [
    "ads_client.head()"
   ]
  },
  {
   "cell_type": "code",
   "execution_count": 7,
   "id": "b189d24f",
   "metadata": {},
   "outputs": [],
   "source": [
    "ads.date = pd.to_datetime(ads.date)\n",
    "ads.time = pd.to_datetime(ads.time)\n",
    "ads_client.date = pd.to_datetime(ads_client.date)\n",
    "ads_client.create_date = pd.to_datetime(ads_client.create_date)"
   ]
  },
  {
   "cell_type": "code",
   "execution_count": 8,
   "id": "9cfb4290",
   "metadata": {},
   "outputs": [
    {
     "data": {
      "text/plain": [
       "date                     datetime64[ns]\n",
       "time                     datetime64[ns]\n",
       "event                            object\n",
       "platform                         object\n",
       "ad_id                             int64\n",
       "client_union_id                   int64\n",
       "campaign_union_id                 int64\n",
       "ad_cost_type                     object\n",
       "ad_cost                         float64\n",
       "has_video                         int64\n",
       "target_audience_count             int64\n",
       "dtype: object"
      ]
     },
     "execution_count": 8,
     "metadata": {},
     "output_type": "execute_result"
    }
   ],
   "source": [
    "ads.dtypes"
   ]
  },
  {
   "cell_type": "code",
   "execution_count": 9,
   "id": "e456043d",
   "metadata": {},
   "outputs": [
    {
     "data": {
      "text/plain": [
       "date               datetime64[ns]\n",
       "client_union_id             int64\n",
       "community_id                int64\n",
       "create_date        datetime64[ns]\n",
       "dtype: object"
      ]
     },
     "execution_count": 9,
     "metadata": {},
     "output_type": "execute_result"
    }
   ],
   "source": [
    "ads_client.dtypes"
   ]
  },
  {
   "cell_type": "code",
   "execution_count": 10,
   "id": "d45ba7ab",
   "metadata": {},
   "outputs": [],
   "source": [
    "# Разберемся с распределением количества показов и кликов. Посчитайте среднее количество показов и \n",
    "# среднее количество кликов на объявления за весь период (округлите до целых)."
   ]
  },
  {
   "cell_type": "code",
   "execution_count": 11,
   "id": "057196a8",
   "metadata": {},
   "outputs": [
    {
     "data": {
      "text/plain": [
       "view     890822\n",
       "click    109178\n",
       "Name: event, dtype: int64"
      ]
     },
     "execution_count": 11,
     "metadata": {},
     "output_type": "execute_result"
    }
   ],
   "source": [
    "ads.event.value_counts()"
   ]
  },
  {
   "cell_type": "code",
   "execution_count": 12,
   "id": "d2cac9d0",
   "metadata": {},
   "outputs": [
    {
     "data": {
      "text/html": [
       "<div>\n",
       "<style scoped>\n",
       "    .dataframe tbody tr th:only-of-type {\n",
       "        vertical-align: middle;\n",
       "    }\n",
       "\n",
       "    .dataframe tbody tr th {\n",
       "        vertical-align: top;\n",
       "    }\n",
       "\n",
       "    .dataframe thead th {\n",
       "        text-align: right;\n",
       "    }\n",
       "</style>\n",
       "<table border=\"1\" class=\"dataframe\">\n",
       "  <thead>\n",
       "    <tr style=\"text-align: right;\">\n",
       "      <th>event</th>\n",
       "      <th>ad_id</th>\n",
       "      <th>click</th>\n",
       "      <th>view</th>\n",
       "    </tr>\n",
       "  </thead>\n",
       "  <tbody>\n",
       "    <tr>\n",
       "      <th>0</th>\n",
       "      <td>2</td>\n",
       "      <td>1.0</td>\n",
       "      <td>101.0</td>\n",
       "    </tr>\n",
       "    <tr>\n",
       "      <th>1</th>\n",
       "      <td>3</td>\n",
       "      <td>3.0</td>\n",
       "      <td>184.0</td>\n",
       "    </tr>\n",
       "    <tr>\n",
       "      <th>2</th>\n",
       "      <td>1902</td>\n",
       "      <td>1.0</td>\n",
       "      <td>41.0</td>\n",
       "    </tr>\n",
       "    <tr>\n",
       "      <th>3</th>\n",
       "      <td>2064</td>\n",
       "      <td>0.0</td>\n",
       "      <td>35.0</td>\n",
       "    </tr>\n",
       "    <tr>\n",
       "      <th>4</th>\n",
       "      <td>2132</td>\n",
       "      <td>1.0</td>\n",
       "      <td>58.0</td>\n",
       "    </tr>\n",
       "    <tr>\n",
       "      <th>...</th>\n",
       "      <td>...</td>\n",
       "      <td>...</td>\n",
       "      <td>...</td>\n",
       "    </tr>\n",
       "    <tr>\n",
       "      <th>960</th>\n",
       "      <td>122004</td>\n",
       "      <td>4.0</td>\n",
       "      <td>100.0</td>\n",
       "    </tr>\n",
       "    <tr>\n",
       "      <th>961</th>\n",
       "      <td>122013</td>\n",
       "      <td>0.0</td>\n",
       "      <td>156.0</td>\n",
       "    </tr>\n",
       "    <tr>\n",
       "      <th>962</th>\n",
       "      <td>122023</td>\n",
       "      <td>0.0</td>\n",
       "      <td>68.0</td>\n",
       "    </tr>\n",
       "    <tr>\n",
       "      <th>963</th>\n",
       "      <td>122031</td>\n",
       "      <td>1.0</td>\n",
       "      <td>138.0</td>\n",
       "    </tr>\n",
       "    <tr>\n",
       "      <th>964</th>\n",
       "      <td>122078</td>\n",
       "      <td>0.0</td>\n",
       "      <td>42.0</td>\n",
       "    </tr>\n",
       "  </tbody>\n",
       "</table>\n",
       "<p>965 rows × 3 columns</p>\n",
       "</div>"
      ],
      "text/plain": [
       "event   ad_id  click   view\n",
       "0           2    1.0  101.0\n",
       "1           3    3.0  184.0\n",
       "2        1902    1.0   41.0\n",
       "3        2064    0.0   35.0\n",
       "4        2132    1.0   58.0\n",
       "..        ...    ...    ...\n",
       "960    122004    4.0  100.0\n",
       "961    122013    0.0  156.0\n",
       "962    122023    0.0   68.0\n",
       "963    122031    1.0  138.0\n",
       "964    122078    0.0   42.0\n",
       "\n",
       "[965 rows x 3 columns]"
      ]
     },
     "execution_count": 12,
     "metadata": {},
     "output_type": "execute_result"
    }
   ],
   "source": [
    "actions_per_ad = ads.groupby(['ad_id','event']) \\\n",
    "    .agg({\"platform\":\"count\"}) \\\n",
    "    .reset_index() \\\n",
    "    .rename(columns={\"platform\":\"total_actions\"}) \\\n",
    "    .pivot(index = 'ad_id', values = 'total_actions', columns = 'event') \\\n",
    "    .round() \\\n",
    "    .fillna(0).reset_index()\n",
    "actions_per_ad"
   ]
  },
  {
   "cell_type": "code",
   "execution_count": 13,
   "id": "24940db9",
   "metadata": {},
   "outputs": [
    {
     "data": {
      "text/plain": [
       "113.1378238341969"
      ]
     },
     "execution_count": 13,
     "metadata": {},
     "output_type": "execute_result"
    }
   ],
   "source": [
    "actions_per_ad.click.mean()\n"
   ]
  },
  {
   "cell_type": "code",
   "execution_count": 14,
   "id": "0cd81b79",
   "metadata": {},
   "outputs": [
    {
     "data": {
      "text/plain": [
       "923.1316062176165"
      ]
     },
     "execution_count": 14,
     "metadata": {},
     "output_type": "execute_result"
    }
   ],
   "source": [
    "actions_per_ad.view.mean()"
   ]
  },
  {
   "cell_type": "code",
   "execution_count": 15,
   "id": "0c5d4483",
   "metadata": {},
   "outputs": [],
   "source": [
    "# Нарисуйте график распределения показов на объявление за весь период"
   ]
  },
  {
   "cell_type": "code",
   "execution_count": 16,
   "id": "cc980243",
   "metadata": {},
   "outputs": [
    {
     "data": {
      "text/plain": [
       "112583    12.770824\n",
       "107729    12.125925\n",
       "107837    10.858922\n",
       "28142     10.092122\n",
       "45008      9.886748\n",
       "            ...    \n",
       "110591     2.564949\n",
       "45969      2.564949\n",
       "112872     2.397895\n",
       "42507      2.397895\n",
       "98274      2.302585\n",
       "Name: ad_id, Length: 956, dtype: float64"
      ]
     },
     "execution_count": 16,
     "metadata": {},
     "output_type": "execute_result"
    }
   ],
   "source": [
    "log_views = np.log(ads[ads.event ==\"view\"].ad_id.value_counts())\n",
    "log_views"
   ]
  },
  {
   "cell_type": "code",
   "execution_count": 17,
   "id": "389a31f0",
   "metadata": {},
   "outputs": [
    {
     "data": {
      "text/plain": [
       "<AxesSubplot:xlabel='ad_id', ylabel='Count'>"
      ]
     },
     "execution_count": 17,
     "metadata": {},
     "output_type": "execute_result"
    },
    {
     "data": {
      "image/png": "[encoded data removed]",
      "text/plain": [
       "<Figure size 2000x700 with 1 Axes>"
      ]
     },
     "metadata": {},
     "output_type": "display_data"
    }
   ],
   "source": [
    "sns.histplot(data = log_views, kde=True)"
   ]
  },
  {
   "cell_type": "code",
   "execution_count": 18,
   "id": "203b5682",
   "metadata": {},
   "outputs": [],
   "source": [
    "# Теперь нужно найти среднее количество показов на 1 объявление (ad_id) по дням, не учитывая объявления, \n",
    "# у которых не было показов (обычное среднее). \n",
    "# После этого посчитайте скользящее среднее по полученному результату с окном в 2 элемента.\n",
    "\n",
    "#Вопрос: Какое значение скользящего среднего получим за 6 апреля 2019 года? Округлите ответ до целого числа.\n",
    "\n",
    "# Могут пригодиться: pivot(), скользящее среднее"
   ]
  },
  {
   "cell_type": "code",
   "execution_count": 19,
   "id": "466677a4",
   "metadata": {},
   "outputs": [
    {
     "data": {
      "text/html": [
       "<div>\n",
       "<style scoped>\n",
       "    .dataframe tbody tr th:only-of-type {\n",
       "        vertical-align: middle;\n",
       "    }\n",
       "\n",
       "    .dataframe tbody tr th {\n",
       "        vertical-align: top;\n",
       "    }\n",
       "\n",
       "    .dataframe thead th {\n",
       "        text-align: right;\n",
       "    }\n",
       "</style>\n",
       "<table border=\"1\" class=\"dataframe\">\n",
       "  <thead>\n",
       "    <tr style=\"text-align: right;\">\n",
       "      <th>date</th>\n",
       "      <th>2019-04-01</th>\n",
       "      <th>2019-04-02</th>\n",
       "      <th>2019-04-03</th>\n",
       "      <th>2019-04-04</th>\n",
       "      <th>2019-04-05</th>\n",
       "      <th>2019-04-06</th>\n",
       "    </tr>\n",
       "    <tr>\n",
       "      <th>ad_id</th>\n",
       "      <th></th>\n",
       "      <th></th>\n",
       "      <th></th>\n",
       "      <th></th>\n",
       "      <th></th>\n",
       "      <th></th>\n",
       "    </tr>\n",
       "  </thead>\n",
       "  <tbody>\n",
       "    <tr>\n",
       "      <th>2</th>\n",
       "      <td>83.0</td>\n",
       "      <td>18.0</td>\n",
       "      <td>NaN</td>\n",
       "      <td>NaN</td>\n",
       "      <td>NaN</td>\n",
       "      <td>NaN</td>\n",
       "    </tr>\n",
       "    <tr>\n",
       "      <th>3</th>\n",
       "      <td>158.0</td>\n",
       "      <td>26.0</td>\n",
       "      <td>NaN</td>\n",
       "      <td>NaN</td>\n",
       "      <td>NaN</td>\n",
       "      <td>NaN</td>\n",
       "    </tr>\n",
       "    <tr>\n",
       "      <th>1902</th>\n",
       "      <td>NaN</td>\n",
       "      <td>NaN</td>\n",
       "      <td>34.0</td>\n",
       "      <td>7.0</td>\n",
       "      <td>NaN</td>\n",
       "      <td>NaN</td>\n",
       "    </tr>\n",
       "    <tr>\n",
       "      <th>2064</th>\n",
       "      <td>NaN</td>\n",
       "      <td>28.0</td>\n",
       "      <td>7.0</td>\n",
       "      <td>NaN</td>\n",
       "      <td>NaN</td>\n",
       "      <td>NaN</td>\n",
       "    </tr>\n",
       "    <tr>\n",
       "      <th>2132</th>\n",
       "      <td>NaN</td>\n",
       "      <td>NaN</td>\n",
       "      <td>25.0</td>\n",
       "      <td>27.0</td>\n",
       "      <td>6.0</td>\n",
       "      <td>NaN</td>\n",
       "    </tr>\n",
       "    <tr>\n",
       "      <th>...</th>\n",
       "      <td>...</td>\n",
       "      <td>...</td>\n",
       "      <td>...</td>\n",
       "      <td>...</td>\n",
       "      <td>...</td>\n",
       "      <td>...</td>\n",
       "    </tr>\n",
       "    <tr>\n",
       "      <th>122004</th>\n",
       "      <td>85.0</td>\n",
       "      <td>15.0</td>\n",
       "      <td>NaN</td>\n",
       "      <td>NaN</td>\n",
       "      <td>NaN</td>\n",
       "      <td>NaN</td>\n",
       "    </tr>\n",
       "    <tr>\n",
       "      <th>122013</th>\n",
       "      <td>NaN</td>\n",
       "      <td>NaN</td>\n",
       "      <td>NaN</td>\n",
       "      <td>134.0</td>\n",
       "      <td>22.0</td>\n",
       "      <td>NaN</td>\n",
       "    </tr>\n",
       "    <tr>\n",
       "      <th>122023</th>\n",
       "      <td>NaN</td>\n",
       "      <td>NaN</td>\n",
       "      <td>NaN</td>\n",
       "      <td>53.0</td>\n",
       "      <td>15.0</td>\n",
       "      <td>NaN</td>\n",
       "    </tr>\n",
       "    <tr>\n",
       "      <th>122031</th>\n",
       "      <td>NaN</td>\n",
       "      <td>NaN</td>\n",
       "      <td>NaN</td>\n",
       "      <td>NaN</td>\n",
       "      <td>119.0</td>\n",
       "      <td>19.0</td>\n",
       "    </tr>\n",
       "    <tr>\n",
       "      <th>122078</th>\n",
       "      <td>NaN</td>\n",
       "      <td>NaN</td>\n",
       "      <td>36.0</td>\n",
       "      <td>6.0</td>\n",
       "      <td>NaN</td>\n",
       "      <td>NaN</td>\n",
       "    </tr>\n",
       "  </tbody>\n",
       "</table>\n",
       "<p>956 rows × 6 columns</p>\n",
       "</div>"
      ],
      "text/plain": [
       "date    2019-04-01  2019-04-02  2019-04-03  2019-04-04  2019-04-05  2019-04-06\n",
       "ad_id                                                                         \n",
       "2             83.0        18.0         NaN         NaN         NaN         NaN\n",
       "3            158.0        26.0         NaN         NaN         NaN         NaN\n",
       "1902           NaN         NaN        34.0         7.0         NaN         NaN\n",
       "2064           NaN        28.0         7.0         NaN         NaN         NaN\n",
       "2132           NaN         NaN        25.0        27.0         6.0         NaN\n",
       "...            ...         ...         ...         ...         ...         ...\n",
       "122004        85.0        15.0         NaN         NaN         NaN         NaN\n",
       "122013         NaN         NaN         NaN       134.0        22.0         NaN\n",
       "122023         NaN         NaN         NaN        53.0        15.0         NaN\n",
       "122031         NaN         NaN         NaN         NaN       119.0        19.0\n",
       "122078         NaN         NaN        36.0         6.0         NaN         NaN\n",
       "\n",
       "[956 rows x 6 columns]"
      ]
     },
     "execution_count": 19,
     "metadata": {},
     "output_type": "execute_result"
    }
   ],
   "source": [
    "views_per_day = ads[ads.event == 'view'].groupby(['date','ad_id'],as_index=False) \\\n",
    "    .agg({\"event\":\"count\"}) \\\n",
    "    .pivot(index='ad_id', columns = 'date', values = 'event')\n",
    "views_per_day"
   ]
  },
  {
   "cell_type": "code",
   "execution_count": 20,
   "id": "9912ab10",
   "metadata": {},
   "outputs": [
    {
     "data": {
      "text/plain": [
       "date\n",
       "2019-04-01    154.482270\n",
       "2019-04-02    137.786982\n",
       "2019-04-03    163.952778\n",
       "2019-04-04    675.901720\n",
       "2019-04-05    919.109677\n",
       "2019-04-06    277.122727\n",
       "dtype: float64"
      ]
     },
     "execution_count": 20,
     "metadata": {},
     "output_type": "execute_result"
    }
   ],
   "source": [
    "mean_views = views_per_day.mean()\n",
    "mean_views"
   ]
  },
  {
   "cell_type": "code",
   "execution_count": 64,
   "id": "06258a87",
   "metadata": {},
   "outputs": [
    {
     "data": {
      "text/plain": [
       "date\n",
       "2019-04-02    146.134626\n",
       "2019-04-03    150.869880\n",
       "2019-04-04    419.927249\n",
       "2019-04-05    797.505699\n",
       "2019-04-06    598.116202\n",
       "dtype: float64"
      ]
     },
     "execution_count": 64,
     "metadata": {},
     "output_type": "execute_result"
    }
   ],
   "source": [
    "rolling_views = mean_views.rolling(2).mean()\n",
    "rolling_views = rolling_views.dropna()\n",
    "rolling_views"
   ]
  },
  {
   "cell_type": "code",
   "execution_count": 27,
   "id": "1fb541e8",
   "metadata": {},
   "outputs": [
    {
     "data": {
      "text/plain": [
       "598.0"
      ]
     },
     "execution_count": 27,
     "metadata": {},
     "output_type": "execute_result"
    }
   ],
   "source": [
    "rolling_views[\"2019-04-06\"].round()"
   ]
  },
  {
   "cell_type": "code",
   "execution_count": 67,
   "id": "99f0e0d6",
   "metadata": {},
   "outputs": [],
   "source": [
    "# Скользящее среднее часто используется для поиска аномалий в данных. \n",
    "# Давайте попробуем нанести на один график значения просто среднего количества показов по дням \n",
    "# и скользящего среднего на основе этих данных (которое мы получили в прошлом задании).\n",
    "\n",
    "# Посчитайте, в какой день наблюдается наибольшая разница по модулю между арифметическим средним и скользящим средним?\n",
    "# Дни, в которых скользящее среднее равно NaN, не учитываем. Запишите ответ в формате yyyy-MM-dd\n",
    "\n",
    "#Могут пригодиться:sns.lineplot(), скользящее среднее, значение по модулю"
   ]
  },
  {
   "cell_type": "code",
   "execution_count": 66,
   "id": "21c3429f",
   "metadata": {},
   "outputs": [
    {
     "data": {
      "text/plain": [
       "<AxesSubplot:xlabel='date'>"
      ]
     },
     "execution_count": 66,
     "metadata": {},
     "output_type": "execute_result"
    },
    {
     "data": {
      "image/png": "[encoded data removed]",
      "text/plain": [
       "<Figure size 2000x700 with 1 Axes>"
      ]
     },
     "metadata": {},
     "output_type": "display_data"
    }
   ],
   "source": [
    "fix,ax = plt.subplots()\n",
    "sns.lineplot(data=mean_views, ax=ax, label = \"rolling\")\n",
    "sns.lineplot(data=rolling_views, ax=ax, label = \"usual\")\n"
   ]
  },
  {
   "cell_type": "code",
   "execution_count": null,
   "id": "63eab872",
   "metadata": {},
   "outputs": [],
   "source": [
    "# Наибольшая разница 2019-04-06"
   ]
  },
  {
   "cell_type": "code",
   "execution_count": 68,
   "id": "78e9ab4f",
   "metadata": {},
   "outputs": [],
   "source": [
    "# Объедините данные рекламы с данными о рекламных клиентах и найдите среднее количество дней от \n",
    "# даты создания рекламного клиента (create_date) и первым запуском рекламного объявления этим клиентом (date).\n",
    "\n",
    "# В качестве ответа укажите среднее число дней."
   ]
  },
  {
   "cell_type": "code",
   "execution_count": 70,
   "id": "6121e7a3",
   "metadata": {},
   "outputs": [
    {
     "data": {
      "text/html": [
       "<div>\n",
       "<style scoped>\n",
       "    .dataframe tbody tr th:only-of-type {\n",
       "        vertical-align: middle;\n",
       "    }\n",
       "\n",
       "    .dataframe tbody tr th {\n",
       "        vertical-align: top;\n",
       "    }\n",
       "\n",
       "    .dataframe thead th {\n",
       "        text-align: right;\n",
       "    }\n",
       "</style>\n",
       "<table border=\"1\" class=\"dataframe\">\n",
       "  <thead>\n",
       "    <tr style=\"text-align: right;\">\n",
       "      <th></th>\n",
       "      <th>date_x</th>\n",
       "      <th>time</th>\n",
       "      <th>event</th>\n",
       "      <th>platform</th>\n",
       "      <th>ad_id</th>\n",
       "      <th>client_union_id</th>\n",
       "      <th>campaign_union_id</th>\n",
       "      <th>ad_cost_type</th>\n",
       "      <th>ad_cost</th>\n",
       "      <th>has_video</th>\n",
       "      <th>target_audience_count</th>\n",
       "      <th>date_y</th>\n",
       "      <th>community_id</th>\n",
       "      <th>create_date</th>\n",
       "    </tr>\n",
       "  </thead>\n",
       "  <tbody>\n",
       "    <tr>\n",
       "      <th>0</th>\n",
       "      <td>2019-04-01</td>\n",
       "      <td>2019-04-01 00:00:48</td>\n",
       "      <td>view</td>\n",
       "      <td>android</td>\n",
       "      <td>45061</td>\n",
       "      <td>34734</td>\n",
       "      <td>45061</td>\n",
       "      <td>CPM</td>\n",
       "      <td>200.6</td>\n",
       "      <td>0</td>\n",
       "      <td>1955269</td>\n",
       "      <td>2020-05-07</td>\n",
       "      <td>-130129582</td>\n",
       "      <td>2018-12-04</td>\n",
       "    </tr>\n",
       "    <tr>\n",
       "      <th>1</th>\n",
       "      <td>2019-04-01</td>\n",
       "      <td>2019-04-01 00:03:28</td>\n",
       "      <td>view</td>\n",
       "      <td>android</td>\n",
       "      <td>45061</td>\n",
       "      <td>34734</td>\n",
       "      <td>45061</td>\n",
       "      <td>CPM</td>\n",
       "      <td>200.6</td>\n",
       "      <td>0</td>\n",
       "      <td>1955269</td>\n",
       "      <td>2020-05-07</td>\n",
       "      <td>-130129582</td>\n",
       "      <td>2018-12-04</td>\n",
       "    </tr>\n",
       "    <tr>\n",
       "      <th>2</th>\n",
       "      <td>2019-04-01</td>\n",
       "      <td>2019-04-01 00:04:58</td>\n",
       "      <td>view</td>\n",
       "      <td>ios</td>\n",
       "      <td>45061</td>\n",
       "      <td>34734</td>\n",
       "      <td>45061</td>\n",
       "      <td>CPM</td>\n",
       "      <td>200.6</td>\n",
       "      <td>0</td>\n",
       "      <td>1955269</td>\n",
       "      <td>2020-05-07</td>\n",
       "      <td>-130129582</td>\n",
       "      <td>2018-12-04</td>\n",
       "    </tr>\n",
       "    <tr>\n",
       "      <th>3</th>\n",
       "      <td>2019-04-01</td>\n",
       "      <td>2019-04-01 00:10:23</td>\n",
       "      <td>view</td>\n",
       "      <td>ios</td>\n",
       "      <td>45061</td>\n",
       "      <td>34734</td>\n",
       "      <td>45061</td>\n",
       "      <td>CPM</td>\n",
       "      <td>200.6</td>\n",
       "      <td>0</td>\n",
       "      <td>1955269</td>\n",
       "      <td>2020-05-07</td>\n",
       "      <td>-130129582</td>\n",
       "      <td>2018-12-04</td>\n",
       "    </tr>\n",
       "    <tr>\n",
       "      <th>4</th>\n",
       "      <td>2019-04-01</td>\n",
       "      <td>2019-04-01 00:15:42</td>\n",
       "      <td>view</td>\n",
       "      <td>android</td>\n",
       "      <td>45061</td>\n",
       "      <td>34734</td>\n",
       "      <td>45061</td>\n",
       "      <td>CPM</td>\n",
       "      <td>200.6</td>\n",
       "      <td>0</td>\n",
       "      <td>1955269</td>\n",
       "      <td>2020-05-07</td>\n",
       "      <td>-130129582</td>\n",
       "      <td>2018-12-04</td>\n",
       "    </tr>\n",
       "  </tbody>\n",
       "</table>\n",
       "</div>"
      ],
      "text/plain": [
       "      date_x                time event platform  ad_id  client_union_id  \\\n",
       "0 2019-04-01 2019-04-01 00:00:48  view  android  45061            34734   \n",
       "1 2019-04-01 2019-04-01 00:03:28  view  android  45061            34734   \n",
       "2 2019-04-01 2019-04-01 00:04:58  view      ios  45061            34734   \n",
       "3 2019-04-01 2019-04-01 00:10:23  view      ios  45061            34734   \n",
       "4 2019-04-01 2019-04-01 00:15:42  view  android  45061            34734   \n",
       "\n",
       "   campaign_union_id ad_cost_type  ad_cost  has_video  target_audience_count  \\\n",
       "0              45061          CPM    200.6          0                1955269   \n",
       "1              45061          CPM    200.6          0                1955269   \n",
       "2              45061          CPM    200.6          0                1955269   \n",
       "3              45061          CPM    200.6          0                1955269   \n",
       "4              45061          CPM    200.6          0                1955269   \n",
       "\n",
       "      date_y  community_id create_date  \n",
       "0 2020-05-07    -130129582  2018-12-04  \n",
       "1 2020-05-07    -130129582  2018-12-04  \n",
       "2 2020-05-07    -130129582  2018-12-04  \n",
       "3 2020-05-07    -130129582  2018-12-04  \n",
       "4 2020-05-07    -130129582  2018-12-04  "
      ]
     },
     "execution_count": 70,
     "metadata": {},
     "output_type": "execute_result"
    }
   ],
   "source": [
    "df = ads.merge(ads_client, on = 'client_union_id')\n",
    "df.head()"
   ]
  },
  {
   "cell_type": "code",
   "execution_count": 136,
   "id": "e1707e47",
   "metadata": {},
   "outputs": [
    {
     "data": {
      "text/html": [
       "<div>\n",
       "<style scoped>\n",
       "    .dataframe tbody tr th:only-of-type {\n",
       "        vertical-align: middle;\n",
       "    }\n",
       "\n",
       "    .dataframe tbody tr th {\n",
       "        vertical-align: top;\n",
       "    }\n",
       "\n",
       "    .dataframe thead th {\n",
       "        text-align: right;\n",
       "    }\n",
       "</style>\n",
       "<table border=\"1\" class=\"dataframe\">\n",
       "  <thead>\n",
       "    <tr style=\"text-align: right;\">\n",
       "      <th></th>\n",
       "      <th>client_union_id</th>\n",
       "      <th>date_x</th>\n",
       "      <th>create_date</th>\n",
       "    </tr>\n",
       "  </thead>\n",
       "  <tbody>\n",
       "    <tr>\n",
       "      <th>0</th>\n",
       "      <td>1</td>\n",
       "      <td>2019-04-01</td>\n",
       "      <td>2018-12-24</td>\n",
       "    </tr>\n",
       "    <tr>\n",
       "      <th>1</th>\n",
       "      <td>9</td>\n",
       "      <td>2019-04-03</td>\n",
       "      <td>2018-12-10</td>\n",
       "    </tr>\n",
       "    <tr>\n",
       "      <th>2</th>\n",
       "      <td>13</td>\n",
       "      <td>2019-04-02</td>\n",
       "      <td>2019-01-26</td>\n",
       "    </tr>\n",
       "    <tr>\n",
       "      <th>3</th>\n",
       "      <td>16</td>\n",
       "      <td>2019-04-03</td>\n",
       "      <td>2018-12-19</td>\n",
       "    </tr>\n",
       "    <tr>\n",
       "      <th>4</th>\n",
       "      <td>20</td>\n",
       "      <td>2019-04-02</td>\n",
       "      <td>2019-03-01</td>\n",
       "    </tr>\n",
       "  </tbody>\n",
       "</table>\n",
       "</div>"
      ],
      "text/plain": [
       "   client_union_id     date_x create_date\n",
       "0                1 2019-04-01  2018-12-24\n",
       "1                9 2019-04-03  2018-12-10\n",
       "2               13 2019-04-02  2019-01-26\n",
       "3               16 2019-04-03  2018-12-19\n",
       "4               20 2019-04-02  2019-03-01"
      ]
     },
     "execution_count": 136,
     "metadata": {},
     "output_type": "execute_result"
    }
   ],
   "source": [
    "day_dif_df = df.groupby('client_union_id',as_index=False).agg({\"date_x\":\"min\" , \"create_date\":\"min\"})\n",
    "day_dif_df.head()"
   ]
  },
  {
   "cell_type": "code",
   "execution_count": 137,
   "id": "8fcc9576",
   "metadata": {},
   "outputs": [],
   "source": [
    "day_dif_df['difference'] = day_dif_df.date_x - day_dif_df.create_date"
   ]
  },
  {
   "cell_type": "code",
   "execution_count": 138,
   "id": "ea8d05aa",
   "metadata": {},
   "outputs": [
    {
     "data": {
      "text/html": [
       "<div>\n",
       "<style scoped>\n",
       "    .dataframe tbody tr th:only-of-type {\n",
       "        vertical-align: middle;\n",
       "    }\n",
       "\n",
       "    .dataframe tbody tr th {\n",
       "        vertical-align: top;\n",
       "    }\n",
       "\n",
       "    .dataframe thead th {\n",
       "        text-align: right;\n",
       "    }\n",
       "</style>\n",
       "<table border=\"1\" class=\"dataframe\">\n",
       "  <thead>\n",
       "    <tr style=\"text-align: right;\">\n",
       "      <th></th>\n",
       "      <th>client_union_id</th>\n",
       "      <th>date_x</th>\n",
       "      <th>create_date</th>\n",
       "      <th>difference</th>\n",
       "    </tr>\n",
       "  </thead>\n",
       "  <tbody>\n",
       "    <tr>\n",
       "      <th>0</th>\n",
       "      <td>1</td>\n",
       "      <td>2019-04-01</td>\n",
       "      <td>2018-12-24</td>\n",
       "      <td>98 days</td>\n",
       "    </tr>\n",
       "    <tr>\n",
       "      <th>1</th>\n",
       "      <td>9</td>\n",
       "      <td>2019-04-03</td>\n",
       "      <td>2018-12-10</td>\n",
       "      <td>114 days</td>\n",
       "    </tr>\n",
       "    <tr>\n",
       "      <th>2</th>\n",
       "      <td>13</td>\n",
       "      <td>2019-04-02</td>\n",
       "      <td>2019-01-26</td>\n",
       "      <td>66 days</td>\n",
       "    </tr>\n",
       "    <tr>\n",
       "      <th>3</th>\n",
       "      <td>16</td>\n",
       "      <td>2019-04-03</td>\n",
       "      <td>2018-12-19</td>\n",
       "      <td>105 days</td>\n",
       "    </tr>\n",
       "    <tr>\n",
       "      <th>4</th>\n",
       "      <td>20</td>\n",
       "      <td>2019-04-02</td>\n",
       "      <td>2019-03-01</td>\n",
       "      <td>32 days</td>\n",
       "    </tr>\n",
       "  </tbody>\n",
       "</table>\n",
       "</div>"
      ],
      "text/plain": [
       "   client_union_id     date_x create_date difference\n",
       "0                1 2019-04-01  2018-12-24    98 days\n",
       "1                9 2019-04-03  2018-12-10   114 days\n",
       "2               13 2019-04-02  2019-01-26    66 days\n",
       "3               16 2019-04-03  2018-12-19   105 days\n",
       "4               20 2019-04-02  2019-03-01    32 days"
      ]
     },
     "execution_count": 138,
     "metadata": {},
     "output_type": "execute_result"
    }
   ],
   "source": [
    "day_dif_df.head()"
   ]
  },
  {
   "cell_type": "code",
   "execution_count": 139,
   "id": "1e9c0eef",
   "metadata": {},
   "outputs": [
    {
     "data": {
      "text/plain": [
       "Timedelta('124 days 09:04:43.532219570')"
      ]
     },
     "execution_count": 139,
     "metadata": {},
     "output_type": "execute_result"
    }
   ],
   "source": [
    "day_dif_df.difference.mean()"
   ]
  },
  {
   "cell_type": "code",
   "execution_count": 140,
   "id": "5e0a5891",
   "metadata": {},
   "outputs": [],
   "source": [
    "# 124 дня"
   ]
  },
  {
   "cell_type": "code",
   "execution_count": 141,
   "id": "ee73a697",
   "metadata": {},
   "outputs": [],
   "source": [
    "# Dавайте вычислим конверсию из создания рекламного кабинета в запуск первой рекламы в течение не более 365 дней.\n",
    "\n",
    "# Конверсия – отношение числа клиентов, которые совершили целевое действие (создали рекламу), к общему числу клиентов. \n",
    "# Например, 1000 клиентов создали кабинет, но лишь 50 из них запустили рекламу. В таком случае конверсия будет равна\n",
    "\n",
    "# (50/1000)∗100=5%\n",
    "\n",
    "# Чтобы отобрать данные за нужный промежуток, можно воспользоваться сравнением времени до создания первой рекламы\n",
    "# с pd.Timedelta(365, unit='day'))\n"
   ]
  },
  {
   "cell_type": "code",
   "execution_count": 96,
   "id": "7fe2f865",
   "metadata": {},
   "outputs": [
    {
     "data": {
      "text/html": [
       "<div>\n",
       "<style scoped>\n",
       "    .dataframe tbody tr th:only-of-type {\n",
       "        vertical-align: middle;\n",
       "    }\n",
       "\n",
       "    .dataframe tbody tr th {\n",
       "        vertical-align: top;\n",
       "    }\n",
       "\n",
       "    .dataframe thead th {\n",
       "        text-align: right;\n",
       "    }\n",
       "</style>\n",
       "<table border=\"1\" class=\"dataframe\">\n",
       "  <thead>\n",
       "    <tr style=\"text-align: right;\">\n",
       "      <th></th>\n",
       "      <th>client_union_id</th>\n",
       "      <th>date_x</th>\n",
       "      <th>create_date</th>\n",
       "      <th>difference</th>\n",
       "    </tr>\n",
       "  </thead>\n",
       "  <tbody>\n",
       "    <tr>\n",
       "      <th>0</th>\n",
       "      <td>1</td>\n",
       "      <td>2019-04-01</td>\n",
       "      <td>2018-12-24</td>\n",
       "      <td>98 days</td>\n",
       "    </tr>\n",
       "    <tr>\n",
       "      <th>1</th>\n",
       "      <td>9</td>\n",
       "      <td>2019-04-03</td>\n",
       "      <td>2018-12-10</td>\n",
       "      <td>114 days</td>\n",
       "    </tr>\n",
       "    <tr>\n",
       "      <th>2</th>\n",
       "      <td>13</td>\n",
       "      <td>2019-04-02</td>\n",
       "      <td>2019-01-26</td>\n",
       "      <td>66 days</td>\n",
       "    </tr>\n",
       "    <tr>\n",
       "      <th>3</th>\n",
       "      <td>16</td>\n",
       "      <td>2019-04-03</td>\n",
       "      <td>2018-12-19</td>\n",
       "      <td>105 days</td>\n",
       "    </tr>\n",
       "    <tr>\n",
       "      <th>4</th>\n",
       "      <td>20</td>\n",
       "      <td>2019-04-02</td>\n",
       "      <td>2019-03-01</td>\n",
       "      <td>32 days</td>\n",
       "    </tr>\n",
       "    <tr>\n",
       "      <th>...</th>\n",
       "      <td>...</td>\n",
       "      <td>...</td>\n",
       "      <td>...</td>\n",
       "      <td>...</td>\n",
       "    </tr>\n",
       "    <tr>\n",
       "      <th>833</th>\n",
       "      <td>122004</td>\n",
       "      <td>2019-04-01</td>\n",
       "      <td>2019-01-24</td>\n",
       "      <td>67 days</td>\n",
       "    </tr>\n",
       "    <tr>\n",
       "      <th>834</th>\n",
       "      <td>122013</td>\n",
       "      <td>2019-04-04</td>\n",
       "      <td>2018-11-04</td>\n",
       "      <td>151 days</td>\n",
       "    </tr>\n",
       "    <tr>\n",
       "      <th>835</th>\n",
       "      <td>122023</td>\n",
       "      <td>2019-04-04</td>\n",
       "      <td>2018-11-29</td>\n",
       "      <td>126 days</td>\n",
       "    </tr>\n",
       "    <tr>\n",
       "      <th>836</th>\n",
       "      <td>122031</td>\n",
       "      <td>2019-04-05</td>\n",
       "      <td>2018-12-30</td>\n",
       "      <td>96 days</td>\n",
       "    </tr>\n",
       "    <tr>\n",
       "      <th>837</th>\n",
       "      <td>122078</td>\n",
       "      <td>2019-04-03</td>\n",
       "      <td>2019-01-22</td>\n",
       "      <td>71 days</td>\n",
       "    </tr>\n",
       "  </tbody>\n",
       "</table>\n",
       "<p>838 rows × 4 columns</p>\n",
       "</div>"
      ],
      "text/plain": [
       "     client_union_id     date_x create_date difference\n",
       "0                  1 2019-04-01  2018-12-24    98 days\n",
       "1                  9 2019-04-03  2018-12-10   114 days\n",
       "2                 13 2019-04-02  2019-01-26    66 days\n",
       "3                 16 2019-04-03  2018-12-19   105 days\n",
       "4                 20 2019-04-02  2019-03-01    32 days\n",
       "..               ...        ...         ...        ...\n",
       "833           122004 2019-04-01  2019-01-24    67 days\n",
       "834           122013 2019-04-04  2018-11-04   151 days\n",
       "835           122023 2019-04-04  2018-11-29   126 days\n",
       "836           122031 2019-04-05  2018-12-30    96 days\n",
       "837           122078 2019-04-03  2019-01-22    71 days\n",
       "\n",
       "[838 rows x 4 columns]"
      ]
     },
     "execution_count": 96,
     "metadata": {},
     "output_type": "execute_result"
    }
   ],
   "source": [
    "day_dif_df[day_dif_df.difference < pd.Timedelta(365, unit='day')]"
   ]
  },
  {
   "cell_type": "code",
   "execution_count": 142,
   "id": "08dc1b09",
   "metadata": {},
   "outputs": [
    {
     "data": {
      "text/plain": [
       "838"
      ]
     },
     "execution_count": 142,
     "metadata": {},
     "output_type": "execute_result"
    }
   ],
   "source": [
    "first_365 = day_dif_df[day_dif_df.difference < pd.Timedelta(365, unit='day')]['client_union_id'].count()\n",
    "first_365"
   ]
  },
  {
   "cell_type": "code",
   "execution_count": 143,
   "id": "6bd14278",
   "metadata": {},
   "outputs": [
    {
     "data": {
      "text/plain": [
       "122078"
      ]
     },
     "execution_count": 143,
     "metadata": {},
     "output_type": "execute_result"
    }
   ],
   "source": [
    "total_clients = ads_client.client_union_id.nunique()\n",
    "total_clients"
   ]
  },
  {
   "cell_type": "code",
   "execution_count": 144,
   "id": "3ea1dbc5",
   "metadata": {},
   "outputs": [
    {
     "data": {
      "text/plain": [
       "0.69"
      ]
     },
     "execution_count": 144,
     "metadata": {},
     "output_type": "execute_result"
    }
   ],
   "source": [
    "CR = (first_365 / total_clients * 100).round(2)\n",
    "CR"
   ]
  },
  {
   "cell_type": "code",
   "execution_count": 106,
   "id": "431753b6",
   "metadata": {},
   "outputs": [],
   "source": [
    "# Давайте разобъем наших клиентов по промежуткам от создания рекламного кабинета до запуска первого рекламного объявления.\n",
    "\n",
    "# Определите, сколько уникальных клиентов запустили свое первое объявление в первый месяц своего существования (от 0 до 30 дней). \n",
    "# Список промежутков дней для метода pd.cut() – [0, 30, 90, 180, 365]. \n",
    "# Создать временные промежутки можно с помощью pd.to_timedelta().\n",
    "\n",
    "# Могут пригодиться: pd.cut() , value_counts()"
   ]
  },
  {
   "cell_type": "code",
   "execution_count": 145,
   "id": "c207d939",
   "metadata": {},
   "outputs": [
    {
     "data": {
      "text/plain": [
       "client_union_id    11\n",
       "date_x             11\n",
       "create_date        11\n",
       "difference         11\n",
       "dtype: int64"
      ]
     },
     "execution_count": 145,
     "metadata": {},
     "output_type": "execute_result"
    }
   ],
   "source": [
    "day_dif_df[day_dif_df.difference <= pd.Timedelta(30, unit='day')].count()"
   ]
  },
  {
   "cell_type": "code",
   "execution_count": 109,
   "id": "20a523a6",
   "metadata": {},
   "outputs": [],
   "source": [
    "# В первый месяц существования запустили рекламу - 11 клентов"
   ]
  },
  {
   "cell_type": "code",
   "execution_count": 147,
   "id": "250351df",
   "metadata": {},
   "outputs": [
    {
     "data": {
      "text/html": [
       "<div>\n",
       "<style scoped>\n",
       "    .dataframe tbody tr th:only-of-type {\n",
       "        vertical-align: middle;\n",
       "    }\n",
       "\n",
       "    .dataframe tbody tr th {\n",
       "        vertical-align: top;\n",
       "    }\n",
       "\n",
       "    .dataframe thead th {\n",
       "        text-align: right;\n",
       "    }\n",
       "</style>\n",
       "<table border=\"1\" class=\"dataframe\">\n",
       "  <thead>\n",
       "    <tr style=\"text-align: right;\">\n",
       "      <th></th>\n",
       "      <th>client_union_id</th>\n",
       "      <th>date_x</th>\n",
       "      <th>create_date</th>\n",
       "      <th>difference</th>\n",
       "    </tr>\n",
       "  </thead>\n",
       "  <tbody>\n",
       "    <tr>\n",
       "      <th>0</th>\n",
       "      <td>1</td>\n",
       "      <td>2019-04-01</td>\n",
       "      <td>2018-12-24</td>\n",
       "      <td>98</td>\n",
       "    </tr>\n",
       "    <tr>\n",
       "      <th>1</th>\n",
       "      <td>9</td>\n",
       "      <td>2019-04-03</td>\n",
       "      <td>2018-12-10</td>\n",
       "      <td>114</td>\n",
       "    </tr>\n",
       "    <tr>\n",
       "      <th>2</th>\n",
       "      <td>13</td>\n",
       "      <td>2019-04-02</td>\n",
       "      <td>2019-01-26</td>\n",
       "      <td>66</td>\n",
       "    </tr>\n",
       "    <tr>\n",
       "      <th>3</th>\n",
       "      <td>16</td>\n",
       "      <td>2019-04-03</td>\n",
       "      <td>2018-12-19</td>\n",
       "      <td>105</td>\n",
       "    </tr>\n",
       "    <tr>\n",
       "      <th>4</th>\n",
       "      <td>20</td>\n",
       "      <td>2019-04-02</td>\n",
       "      <td>2019-03-01</td>\n",
       "      <td>32</td>\n",
       "    </tr>\n",
       "    <tr>\n",
       "      <th>...</th>\n",
       "      <td>...</td>\n",
       "      <td>...</td>\n",
       "      <td>...</td>\n",
       "      <td>...</td>\n",
       "    </tr>\n",
       "    <tr>\n",
       "      <th>833</th>\n",
       "      <td>122004</td>\n",
       "      <td>2019-04-01</td>\n",
       "      <td>2019-01-24</td>\n",
       "      <td>67</td>\n",
       "    </tr>\n",
       "    <tr>\n",
       "      <th>834</th>\n",
       "      <td>122013</td>\n",
       "      <td>2019-04-04</td>\n",
       "      <td>2018-11-04</td>\n",
       "      <td>151</td>\n",
       "    </tr>\n",
       "    <tr>\n",
       "      <th>835</th>\n",
       "      <td>122023</td>\n",
       "      <td>2019-04-04</td>\n",
       "      <td>2018-11-29</td>\n",
       "      <td>126</td>\n",
       "    </tr>\n",
       "    <tr>\n",
       "      <th>836</th>\n",
       "      <td>122031</td>\n",
       "      <td>2019-04-05</td>\n",
       "      <td>2018-12-30</td>\n",
       "      <td>96</td>\n",
       "    </tr>\n",
       "    <tr>\n",
       "      <th>837</th>\n",
       "      <td>122078</td>\n",
       "      <td>2019-04-03</td>\n",
       "      <td>2019-01-22</td>\n",
       "      <td>71</td>\n",
       "    </tr>\n",
       "  </tbody>\n",
       "</table>\n",
       "<p>838 rows × 4 columns</p>\n",
       "</div>"
      ],
      "text/plain": [
       "     client_union_id     date_x create_date  difference\n",
       "0                  1 2019-04-01  2018-12-24          98\n",
       "1                  9 2019-04-03  2018-12-10         114\n",
       "2                 13 2019-04-02  2019-01-26          66\n",
       "3                 16 2019-04-03  2018-12-19         105\n",
       "4                 20 2019-04-02  2019-03-01          32\n",
       "..               ...        ...         ...         ...\n",
       "833           122004 2019-04-01  2019-01-24          67\n",
       "834           122013 2019-04-04  2018-11-04         151\n",
       "835           122023 2019-04-04  2018-11-29         126\n",
       "836           122031 2019-04-05  2018-12-30          96\n",
       "837           122078 2019-04-03  2019-01-22          71\n",
       "\n",
       "[838 rows x 4 columns]"
      ]
     },
     "execution_count": 147,
     "metadata": {},
     "output_type": "execute_result"
    }
   ],
   "source": [
    "day_dif_df['difference'] = day_dif_df['difference'].dt.days\n",
    "day_dif_df"
   ]
  },
  {
   "cell_type": "code",
   "execution_count": 148,
   "id": "c6a813ca",
   "metadata": {},
   "outputs": [],
   "source": [
    "day_dif_df['range'] = pd.cut(day_dif_df.difference, [0, 30, 90, 180, 365])"
   ]
  },
  {
   "cell_type": "code",
   "execution_count": 149,
   "id": "3c751a69",
   "metadata": {},
   "outputs": [
    {
     "data": {
      "text/html": [
       "<div>\n",
       "<style scoped>\n",
       "    .dataframe tbody tr th:only-of-type {\n",
       "        vertical-align: middle;\n",
       "    }\n",
       "\n",
       "    .dataframe tbody tr th {\n",
       "        vertical-align: top;\n",
       "    }\n",
       "\n",
       "    .dataframe thead th {\n",
       "        text-align: right;\n",
       "    }\n",
       "</style>\n",
       "<table border=\"1\" class=\"dataframe\">\n",
       "  <thead>\n",
       "    <tr style=\"text-align: right;\">\n",
       "      <th></th>\n",
       "      <th>client_union_id</th>\n",
       "      <th>date_x</th>\n",
       "      <th>create_date</th>\n",
       "      <th>difference</th>\n",
       "      <th>range</th>\n",
       "    </tr>\n",
       "  </thead>\n",
       "  <tbody>\n",
       "    <tr>\n",
       "      <th>0</th>\n",
       "      <td>1</td>\n",
       "      <td>2019-04-01</td>\n",
       "      <td>2018-12-24</td>\n",
       "      <td>98</td>\n",
       "      <td>(90, 180]</td>\n",
       "    </tr>\n",
       "    <tr>\n",
       "      <th>1</th>\n",
       "      <td>9</td>\n",
       "      <td>2019-04-03</td>\n",
       "      <td>2018-12-10</td>\n",
       "      <td>114</td>\n",
       "      <td>(90, 180]</td>\n",
       "    </tr>\n",
       "    <tr>\n",
       "      <th>2</th>\n",
       "      <td>13</td>\n",
       "      <td>2019-04-02</td>\n",
       "      <td>2019-01-26</td>\n",
       "      <td>66</td>\n",
       "      <td>(30, 90]</td>\n",
       "    </tr>\n",
       "    <tr>\n",
       "      <th>3</th>\n",
       "      <td>16</td>\n",
       "      <td>2019-04-03</td>\n",
       "      <td>2018-12-19</td>\n",
       "      <td>105</td>\n",
       "      <td>(90, 180]</td>\n",
       "    </tr>\n",
       "    <tr>\n",
       "      <th>4</th>\n",
       "      <td>20</td>\n",
       "      <td>2019-04-02</td>\n",
       "      <td>2019-03-01</td>\n",
       "      <td>32</td>\n",
       "      <td>(30, 90]</td>\n",
       "    </tr>\n",
       "    <tr>\n",
       "      <th>...</th>\n",
       "      <td>...</td>\n",
       "      <td>...</td>\n",
       "      <td>...</td>\n",
       "      <td>...</td>\n",
       "      <td>...</td>\n",
       "    </tr>\n",
       "    <tr>\n",
       "      <th>833</th>\n",
       "      <td>122004</td>\n",
       "      <td>2019-04-01</td>\n",
       "      <td>2019-01-24</td>\n",
       "      <td>67</td>\n",
       "      <td>(30, 90]</td>\n",
       "    </tr>\n",
       "    <tr>\n",
       "      <th>834</th>\n",
       "      <td>122013</td>\n",
       "      <td>2019-04-04</td>\n",
       "      <td>2018-11-04</td>\n",
       "      <td>151</td>\n",
       "      <td>(90, 180]</td>\n",
       "    </tr>\n",
       "    <tr>\n",
       "      <th>835</th>\n",
       "      <td>122023</td>\n",
       "      <td>2019-04-04</td>\n",
       "      <td>2018-11-29</td>\n",
       "      <td>126</td>\n",
       "      <td>(90, 180]</td>\n",
       "    </tr>\n",
       "    <tr>\n",
       "      <th>836</th>\n",
       "      <td>122031</td>\n",
       "      <td>2019-04-05</td>\n",
       "      <td>2018-12-30</td>\n",
       "      <td>96</td>\n",
       "      <td>(90, 180]</td>\n",
       "    </tr>\n",
       "    <tr>\n",
       "      <th>837</th>\n",
       "      <td>122078</td>\n",
       "      <td>2019-04-03</td>\n",
       "      <td>2019-01-22</td>\n",
       "      <td>71</td>\n",
       "      <td>(30, 90]</td>\n",
       "    </tr>\n",
       "  </tbody>\n",
       "</table>\n",
       "<p>838 rows × 5 columns</p>\n",
       "</div>"
      ],
      "text/plain": [
       "     client_union_id     date_x create_date  difference      range\n",
       "0                  1 2019-04-01  2018-12-24          98  (90, 180]\n",
       "1                  9 2019-04-03  2018-12-10         114  (90, 180]\n",
       "2                 13 2019-04-02  2019-01-26          66   (30, 90]\n",
       "3                 16 2019-04-03  2018-12-19         105  (90, 180]\n",
       "4                 20 2019-04-02  2019-03-01          32   (30, 90]\n",
       "..               ...        ...         ...         ...        ...\n",
       "833           122004 2019-04-01  2019-01-24          67   (30, 90]\n",
       "834           122013 2019-04-04  2018-11-04         151  (90, 180]\n",
       "835           122023 2019-04-04  2018-11-29         126  (90, 180]\n",
       "836           122031 2019-04-05  2018-12-30          96  (90, 180]\n",
       "837           122078 2019-04-03  2019-01-22          71   (30, 90]\n",
       "\n",
       "[838 rows x 5 columns]"
      ]
     },
     "execution_count": 149,
     "metadata": {},
     "output_type": "execute_result"
    }
   ],
   "source": [
    "day_dif_df"
   ]
  },
  {
   "cell_type": "code",
   "execution_count": 153,
   "id": "9a2e085d",
   "metadata": {},
   "outputs": [
    {
     "data": {
      "text/html": [
       "<div>\n",
       "<style scoped>\n",
       "    .dataframe tbody tr th:only-of-type {\n",
       "        vertical-align: middle;\n",
       "    }\n",
       "\n",
       "    .dataframe tbody tr th {\n",
       "        vertical-align: top;\n",
       "    }\n",
       "\n",
       "    .dataframe thead th {\n",
       "        text-align: right;\n",
       "    }\n",
       "</style>\n",
       "<table border=\"1\" class=\"dataframe\">\n",
       "  <thead>\n",
       "    <tr style=\"text-align: right;\">\n",
       "      <th></th>\n",
       "      <th>range</th>\n",
       "      <th>client_union_id</th>\n",
       "    </tr>\n",
       "  </thead>\n",
       "  <tbody>\n",
       "    <tr>\n",
       "      <th>0</th>\n",
       "      <td>(0, 30]</td>\n",
       "      <td>11</td>\n",
       "    </tr>\n",
       "    <tr>\n",
       "      <th>1</th>\n",
       "      <td>(30, 90]</td>\n",
       "      <td>263</td>\n",
       "    </tr>\n",
       "    <tr>\n",
       "      <th>2</th>\n",
       "      <td>(90, 180]</td>\n",
       "      <td>396</td>\n",
       "    </tr>\n",
       "    <tr>\n",
       "      <th>3</th>\n",
       "      <td>(180, 365]</td>\n",
       "      <td>168</td>\n",
       "    </tr>\n",
       "  </tbody>\n",
       "</table>\n",
       "</div>"
      ],
      "text/plain": [
       "        range  client_union_id\n",
       "0     (0, 30]               11\n",
       "1    (30, 90]              263\n",
       "2   (90, 180]              396\n",
       "3  (180, 365]              168"
      ]
     },
     "execution_count": 153,
     "metadata": {},
     "output_type": "execute_result"
    }
   ],
   "source": [
    "range_by_period = day_dif_df.groupby('range',as_index=False).agg({\"client_union_id\":\"count\"})\n",
    "range_by_period"
   ]
  },
  {
   "cell_type": "code",
   "execution_count": 156,
   "id": "ec7538ad",
   "metadata": {},
   "outputs": [
    {
     "data": {
      "application/vnd.plotly.v1+json": {
       "config": {
        "plotlyServerURL": "https://plot.ly"
       },
       "data": [
        {
         "alignmentgroup": "True",
         "hovertemplate": "variable=client_union_id<br>index=%{x}<br>value=%{y}<extra></extra>",
         "legendgroup": "client_union_id",
         "marker": {
          "color": "#636efa",
          "pattern": {
           "shape": ""
          }
         },
         "name": "client_union_id",
         "offsetgroup": "client_union_id",
         "orientation": "v",
         "showlegend": true,
         "textposition": "auto",
         "type": "bar",
         "x": [
          0,
          1,
          2,
          3
         ],
         "xaxis": "x",
         "y": [
          11,
          263,
          396,
          168
         ],
         "yaxis": "y"
        }
       ],
       "layout": {
        "barmode": "relative",
        "legend": {
         "title": {
          "text": "variable"
         },
         "tracegroupgap": 0
        },
        "margin": {
         "t": 60
        },
        "template": {
         "data": {
          "bar": [
           {
            "error_x": {
             "color": "#2a3f5f"
            },
            "error_y": {
             "color": "#2a3f5f"
            },
            "marker": {
             "line": {
              "color": "#E5ECF6",
              "width": 0.5
             },
             "pattern": {
              "fillmode": "overlay",
              "size": 10,
              "solidity": 0.2
             }
            },
            "type": "bar"
           }
          ],
          "barpolar": [
           {
            "marker": {
             "line": {
              "color": "#E5ECF6",
              "width": 0.5
             },
             "pattern": {
              "fillmode": "overlay",
              "size": 10,
              "solidity": 0.2
             }
            },
            "type": "barpolar"
           }
          ],
          "carpet": [
           {
            "aaxis": {
             "endlinecolor": "#2a3f5f",
             "gridcolor": "white",
             "linecolor": "white",
             "minorgridcolor": "white",
             "startlinecolor": "#2a3f5f"
            },
            "baxis": {
             "endlinecolor": "#2a3f5f",
             "gridcolor": "white",
             "linecolor": "white",
             "minorgridcolor": "white",
             "startlinecolor": "#2a3f5f"
            },
            "type": "carpet"
           }
          ],
          "choropleth": [
           {
            "colorbar": {
             "outlinewidth": 0,
             "ticks": ""
            },
            "type": "choropleth"
           }
          ],
          "contour": [
           {
            "colorbar": {
             "outlinewidth": 0,
             "ticks": ""
            },
            "colorscale": [
             [
              0,
              "#0d0887"
             ],
             [
              0.1111111111111111,
              "#46039f"
             ],
             [
              0.2222222222222222,
              "#7201a8"
             ],
             [
              0.3333333333333333,
              "#9c179e"
             ],
             [
              0.4444444444444444,
              "#bd3786"
             ],
             [
              0.5555555555555556,
              "#d8576b"
             ],
             [
              0.6666666666666666,
              "#ed7953"
             ],
             [
              0.7777777777777778,
              "#fb9f3a"
             ],
             [
              0.8888888888888888,
              "#fdca26"
             ],
             [
              1,
              "#f0f921"
             ]
            ],
            "type": "contour"
           }
          ],
          "contourcarpet": [
           {
            "colorbar": {
             "outlinewidth": 0,
             "ticks": ""
            },
            "type": "contourcarpet"
           }
          ],
          "heatmap": [
           {
            "colorbar": {
             "outlinewidth": 0,
             "ticks": ""
            },
            "colorscale": [
             [
              0,
              "#0d0887"
             ],
             [
              0.1111111111111111,
              "#46039f"
             ],
             [
              0.2222222222222222,
              "#7201a8"
             ],
             [
              0.3333333333333333,
              "#9c179e"
             ],
             [
              0.4444444444444444,
              "#bd3786"
             ],
             [
              0.5555555555555556,
              "#d8576b"
             ],
             [
              0.6666666666666666,
              "#ed7953"
             ],
             [
              0.7777777777777778,
              "#fb9f3a"
             ],
             [
              0.8888888888888888,
              "#fdca26"
             ],
             [
              1,
              "#f0f921"
             ]
            ],
            "type": "heatmap"
           }
          ],
          "heatmapgl": [
           {
            "colorbar": {
             "outlinewidth": 0,
             "ticks": ""
            },
            "colorscale": [
             [
              0,
              "#0d0887"
             ],
             [
              0.1111111111111111,
              "#46039f"
             ],
             [
              0.2222222222222222,
              "#7201a8"
             ],
             [
              0.3333333333333333,
              "#9c179e"
             ],
             [
              0.4444444444444444,
              "#bd3786"
             ],
             [
              0.5555555555555556,
              "#d8576b"
             ],
             [
              0.6666666666666666,
              "#ed7953"
             ],
             [
              0.7777777777777778,
              "#fb9f3a"
             ],
             [
              0.8888888888888888,
              "#fdca26"
             ],
             [
              1,
              "#f0f921"
             ]
            ],
            "type": "heatmapgl"
           }
          ],
          "histogram": [
           {
            "marker": {
             "pattern": {
              "fillmode": "overlay",
              "size": 10,
              "solidity": 0.2
             }
            },
            "type": "histogram"
           }
          ],
          "histogram2d": [
           {
            "colorbar": {
             "outlinewidth": 0,
             "ticks": ""
            },
            "colorscale": [
             [
              0,
              "#0d0887"
             ],
             [
              0.1111111111111111,
              "#46039f"
             ],
             [
              0.2222222222222222,
              "#7201a8"
             ],
             [
              0.3333333333333333,
              "#9c179e"
             ],
             [
              0.4444444444444444,
              "#bd3786"
             ],
             [
              0.5555555555555556,
              "#d8576b"
             ],
             [
              0.6666666666666666,
              "#ed7953"
             ],
             [
              0.7777777777777778,
              "#fb9f3a"
             ],
             [
              0.8888888888888888,
              "#fdca26"
             ],
             [
              1,
              "#f0f921"
             ]
            ],
            "type": "histogram2d"
           }
          ],
          "histogram2dcontour": [
           {
            "colorbar": {
             "outlinewidth": 0,
             "ticks": ""
            },
            "colorscale": [
             [
              0,
              "#0d0887"
             ],
             [
              0.1111111111111111,
              "#46039f"
             ],
             [
              0.2222222222222222,
              "#7201a8"
             ],
             [
              0.3333333333333333,
              "#9c179e"
             ],
             [
              0.4444444444444444,
              "#bd3786"
             ],
             [
              0.5555555555555556,
              "#d8576b"
             ],
             [
              0.6666666666666666,
              "#ed7953"
             ],
             [
              0.7777777777777778,
              "#fb9f3a"
             ],
             [
              0.8888888888888888,
              "#fdca26"
             ],
             [
              1,
              "#f0f921"
             ]
            ],
            "type": "histogram2dcontour"
           }
          ],
          "mesh3d": [
           {
            "colorbar": {
             "outlinewidth": 0,
             "ticks": ""
            },
            "type": "mesh3d"
           }
          ],
          "parcoords": [
           {
            "line": {
             "colorbar": {
              "outlinewidth": 0,
              "ticks": ""
             }
            },
            "type": "parcoords"
           }
          ],
          "pie": [
           {
            "automargin": true,
            "type": "pie"
           }
          ],
          "scatter": [
           {
            "fillpattern": {
             "fillmode": "overlay",
             "size": 10,
             "solidity": 0.2
            },
            "type": "scatter"
           }
          ],
          "scatter3d": [
           {
            "line": {
             "colorbar": {
              "outlinewidth": 0,
              "ticks": ""
             }
            },
            "marker": {
             "colorbar": {
              "outlinewidth": 0,
              "ticks": ""
             }
            },
            "type": "scatter3d"
           }
          ],
          "scattercarpet": [
           {
            "marker": {
             "colorbar": {
              "outlinewidth": 0,
              "ticks": ""
             }
            },
            "type": "scattercarpet"
           }
          ],
          "scattergeo": [
           {
            "marker": {
             "colorbar": {
              "outlinewidth": 0,
              "ticks": ""
             }
            },
            "type": "scattergeo"
           }
          ],
          "scattergl": [
           {
            "marker": {
             "colorbar": {
              "outlinewidth": 0,
              "ticks": ""
             }
            },
            "type": "scattergl"
           }
          ],
          "scattermapbox": [
           {
            "marker": {
             "colorbar": {
              "outlinewidth": 0,
              "ticks": ""
             }
            },
            "type": "scattermapbox"
           }
          ],
          "scatterpolar": [
           {
            "marker": {
             "colorbar": {
              "outlinewidth": 0,
              "ticks": ""
             }
            },
            "type": "scatterpolar"
           }
          ],
          "scatterpolargl": [
           {
            "marker": {
             "colorbar": {
              "outlinewidth": 0,
              "ticks": ""
             }
            },
            "type": "scatterpolargl"
           }
          ],
          "scatterternary": [
           {
            "marker": {
             "colorbar": {
              "outlinewidth": 0,
              "ticks": ""
             }
            },
            "type": "scatterternary"
           }
          ],
          "surface": [
           {
            "colorbar": {
             "outlinewidth": 0,
             "ticks": ""
            },
            "colorscale": [
             [
              0,
              "#0d0887"
             ],
             [
              0.1111111111111111,
              "#46039f"
             ],
             [
              0.2222222222222222,
              "#7201a8"
             ],
             [
              0.3333333333333333,
              "#9c179e"
             ],
             [
              0.4444444444444444,
              "#bd3786"
             ],
             [
              0.5555555555555556,
              "#d8576b"
             ],
             [
              0.6666666666666666,
              "#ed7953"
             ],
             [
              0.7777777777777778,
              "#fb9f3a"
             ],
             [
              0.8888888888888888,
              "#fdca26"
             ],
             [
              1,
              "#f0f921"
             ]
            ],
            "type": "surface"
           }
          ],
          "table": [
           {
            "cells": {
             "fill": {
              "color": "#EBF0F8"
             },
             "line": {
              "color": "white"
             }
            },
            "header": {
             "fill": {
              "color": "#C8D4E3"
             },
             "line": {
              "color": "white"
             }
            },
            "type": "table"
           }
          ]
         },
         "layout": {
          "annotationdefaults": {
           "arrowcolor": "#2a3f5f",
           "arrowhead": 0,
           "arrowwidth": 1
          },
          "autotypenumbers": "strict",
          "coloraxis": {
           "colorbar": {
            "outlinewidth": 0,
            "ticks": ""
           }
          },
          "colorscale": {
           "diverging": [
            [
             0,
             "#8e0152"
            ],
            [
             0.1,
             "#c51b7d"
            ],
            [
             0.2,
             "#de77ae"
            ],
            [
             0.3,
             "#f1b6da"
            ],
            [
             0.4,
             "#fde0ef"
            ],
            [
             0.5,
             "#f7f7f7"
            ],
            [
             0.6,
             "#e6f5d0"
            ],
            [
             0.7,
             "#b8e186"
            ],
            [
             0.8,
             "#7fbc41"
            ],
            [
             0.9,
             "#4d9221"
            ],
            [
             1,
             "#276419"
            ]
           ],
           "sequential": [
            [
             0,
             "#0d0887"
            ],
            [
             0.1111111111111111,
             "#46039f"
            ],
            [
             0.2222222222222222,
             "#7201a8"
            ],
            [
             0.3333333333333333,
             "#9c179e"
            ],
            [
             0.4444444444444444,
             "#bd3786"
            ],
            [
             0.5555555555555556,
             "#d8576b"
            ],
            [
             0.6666666666666666,
             "#ed7953"
            ],
            [
             0.7777777777777778,
             "#fb9f3a"
            ],
            [
             0.8888888888888888,
             "#fdca26"
            ],
            [
             1,
             "#f0f921"
            ]
           ],
           "sequentialminus": [
            [
             0,
             "#0d0887"
            ],
            [
             0.1111111111111111,
             "#46039f"
            ],
            [
             0.2222222222222222,
             "#7201a8"
            ],
            [
             0.3333333333333333,
             "#9c179e"
            ],
            [
             0.4444444444444444,
             "#bd3786"
            ],
            [
             0.5555555555555556,
             "#d8576b"
            ],
            [
             0.6666666666666666,
             "#ed7953"
            ],
            [
             0.7777777777777778,
             "#fb9f3a"
            ],
            [
             0.8888888888888888,
             "#fdca26"
            ],
            [
             1,
             "#f0f921"
            ]
           ]
          },
          "colorway": [
           "#636efa",
           "#EF553B",
           "#00cc96",
           "#ab63fa",
           "#FFA15A",
           "#19d3f3",
           "#FF6692",
           "#B6E880",
           "#FF97FF",
           "#FECB52"
          ],
          "font": {
           "color": "#2a3f5f"
          },
          "geo": {
           "bgcolor": "white",
           "lakecolor": "white",
           "landcolor": "#E5ECF6",
           "showlakes": true,
           "showland": true,
           "subunitcolor": "white"
          },
          "hoverlabel": {
           "align": "left"
          },
          "hovermode": "closest",
          "mapbox": {
           "style": "light"
          },
          "paper_bgcolor": "white",
          "plot_bgcolor": "#E5ECF6",
          "polar": {
           "angularaxis": {
            "gridcolor": "white",
            "linecolor": "white",
            "ticks": ""
           },
           "bgcolor": "#E5ECF6",
           "radialaxis": {
            "gridcolor": "white",
            "linecolor": "white",
            "ticks": ""
           }
          },
          "scene": {
           "xaxis": {
            "backgroundcolor": "#E5ECF6",
            "gridcolor": "white",
            "gridwidth": 2,
            "linecolor": "white",
            "showbackground": true,
            "ticks": "",
            "zerolinecolor": "white"
           },
           "yaxis": {
            "backgroundcolor": "#E5ECF6",
            "gridcolor": "white",
            "gridwidth": 2,
            "linecolor": "white",
            "showbackground": true,
            "ticks": "",
            "zerolinecolor": "white"
           },
           "zaxis": {
            "backgroundcolor": "#E5ECF6",
            "gridcolor": "white",
            "gridwidth": 2,
            "linecolor": "white",
            "showbackground": true,
            "ticks": "",
            "zerolinecolor": "white"
           }
          },
          "shapedefaults": {
           "line": {
            "color": "#2a3f5f"
           }
          },
          "ternary": {
           "aaxis": {
            "gridcolor": "white",
            "linecolor": "white",
            "ticks": ""
           },
           "baxis": {
            "gridcolor": "white",
            "linecolor": "white",
            "ticks": ""
           },
           "bgcolor": "#E5ECF6",
           "caxis": {
            "gridcolor": "white",
            "linecolor": "white",
            "ticks": ""
           }
          },
          "title": {
           "x": 0.05
          },
          "xaxis": {
           "automargin": true,
           "gridcolor": "white",
           "linecolor": "white",
           "ticks": "",
           "title": {
            "standoff": 15
           },
           "zerolinecolor": "white",
           "zerolinewidth": 2
          },
          "yaxis": {
           "automargin": true,
           "gridcolor": "white",
           "linecolor": "white",
           "ticks": "",
           "title": {
            "standoff": 15
           },
           "zerolinecolor": "white",
           "zerolinewidth": 2
          }
         }
        },
        "xaxis": {
         "anchor": "y",
         "domain": [
          0,
          1
         ],
         "title": {
          "text": "index"
         }
        },
        "yaxis": {
         "anchor": "x",
         "domain": [
          0,
          1
         ],
         "title": {
          "text": "value"
         }
        }
       }
      },
      "text/html": [
       "<div>                            <div id=\"6cc3d050-c750-4aa0-8088-e8aa4050977d\" class=\"plotly-graph-div\" style=\"height:525px; width:100%;\"></div>            <script type=\"text/javascript\">                require([\"plotly\"], function(Plotly) {                    window.PLOTLYENV=window.PLOTLYENV || {};                                    if (document.getElementById(\"6cc3d050-c750-4aa0-8088-e8aa4050977d\")) {                    Plotly.newPlot(                        \"6cc3d050-c750-4aa0-8088-e8aa4050977d\",                        [{\"alignmentgroup\":\"True\",\"hovertemplate\":\"variable=client_union_id<br>index=%{x}<br>value=%{y}<extra></extra>\",\"legendgroup\":\"client_union_id\",\"marker\":{\"color\":\"#636efa\",\"pattern\":{\"shape\":\"\"}},\"name\":\"client_union_id\",\"offsetgroup\":\"client_union_id\",\"orientation\":\"v\",\"showlegend\":true,\"textposition\":\"auto\",\"x\":[0,1,2,3],\"xaxis\":\"x\",\"y\":[11,263,396,168],\"yaxis\":\"y\",\"type\":\"bar\"}],                        {\"template\":{\"data\":{\"histogram2dcontour\":[{\"type\":\"histogram2dcontour\",\"colorbar\":{\"outlinewidth\":0,\"ticks\":\"\"},\"colorscale\":[[0.0,\"#0d0887\"],[0.1111111111111111,\"#46039f\"],[0.2222222222222222,\"#7201a8\"],[0.3333333333333333,\"#9c179e\"],[0.4444444444444444,\"#bd3786\"],[0.5555555555555556,\"#d8576b\"],[0.6666666666666666,\"#ed7953\"],[0.7777777777777778,\"#fb9f3a\"],[0.8888888888888888,\"#fdca26\"],[1.0,\"#f0f921\"]]}],\"choropleth\":[{\"type\":\"choropleth\",\"colorbar\":{\"outlinewidth\":0,\"ticks\":\"\"}}],\"histogram2d\":[{\"type\":\"histogram2d\",\"colorbar\":{\"outlinewidth\":0,\"ticks\":\"\"},\"colorscale\":[[0.0,\"#0d0887\"],[0.1111111111111111,\"#46039f\"],[0.2222222222222222,\"#7201a8\"],[0.3333333333333333,\"#9c179e\"],[0.4444444444444444,\"#bd3786\"],[0.5555555555555556,\"#d8576b\"],[0.6666666666666666,\"#ed7953\"],[0.7777777777777778,\"#fb9f3a\"],[0.8888888888888888,\"#fdca26\"],[1.0,\"#f0f921\"]]}],\"heatmap\":[{\"type\":\"heatmap\",\"colorbar\":{\"outlinewidth\":0,\"ticks\":\"\"},\"colorscale\":[[0.0,\"#0d0887\"],[0.1111111111111111,\"#46039f\"],[0.2222222222222222,\"#7201a8\"],[0.3333333333333333,\"#9c179e\"],[0.4444444444444444,\"#bd3786\"],[0.5555555555555556,\"#d8576b\"],[0.6666666666666666,\"#ed7953\"],[0.7777777777777778,\"#fb9f3a\"],[0.8888888888888888,\"#fdca26\"],[1.0,\"#f0f921\"]]}],\"heatmapgl\":[{\"type\":\"heatmapgl\",\"colorbar\":{\"outlinewidth\":0,\"ticks\":\"\"},\"colorscale\":[[0.0,\"#0d0887\"],[0.1111111111111111,\"#46039f\"],[0.2222222222222222,\"#7201a8\"],[0.3333333333333333,\"#9c179e\"],[0.4444444444444444,\"#bd3786\"],[0.5555555555555556,\"#d8576b\"],[0.6666666666666666,\"#ed7953\"],[0.7777777777777778,\"#fb9f3a\"],[0.8888888888888888,\"#fdca26\"],[1.0,\"#f0f921\"]]}],\"contourcarpet\":[{\"type\":\"contourcarpet\",\"colorbar\":{\"outlinewidth\":0,\"ticks\":\"\"}}],\"contour\":[{\"type\":\"contour\",\"colorbar\":{\"outlinewidth\":0,\"ticks\":\"\"},\"colorscale\":[[0.0,\"#0d0887\"],[0.1111111111111111,\"#46039f\"],[0.2222222222222222,\"#7201a8\"],[0.3333333333333333,\"#9c179e\"],[0.4444444444444444,\"#bd3786\"],[0.5555555555555556,\"#d8576b\"],[0.6666666666666666,\"#ed7953\"],[0.7777777777777778,\"#fb9f3a\"],[0.8888888888888888,\"#fdca26\"],[1.0,\"#f0f921\"]]}],\"surface\":[{\"type\":\"surface\",\"colorbar\":{\"outlinewidth\":0,\"ticks\":\"\"},\"colorscale\":[[0.0,\"#0d0887\"],[0.1111111111111111,\"#46039f\"],[0.2222222222222222,\"#7201a8\"],[0.3333333333333333,\"#9c179e\"],[0.4444444444444444,\"#bd3786\"],[0.5555555555555556,\"#d8576b\"],[0.6666666666666666,\"#ed7953\"],[0.7777777777777778,\"#fb9f3a\"],[0.8888888888888888,\"#fdca26\"],[1.0,\"#f0f921\"]]}],\"mesh3d\":[{\"type\":\"mesh3d\",\"colorbar\":{\"outlinewidth\":0,\"ticks\":\"\"}}],\"scatter\":[{\"fillpattern\":{\"fillmode\":\"overlay\",\"size\":10,\"solidity\":0.2},\"type\":\"scatter\"}],\"parcoords\":[{\"type\":\"parcoords\",\"line\":{\"colorbar\":{\"outlinewidth\":0,\"ticks\":\"\"}}}],\"scatterpolargl\":[{\"type\":\"scatterpolargl\",\"marker\":{\"colorbar\":{\"outlinewidth\":0,\"ticks\":\"\"}}}],\"bar\":[{\"error_x\":{\"color\":\"#2a3f5f\"},\"error_y\":{\"color\":\"#2a3f5f\"},\"marker\":{\"line\":{\"color\":\"#E5ECF6\",\"width\":0.5},\"pattern\":{\"fillmode\":\"overlay\",\"size\":10,\"solidity\":0.2}},\"type\":\"bar\"}],\"scattergeo\":[{\"type\":\"scattergeo\",\"marker\":{\"colorbar\":{\"outlinewidth\":0,\"ticks\":\"\"}}}],\"scatterpolar\":[{\"type\":\"scatterpolar\",\"marker\":{\"colorbar\":{\"outlinewidth\":0,\"ticks\":\"\"}}}],\"histogram\":[{\"marker\":{\"pattern\":{\"fillmode\":\"overlay\",\"size\":10,\"solidity\":0.2}},\"type\":\"histogram\"}],\"scattergl\":[{\"type\":\"scattergl\",\"marker\":{\"colorbar\":{\"outlinewidth\":0,\"ticks\":\"\"}}}],\"scatter3d\":[{\"type\":\"scatter3d\",\"line\":{\"colorbar\":{\"outlinewidth\":0,\"ticks\":\"\"}},\"marker\":{\"colorbar\":{\"outlinewidth\":0,\"ticks\":\"\"}}}],\"scattermapbox\":[{\"type\":\"scattermapbox\",\"marker\":{\"colorbar\":{\"outlinewidth\":0,\"ticks\":\"\"}}}],\"scatterternary\":[{\"type\":\"scatterternary\",\"marker\":{\"colorbar\":{\"outlinewidth\":0,\"ticks\":\"\"}}}],\"scattercarpet\":[{\"type\":\"scattercarpet\",\"marker\":{\"colorbar\":{\"outlinewidth\":0,\"ticks\":\"\"}}}],\"carpet\":[{\"aaxis\":{\"endlinecolor\":\"#2a3f5f\",\"gridcolor\":\"white\",\"linecolor\":\"white\",\"minorgridcolor\":\"white\",\"startlinecolor\":\"#2a3f5f\"},\"baxis\":{\"endlinecolor\":\"#2a3f5f\",\"gridcolor\":\"white\",\"linecolor\":\"white\",\"minorgridcolor\":\"white\",\"startlinecolor\":\"#2a3f5f\"},\"type\":\"carpet\"}],\"table\":[{\"cells\":{\"fill\":{\"color\":\"#EBF0F8\"},\"line\":{\"color\":\"white\"}},\"header\":{\"fill\":{\"color\":\"#C8D4E3\"},\"line\":{\"color\":\"white\"}},\"type\":\"table\"}],\"barpolar\":[{\"marker\":{\"line\":{\"color\":\"#E5ECF6\",\"width\":0.5},\"pattern\":{\"fillmode\":\"overlay\",\"size\":10,\"solidity\":0.2}},\"type\":\"barpolar\"}],\"pie\":[{\"automargin\":true,\"type\":\"pie\"}]},\"layout\":{\"autotypenumbers\":\"strict\",\"colorway\":[\"#636efa\",\"#EF553B\",\"#00cc96\",\"#ab63fa\",\"#FFA15A\",\"#19d3f3\",\"#FF6692\",\"#B6E880\",\"#FF97FF\",\"#FECB52\"],\"font\":{\"color\":\"#2a3f5f\"},\"hovermode\":\"closest\",\"hoverlabel\":{\"align\":\"left\"},\"paper_bgcolor\":\"white\",\"plot_bgcolor\":\"#E5ECF6\",\"polar\":{\"bgcolor\":\"#E5ECF6\",\"angularaxis\":{\"gridcolor\":\"white\",\"linecolor\":\"white\",\"ticks\":\"\"},\"radialaxis\":{\"gridcolor\":\"white\",\"linecolor\":\"white\",\"ticks\":\"\"}},\"ternary\":{\"bgcolor\":\"#E5ECF6\",\"aaxis\":{\"gridcolor\":\"white\",\"linecolor\":\"white\",\"ticks\":\"\"},\"baxis\":{\"gridcolor\":\"white\",\"linecolor\":\"white\",\"ticks\":\"\"},\"caxis\":{\"gridcolor\":\"white\",\"linecolor\":\"white\",\"ticks\":\"\"}},\"coloraxis\":{\"colorbar\":{\"outlinewidth\":0,\"ticks\":\"\"}},\"colorscale\":{\"sequential\":[[0.0,\"#0d0887\"],[0.1111111111111111,\"#46039f\"],[0.2222222222222222,\"#7201a8\"],[0.3333333333333333,\"#9c179e\"],[0.4444444444444444,\"#bd3786\"],[0.5555555555555556,\"#d8576b\"],[0.6666666666666666,\"#ed7953\"],[0.7777777777777778,\"#fb9f3a\"],[0.8888888888888888,\"#fdca26\"],[1.0,\"#f0f921\"]],\"sequentialminus\":[[0.0,\"#0d0887\"],[0.1111111111111111,\"#46039f\"],[0.2222222222222222,\"#7201a8\"],[0.3333333333333333,\"#9c179e\"],[0.4444444444444444,\"#bd3786\"],[0.5555555555555556,\"#d8576b\"],[0.6666666666666666,\"#ed7953\"],[0.7777777777777778,\"#fb9f3a\"],[0.8888888888888888,\"#fdca26\"],[1.0,\"#f0f921\"]],\"diverging\":[[0,\"#8e0152\"],[0.1,\"#c51b7d\"],[0.2,\"#de77ae\"],[0.3,\"#f1b6da\"],[0.4,\"#fde0ef\"],[0.5,\"#f7f7f7\"],[0.6,\"#e6f5d0\"],[0.7,\"#b8e186\"],[0.8,\"#7fbc41\"],[0.9,\"#4d9221\"],[1,\"#276419\"]]},\"xaxis\":{\"gridcolor\":\"white\",\"linecolor\":\"white\",\"ticks\":\"\",\"title\":{\"standoff\":15},\"zerolinecolor\":\"white\",\"automargin\":true,\"zerolinewidth\":2},\"yaxis\":{\"gridcolor\":\"white\",\"linecolor\":\"white\",\"ticks\":\"\",\"title\":{\"standoff\":15},\"zerolinecolor\":\"white\",\"automargin\":true,\"zerolinewidth\":2},\"scene\":{\"xaxis\":{\"backgroundcolor\":\"#E5ECF6\",\"gridcolor\":\"white\",\"linecolor\":\"white\",\"showbackground\":true,\"ticks\":\"\",\"zerolinecolor\":\"white\",\"gridwidth\":2},\"yaxis\":{\"backgroundcolor\":\"#E5ECF6\",\"gridcolor\":\"white\",\"linecolor\":\"white\",\"showbackground\":true,\"ticks\":\"\",\"zerolinecolor\":\"white\",\"gridwidth\":2},\"zaxis\":{\"backgroundcolor\":\"#E5ECF6\",\"gridcolor\":\"white\",\"linecolor\":\"white\",\"showbackground\":true,\"ticks\":\"\",\"zerolinecolor\":\"white\",\"gridwidth\":2}},\"shapedefaults\":{\"line\":{\"color\":\"#2a3f5f\"}},\"annotationdefaults\":{\"arrowcolor\":\"#2a3f5f\",\"arrowhead\":0,\"arrowwidth\":1},\"geo\":{\"bgcolor\":\"white\",\"landcolor\":\"#E5ECF6\",\"subunitcolor\":\"white\",\"showland\":true,\"showlakes\":true,\"lakecolor\":\"white\"},\"title\":{\"x\":0.05},\"mapbox\":{\"style\":\"light\"}}},\"xaxis\":{\"anchor\":\"y\",\"domain\":[0.0,1.0],\"title\":{\"text\":\"index\"}},\"yaxis\":{\"anchor\":\"x\",\"domain\":[0.0,1.0],\"title\":{\"text\":\"value\"}},\"legend\":{\"title\":{\"text\":\"variable\"},\"tracegroupgap\":0},\"margin\":{\"t\":60},\"barmode\":\"relative\"},                        {\"responsive\": true}                    ).then(function(){\n",
       "                            \n",
       "var gd = document.getElementById('6cc3d050-c750-4aa0-8088-e8aa4050977d');\n",
       "var x = new MutationObserver(function (mutations, observer) {{\n",
       "        var display = window.getComputedStyle(gd).display;\n",
       "        if (!display || display === 'none') {{\n",
       "            console.log([gd, 'removed!']);\n",
       "            Plotly.purge(gd);\n",
       "            observer.disconnect();\n",
       "        }}\n",
       "}});\n",
       "\n",
       "// Listen for the removal of the full notebook cells\n",
       "var notebookContainer = gd.closest('#notebook-container');\n",
       "if (notebookContainer) {{\n",
       "    x.observe(notebookContainer, {childList: true});\n",
       "}}\n",
       "\n",
       "// Listen for the clearing of the current output cell\n",
       "var outputEl = gd.closest('.output');\n",
       "if (outputEl) {{\n",
       "    x.observe(outputEl, {childList: true});\n",
       "}}\n",
       "\n",
       "                        })                };                });            </script>        </div>"
      ]
     },
     "metadata": {},
     "output_type": "display_data"
    }
   ],
   "source": [
    "px.bar(range_by_period.client_union_id)"
   ]
  },
  {
   "cell_type": "code",
   "execution_count": null,
   "id": "e32d3d09",
   "metadata": {},
   "outputs": [],
   "source": []
  }
 ],
 "metadata": {
  "kernelspec": {
   "display_name": "Python 3 (ipykernel)",
   "language": "python",
   "name": "python3"
  },
  "language_info": {
   "codemirror_mode": {
    "name": "ipython",
    "version": 3
   },
   "file_extension": ".py",
   "mimetype": "text/x-python",
   "name": "python",
   "nbconvert_exporter": "python",
   "pygments_lexer": "ipython3",
   "version": "3.9.13"
  }
 },
 "nbformat": 4,
 "nbformat_minor": 5
}
